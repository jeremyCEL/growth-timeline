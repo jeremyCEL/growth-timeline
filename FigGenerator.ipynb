{
 "cells": [
  {
   "cell_type": "code",
   "execution_count": 16,
   "metadata": {
    "collapsed": true
   },
   "outputs": [],
   "source": [
    "sys.path.insert(0, \"/Users/jeremythaller/Documents/python-scripts/GoogleSheetsAPI\")\n",
    "from google_conn import *\n",
    "from database_conn import BackOffice, Veritas\n",
    "# import cdf as pd\n",
    "import pandas as pd\n",
    "bo = BackOffice()\n",
    "ver = Veritas()\n",
    "import plotly\n",
    "import datetime as dt\n",
    "from datetime import date"
   ]
  },
  {
   "cell_type": "code",
   "execution_count": 41,
   "outputs": [],
   "source": [
    "def excel_date(date1):\n",
    "    return str(dt.datetime(1899, 12, 30)\n",
    "            + dt.timedelta(days=date1))"
   ],
   "metadata": {
    "collapsed": false,
    "pycharm": {
     "name": "#%%\n"
    }
   }
  },
  {
   "cell_type": "markdown",
   "source": [
    "Pull data from the Growth Dashboard Sheet"
   ],
   "metadata": {
    "collapsed": false
   }
  },
  {
   "cell_type": "code",
   "execution_count": 93,
   "outputs": [
    {
     "data": {
      "text/plain": "     Registration Date  Registrations  Passed KYC  Made a Deposit  \\\n0  2021-01-01 00:00:00           2257        1651            1049   \n1  2021-01-02 00:00:00           3922        2561            1474   \n2  2021-01-03 00:00:00           4621        2969            1619   \n3  2021-01-04 00:00:00           3285        2324            1362   \n4  2021-01-05 00:00:00           3197        2297            1354   \n\n   Bought Coin  Made a Swap  Took a Loan  Total KYC Incomplete  \\\n0          255           33           90                   606   \n1          419           60          119                  1361   \n2          465           42          116                  1652   \n3          316           41          116                   961   \n4          309           42          128                   900   \n\n   Completed Authentification  Verified Indentity  Confirmed Location  \\\n0                         304                 190                 161   \n1                         691                 459                 390   \n2                         841                 589                 503   \n3                         493                 323                 275   \n4                         479                 314                 266   \n\n   Reg to KYC Passed %  Reg to Deposit %  KYC to Deposit %     BTC Price  \n0             0.731502          0.464776          0.635373  29344.673831  \n1             0.652983          0.375829          0.575556  32072.078133  \n2             0.642502          0.350357          0.545301  33048.027784  \n3             0.707458          0.414612          0.586059  32084.607546  \n4             0.718486          0.423522          0.589465  34105.463383  ",
      "text/html": "<div>\n<style scoped>\n    .dataframe tbody tr th:only-of-type {\n        vertical-align: middle;\n    }\n\n    .dataframe tbody tr th {\n        vertical-align: top;\n    }\n\n    .dataframe thead th {\n        text-align: right;\n    }\n</style>\n<table border=\"1\" class=\"dataframe\">\n  <thead>\n    <tr style=\"text-align: right;\">\n      <th></th>\n      <th>Registration Date</th>\n      <th>Registrations</th>\n      <th>Passed KYC</th>\n      <th>Made a Deposit</th>\n      <th>Bought Coin</th>\n      <th>Made a Swap</th>\n      <th>Took a Loan</th>\n      <th>Total KYC Incomplete</th>\n      <th>Completed Authentification</th>\n      <th>Verified Indentity</th>\n      <th>Confirmed Location</th>\n      <th>Reg to KYC Passed %</th>\n      <th>Reg to Deposit %</th>\n      <th>KYC to Deposit %</th>\n      <th>BTC Price</th>\n    </tr>\n  </thead>\n  <tbody>\n    <tr>\n      <th>0</th>\n      <td>2021-01-01 00:00:00</td>\n      <td>2257</td>\n      <td>1651</td>\n      <td>1049</td>\n      <td>255</td>\n      <td>33</td>\n      <td>90</td>\n      <td>606</td>\n      <td>304</td>\n      <td>190</td>\n      <td>161</td>\n      <td>0.731502</td>\n      <td>0.464776</td>\n      <td>0.635373</td>\n      <td>29344.673831</td>\n    </tr>\n    <tr>\n      <th>1</th>\n      <td>2021-01-02 00:00:00</td>\n      <td>3922</td>\n      <td>2561</td>\n      <td>1474</td>\n      <td>419</td>\n      <td>60</td>\n      <td>119</td>\n      <td>1361</td>\n      <td>691</td>\n      <td>459</td>\n      <td>390</td>\n      <td>0.652983</td>\n      <td>0.375829</td>\n      <td>0.575556</td>\n      <td>32072.078133</td>\n    </tr>\n    <tr>\n      <th>2</th>\n      <td>2021-01-03 00:00:00</td>\n      <td>4621</td>\n      <td>2969</td>\n      <td>1619</td>\n      <td>465</td>\n      <td>42</td>\n      <td>116</td>\n      <td>1652</td>\n      <td>841</td>\n      <td>589</td>\n      <td>503</td>\n      <td>0.642502</td>\n      <td>0.350357</td>\n      <td>0.545301</td>\n      <td>33048.027784</td>\n    </tr>\n    <tr>\n      <th>3</th>\n      <td>2021-01-04 00:00:00</td>\n      <td>3285</td>\n      <td>2324</td>\n      <td>1362</td>\n      <td>316</td>\n      <td>41</td>\n      <td>116</td>\n      <td>961</td>\n      <td>493</td>\n      <td>323</td>\n      <td>275</td>\n      <td>0.707458</td>\n      <td>0.414612</td>\n      <td>0.586059</td>\n      <td>32084.607546</td>\n    </tr>\n    <tr>\n      <th>4</th>\n      <td>2021-01-05 00:00:00</td>\n      <td>3197</td>\n      <td>2297</td>\n      <td>1354</td>\n      <td>309</td>\n      <td>42</td>\n      <td>128</td>\n      <td>900</td>\n      <td>479</td>\n      <td>314</td>\n      <td>266</td>\n      <td>0.718486</td>\n      <td>0.423522</td>\n      <td>0.589465</td>\n      <td>34105.463383</td>\n    </tr>\n  </tbody>\n</table>\n</div>"
     },
     "execution_count": 93,
     "metadata": {},
     "output_type": "execute_result"
    }
   ],
   "source": [
    "GROWTH_DASH_SHEET_ID = '12f8T3_w-eO4vfT3UkoD2ErSCbGwFnEVF44C9Ya96QnA'\n",
    "dash_table = GoogleSheets(spreadsheetId=GROWTH_DASH_SHEET_ID)\n",
    "result = dash_table.batchGet(ranges=['A1:O'])\n",
    "data = result[0].get('values')\n",
    "df = pd.DataFrame(data[1:], columns=[x.replace('\\n', ' ') for x in data[0]])\n",
    "df['Registration Date'] = df['Registration Date'].apply(excel_date)\n",
    "df.head()"
   ],
   "metadata": {
    "collapsed": false,
    "pycharm": {
     "name": "#%%\n"
    }
   }
  },
  {
   "cell_type": "markdown",
   "source": [],
   "metadata": {
    "collapsed": false
   }
  },
  {
   "cell_type": "code",
   "execution_count": 43,
   "outputs": [
    {
     "data": {
      "text/plain": "                  Date                                              Event\n0  2021-01-01 00:00:00  BTC Rate: From 6.39% to 6.2 up to 2 BTC and 4....\n1  2021-01-02 00:00:00                                               None\n2  2021-01-03 00:00:00                                               None\n3  2021-01-04 00:00:00                                               None\n4  2021-01-05 00:00:00                                               None",
      "text/html": "<div>\n<style scoped>\n    .dataframe tbody tr th:only-of-type {\n        vertical-align: middle;\n    }\n\n    .dataframe tbody tr th {\n        vertical-align: top;\n    }\n\n    .dataframe thead th {\n        text-align: right;\n    }\n</style>\n<table border=\"1\" class=\"dataframe\">\n  <thead>\n    <tr style=\"text-align: right;\">\n      <th></th>\n      <th>Date</th>\n      <th>Event</th>\n    </tr>\n  </thead>\n  <tbody>\n    <tr>\n      <th>0</th>\n      <td>2021-01-01 00:00:00</td>\n      <td>BTC Rate: From 6.39% to 6.2 up to 2 BTC and 4....</td>\n    </tr>\n    <tr>\n      <th>1</th>\n      <td>2021-01-02 00:00:00</td>\n      <td>None</td>\n    </tr>\n    <tr>\n      <th>2</th>\n      <td>2021-01-03 00:00:00</td>\n      <td>None</td>\n    </tr>\n    <tr>\n      <th>3</th>\n      <td>2021-01-04 00:00:00</td>\n      <td>None</td>\n    </tr>\n    <tr>\n      <th>4</th>\n      <td>2021-01-05 00:00:00</td>\n      <td>None</td>\n    </tr>\n  </tbody>\n</table>\n</div>"
     },
     "execution_count": 43,
     "metadata": {},
     "output_type": "execute_result"
    }
   ],
   "source": [
    "EVENT_SHEET_ID = '1yNG7vAk5jtnd28oNawzZhz3woFEgune2U3iZUmcySiA'\n",
    "event_table = GoogleSheets(spreadsheetId=EVENT_SHEET_ID)\n",
    "result = event_table.batchGet(ranges=['A1:C'])\n",
    "data = result[0].get('values')\n",
    "df2 = pd.DataFrame(data[1:], columns=[x.replace('\\n', ' ') for x in data[0]])\n",
    "df2['Date'] = df2['Date'].apply(excel_date)\n",
    "df2.head()"
   ],
   "metadata": {
    "collapsed": false,
    "pycharm": {
     "name": "#%%\n"
    }
   }
  },
  {
   "cell_type": "code",
   "execution_count": 122,
   "outputs": [],
   "source": [
    "df_temp = df2[~df2['Event'].isna()]\n",
    "dates = df_temp.Date\n",
    "df_events = df[df[\"Registration Date\"].isin(df_temp.Date)]\n",
    "df_events = df_events.merge(df_temp, left_on=\"Registration Date\", right_on=\"Date\")"
   ],
   "metadata": {
    "collapsed": false,
    "pycharm": {
     "name": "#%%\n"
    }
   }
  },
  {
   "cell_type": "code",
   "execution_count": 123,
   "outputs": [
    {
     "data": {
      "text/plain": "      Registration Date  Registrations  Passed KYC  Made a Deposit  \\\n0   2021-01-01 00:00:00           2257        1651            1049   \n1   2021-01-15 00:00:00           2107        1406             818   \n2   2021-02-06 00:00:00           2816        1834            1071   \n3   2021-02-09 00:00:00           4125        3024            1658   \n4   2021-03-06 00:00:00           2272        1675             997   \n5   2021-04-03 00:00:00           2956        2056            1088   \n6   2021-04-20 00:00:00           2823        1950             869   \n7   2021-05-12 00:00:00           4174        3103            1502   \n8   2021-05-18 00:00:00           3597        2618            1289   \n9   2021-05-20 00:00:00           3006        2203            1089   \n10  2021-05-31 00:00:00           2634        1867            1120   \n11  2021-06-21 00:00:00           1544        1050             603   \n12  2021-06-28 00:00:00           1855        1267             707   \n13  2021-07-03 00:00:00           2627        1899            1267   \n14  2021-07-20 00:00:00           1720        1199             737   \n15  2021-08-01 00:00:00           2663        1749            1100   \n16  2021-08-04 00:00:00           2604        1649            1010   \n17  2021-08-12 00:00:00           2604        1681             959   \n18  2021-08-27 00:00:00           3850        2454            1332   \n19  2021-09-02 00:00:00           4791        2958            1611   \n20  2021-09-08 00:00:00           4665        2793            1352   \n21  2021-09-13 00:00:00           3803        2360            1180   \n22  2021-09-20 00:00:00           3280        1927             954   \n23  2021-10-02 00:00:00           2828        1666             921   \n24  2021-10-31 00:00:00           3978        2332            1159   \n25  2021-11-12 00:00:00           4166        2511            1164   \n26  2021-11-13 00:00:00           4256        2593            1261   \n27  2021-11-18 00:00:00           3633        2204            1032   \n28  2021-12-02 00:00:00           3348        1985             918   \n29  2021-12-03 00:00:00           2980        1707             827   \n\n    Bought Coin  Made a Swap  Took a Loan  Total KYC Incomplete  \\\n0           255           33           90                   606   \n1           190           24           66                   701   \n2           220           28           77                   982   \n3           339           43          131                  1101   \n4           151           41           73                   597   \n5           151           38           94                   900   \n6           124           30           74                   873   \n7           265           73           98                  1071   \n8           202           44           65                   979   \n9           191           43           76                   803   \n10          190           39           70                   767   \n11           88           16           45                   494   \n12          100           28           54                   588   \n13          182           84          159                   728   \n14          100           33           54                   521   \n15          143           34           68                   914   \n16          124           36           89                   955   \n17          134           26           53                   923   \n18          178           61          101                  1396   \n19          197           52           80                  1833   \n20          184           36           72                  1872   \n21          164           28           65                  1443   \n22          124           27           53                  1353   \n23           74           31           53                  1162   \n24          154           33           64                  1646   \n25          162           30           47                  1655   \n26          183           31           47                  1663   \n27          153           23           36                  1429   \n28          132            2           31                  1363   \n29          134            2           29                  1273   \n\n    Completed Authentification  Verified Indentity  Confirmed Location  \\\n0                          304                 190                 161   \n1                          360                 225                 196   \n2                          321                 218                 193   \n3                          438                 286                 252   \n4                          292                 177                 156   \n5                          377                 251                 222   \n6                          318                 202                 172   \n7                          519                 325                 284   \n8                          441                 284                 246   \n9                          395                 267                 239   \n10                         371                 234                 215   \n11                         261                 161                 148   \n12                         289                 199                 180   \n13                         389                 289                 267   \n14                         257                 187                 177   \n15                         435                 305                 280   \n16                         463                 296                 268   \n17                         421                 290                 264   \n18                         637                 463                 424   \n19                         952                 550                 498   \n20                         947                 629                 559   \n21                         845                 546                 487   \n22                         759                 498                 438   \n23                         635                 422                 371   \n24                         967                 704                 586   \n25                         944                 642                 538   \n26                         955                 667                 553   \n27                         815                 548                 446   \n28                         786                 550                 449   \n29                         819                 569                 479   \n\n    Reg to KYC Passed %  Reg to Deposit %  KYC to Deposit %     BTC Price  \\\n0              0.731502          0.464776          0.635373  29344.673831   \n1              0.667299          0.388230          0.581792  36705.814268   \n2              0.651278          0.380327          0.583969  39150.618516   \n3              0.733091          0.401939          0.548280  46398.460101   \n4              0.737236          0.438820          0.595224  48858.552058   \n5              0.695535          0.368065          0.529183  57165.971462   \n6              0.690755          0.307829          0.445641  56581.488654   \n7              0.743412          0.359847          0.484048  51300.622147   \n8              0.727829          0.358354          0.492361  43122.034319   \n9              0.732868          0.362275          0.494326  40564.507643   \n10             0.708808          0.425209          0.599893  37366.183321   \n11             0.680052          0.390544          0.574286  31716.448139   \n12             0.683019          0.381132          0.558011  34482.805356   \n13             0.722878          0.482299          0.667193  34680.584321   \n14             0.697093          0.428488          0.614679  29834.519787   \n15             0.656778          0.413068          0.628931  40057.845140   \n16             0.633257          0.387865          0.612492  39802.492927   \n17             0.645545          0.368280          0.570494  44486.782121   \n18             0.637403          0.345974          0.542787  49079.375937   \n19             0.617408          0.336255          0.544625  49362.536759   \n20             0.598714          0.289818          0.484067  46125.210292   \n21             0.620563          0.310281          0.500000  45098.415308   \n22             0.587500          0.290854          0.495070  42980.492224   \n23             0.589109          0.325672          0.552821  47720.559213   \n24             0.586224          0.291352          0.496998  61410.279983   \n25             0.602736          0.279405          0.463560  64263.419496   \n26             0.609258          0.296288          0.486309  64590.212948   \n27             0.606661          0.284063          0.468240  56907.934470   \n28             0.592891          0.274194          0.462469  56448.379349   \n29             0.572819          0.277517          0.484476  53821.988753   \n\n                   Date                                              Event  \n0   2021-01-01 00:00:00  BTC Rate: From 6.39% to 6.2 up to 2 BTC and 4....  \n1   2021-01-15 00:00:00     BTC rate to 4.7% from 4.5% for more than 2 BTC  \n2   2021-02-06 00:00:00                Started Sending Welcome email again  \n3   2021-02-09 00:00:00                   Elon Musk BTC pump +10K in 1 day  \n4   2021-03-06 00:00:00       BTC rate to 4% from 4.7% for more than 2 BTC  \n5   2021-04-03 00:00:00       BTC rate to 3.5% from 4% for more than 2 BTC  \n6   2021-04-20 00:00:00    Started sending Drip campagin to KYC not passed  \n7   2021-05-12 00:00:00                                          BTC crash  \n8   2021-05-18 00:00:00                                            CEL ATH  \n9   2021-05-20 00:00:00                                        MA v4.8.0@9  \n10  2021-05-31 00:00:00                                           UK Block  \n11  2021-06-21 00:00:00                    CEL down more than 50% from ATH  \n12  2021-06-28 00:00:00         New York and Washington from 70% to 20% CR  \n13  2021-07-03 00:00:00  BTC rate to 6.2% up to 1 BTC from 2 BTC + ETH ...  \n14  2021-07-20 00:00:00                                         BTC bottom  \n15  2021-08-01 00:00:00  Started sending Drip campagins to KYC passed -...  \n16  2021-08-04 00:00:00  ToU / PP / Cookies Policy / $50+$50 / Appsflye...  \n17  2021-08-12 00:00:00                Website announcing California Loans  \n18  2021-08-27 00:00:00                               WS 1.0.7 ADA release  \n19  2021-09-02 00:00:00      Adding the webapp sign up flow to the website  \n20  2021-09-08 00:00:00                                            BTC ATH  \n21  2021-09-13 00:00:00                                     Kentucky Block  \n22  2021-09-20 00:00:00                       adding ETH promotional rates  \n23  2021-10-02 00:00:00  ETH rate to 3.5% for more than 100 ETH from 5.05%  \n24  2021-10-31 00:00:00  CTR to signup page start down trend from 12% t...  \n25  2021-11-12 00:00:00         New stablecoins promotion and rate updates  \n26  2021-11-13 00:00:00  BTC rate to 6.2% up to 0.25 BTC  and 3.05% for...  \n27  2021-11-18 00:00:00  Update BTC rewards rates | Customer Care main ...  \n28  2021-12-02 00:00:00                              Transition to Next.js  \n29  2021-12-03 00:00:00                                          BTC Crash  ",
      "text/html": "<div>\n<style scoped>\n    .dataframe tbody tr th:only-of-type {\n        vertical-align: middle;\n    }\n\n    .dataframe tbody tr th {\n        vertical-align: top;\n    }\n\n    .dataframe thead th {\n        text-align: right;\n    }\n</style>\n<table border=\"1\" class=\"dataframe\">\n  <thead>\n    <tr style=\"text-align: right;\">\n      <th></th>\n      <th>Registration Date</th>\n      <th>Registrations</th>\n      <th>Passed KYC</th>\n      <th>Made a Deposit</th>\n      <th>Bought Coin</th>\n      <th>Made a Swap</th>\n      <th>Took a Loan</th>\n      <th>Total KYC Incomplete</th>\n      <th>Completed Authentification</th>\n      <th>Verified Indentity</th>\n      <th>Confirmed Location</th>\n      <th>Reg to KYC Passed %</th>\n      <th>Reg to Deposit %</th>\n      <th>KYC to Deposit %</th>\n      <th>BTC Price</th>\n      <th>Date</th>\n      <th>Event</th>\n    </tr>\n  </thead>\n  <tbody>\n    <tr>\n      <th>0</th>\n      <td>2021-01-01 00:00:00</td>\n      <td>2257</td>\n      <td>1651</td>\n      <td>1049</td>\n      <td>255</td>\n      <td>33</td>\n      <td>90</td>\n      <td>606</td>\n      <td>304</td>\n      <td>190</td>\n      <td>161</td>\n      <td>0.731502</td>\n      <td>0.464776</td>\n      <td>0.635373</td>\n      <td>29344.673831</td>\n      <td>2021-01-01 00:00:00</td>\n      <td>BTC Rate: From 6.39% to 6.2 up to 2 BTC and 4....</td>\n    </tr>\n    <tr>\n      <th>1</th>\n      <td>2021-01-15 00:00:00</td>\n      <td>2107</td>\n      <td>1406</td>\n      <td>818</td>\n      <td>190</td>\n      <td>24</td>\n      <td>66</td>\n      <td>701</td>\n      <td>360</td>\n      <td>225</td>\n      <td>196</td>\n      <td>0.667299</td>\n      <td>0.388230</td>\n      <td>0.581792</td>\n      <td>36705.814268</td>\n      <td>2021-01-15 00:00:00</td>\n      <td>BTC rate to 4.7% from 4.5% for more than 2 BTC</td>\n    </tr>\n    <tr>\n      <th>2</th>\n      <td>2021-02-06 00:00:00</td>\n      <td>2816</td>\n      <td>1834</td>\n      <td>1071</td>\n      <td>220</td>\n      <td>28</td>\n      <td>77</td>\n      <td>982</td>\n      <td>321</td>\n      <td>218</td>\n      <td>193</td>\n      <td>0.651278</td>\n      <td>0.380327</td>\n      <td>0.583969</td>\n      <td>39150.618516</td>\n      <td>2021-02-06 00:00:00</td>\n      <td>Started Sending Welcome email again</td>\n    </tr>\n    <tr>\n      <th>3</th>\n      <td>2021-02-09 00:00:00</td>\n      <td>4125</td>\n      <td>3024</td>\n      <td>1658</td>\n      <td>339</td>\n      <td>43</td>\n      <td>131</td>\n      <td>1101</td>\n      <td>438</td>\n      <td>286</td>\n      <td>252</td>\n      <td>0.733091</td>\n      <td>0.401939</td>\n      <td>0.548280</td>\n      <td>46398.460101</td>\n      <td>2021-02-09 00:00:00</td>\n      <td>Elon Musk BTC pump +10K in 1 day</td>\n    </tr>\n    <tr>\n      <th>4</th>\n      <td>2021-03-06 00:00:00</td>\n      <td>2272</td>\n      <td>1675</td>\n      <td>997</td>\n      <td>151</td>\n      <td>41</td>\n      <td>73</td>\n      <td>597</td>\n      <td>292</td>\n      <td>177</td>\n      <td>156</td>\n      <td>0.737236</td>\n      <td>0.438820</td>\n      <td>0.595224</td>\n      <td>48858.552058</td>\n      <td>2021-03-06 00:00:00</td>\n      <td>BTC rate to 4% from 4.7% for more than 2 BTC</td>\n    </tr>\n    <tr>\n      <th>5</th>\n      <td>2021-04-03 00:00:00</td>\n      <td>2956</td>\n      <td>2056</td>\n      <td>1088</td>\n      <td>151</td>\n      <td>38</td>\n      <td>94</td>\n      <td>900</td>\n      <td>377</td>\n      <td>251</td>\n      <td>222</td>\n      <td>0.695535</td>\n      <td>0.368065</td>\n      <td>0.529183</td>\n      <td>57165.971462</td>\n      <td>2021-04-03 00:00:00</td>\n      <td>BTC rate to 3.5% from 4% for more than 2 BTC</td>\n    </tr>\n    <tr>\n      <th>6</th>\n      <td>2021-04-20 00:00:00</td>\n      <td>2823</td>\n      <td>1950</td>\n      <td>869</td>\n      <td>124</td>\n      <td>30</td>\n      <td>74</td>\n      <td>873</td>\n      <td>318</td>\n      <td>202</td>\n      <td>172</td>\n      <td>0.690755</td>\n      <td>0.307829</td>\n      <td>0.445641</td>\n      <td>56581.488654</td>\n      <td>2021-04-20 00:00:00</td>\n      <td>Started sending Drip campagin to KYC not passed</td>\n    </tr>\n    <tr>\n      <th>7</th>\n      <td>2021-05-12 00:00:00</td>\n      <td>4174</td>\n      <td>3103</td>\n      <td>1502</td>\n      <td>265</td>\n      <td>73</td>\n      <td>98</td>\n      <td>1071</td>\n      <td>519</td>\n      <td>325</td>\n      <td>284</td>\n      <td>0.743412</td>\n      <td>0.359847</td>\n      <td>0.484048</td>\n      <td>51300.622147</td>\n      <td>2021-05-12 00:00:00</td>\n      <td>BTC crash</td>\n    </tr>\n    <tr>\n      <th>8</th>\n      <td>2021-05-18 00:00:00</td>\n      <td>3597</td>\n      <td>2618</td>\n      <td>1289</td>\n      <td>202</td>\n      <td>44</td>\n      <td>65</td>\n      <td>979</td>\n      <td>441</td>\n      <td>284</td>\n      <td>246</td>\n      <td>0.727829</td>\n      <td>0.358354</td>\n      <td>0.492361</td>\n      <td>43122.034319</td>\n      <td>2021-05-18 00:00:00</td>\n      <td>CEL ATH</td>\n    </tr>\n    <tr>\n      <th>9</th>\n      <td>2021-05-20 00:00:00</td>\n      <td>3006</td>\n      <td>2203</td>\n      <td>1089</td>\n      <td>191</td>\n      <td>43</td>\n      <td>76</td>\n      <td>803</td>\n      <td>395</td>\n      <td>267</td>\n      <td>239</td>\n      <td>0.732868</td>\n      <td>0.362275</td>\n      <td>0.494326</td>\n      <td>40564.507643</td>\n      <td>2021-05-20 00:00:00</td>\n      <td>MA v4.8.0@9</td>\n    </tr>\n    <tr>\n      <th>10</th>\n      <td>2021-05-31 00:00:00</td>\n      <td>2634</td>\n      <td>1867</td>\n      <td>1120</td>\n      <td>190</td>\n      <td>39</td>\n      <td>70</td>\n      <td>767</td>\n      <td>371</td>\n      <td>234</td>\n      <td>215</td>\n      <td>0.708808</td>\n      <td>0.425209</td>\n      <td>0.599893</td>\n      <td>37366.183321</td>\n      <td>2021-05-31 00:00:00</td>\n      <td>UK Block</td>\n    </tr>\n    <tr>\n      <th>11</th>\n      <td>2021-06-21 00:00:00</td>\n      <td>1544</td>\n      <td>1050</td>\n      <td>603</td>\n      <td>88</td>\n      <td>16</td>\n      <td>45</td>\n      <td>494</td>\n      <td>261</td>\n      <td>161</td>\n      <td>148</td>\n      <td>0.680052</td>\n      <td>0.390544</td>\n      <td>0.574286</td>\n      <td>31716.448139</td>\n      <td>2021-06-21 00:00:00</td>\n      <td>CEL down more than 50% from ATH</td>\n    </tr>\n    <tr>\n      <th>12</th>\n      <td>2021-06-28 00:00:00</td>\n      <td>1855</td>\n      <td>1267</td>\n      <td>707</td>\n      <td>100</td>\n      <td>28</td>\n      <td>54</td>\n      <td>588</td>\n      <td>289</td>\n      <td>199</td>\n      <td>180</td>\n      <td>0.683019</td>\n      <td>0.381132</td>\n      <td>0.558011</td>\n      <td>34482.805356</td>\n      <td>2021-06-28 00:00:00</td>\n      <td>New York and Washington from 70% to 20% CR</td>\n    </tr>\n    <tr>\n      <th>13</th>\n      <td>2021-07-03 00:00:00</td>\n      <td>2627</td>\n      <td>1899</td>\n      <td>1267</td>\n      <td>182</td>\n      <td>84</td>\n      <td>159</td>\n      <td>728</td>\n      <td>389</td>\n      <td>289</td>\n      <td>267</td>\n      <td>0.722878</td>\n      <td>0.482299</td>\n      <td>0.667193</td>\n      <td>34680.584321</td>\n      <td>2021-07-03 00:00:00</td>\n      <td>BTC rate to 6.2% up to 1 BTC from 2 BTC + ETH ...</td>\n    </tr>\n    <tr>\n      <th>14</th>\n      <td>2021-07-20 00:00:00</td>\n      <td>1720</td>\n      <td>1199</td>\n      <td>737</td>\n      <td>100</td>\n      <td>33</td>\n      <td>54</td>\n      <td>521</td>\n      <td>257</td>\n      <td>187</td>\n      <td>177</td>\n      <td>0.697093</td>\n      <td>0.428488</td>\n      <td>0.614679</td>\n      <td>29834.519787</td>\n      <td>2021-07-20 00:00:00</td>\n      <td>BTC bottom</td>\n    </tr>\n    <tr>\n      <th>15</th>\n      <td>2021-08-01 00:00:00</td>\n      <td>2663</td>\n      <td>1749</td>\n      <td>1100</td>\n      <td>143</td>\n      <td>34</td>\n      <td>68</td>\n      <td>914</td>\n      <td>435</td>\n      <td>305</td>\n      <td>280</td>\n      <td>0.656778</td>\n      <td>0.413068</td>\n      <td>0.628931</td>\n      <td>40057.845140</td>\n      <td>2021-08-01 00:00:00</td>\n      <td>Started sending Drip campagins to KYC passed -...</td>\n    </tr>\n    <tr>\n      <th>16</th>\n      <td>2021-08-04 00:00:00</td>\n      <td>2604</td>\n      <td>1649</td>\n      <td>1010</td>\n      <td>124</td>\n      <td>36</td>\n      <td>89</td>\n      <td>955</td>\n      <td>463</td>\n      <td>296</td>\n      <td>268</td>\n      <td>0.633257</td>\n      <td>0.387865</td>\n      <td>0.612492</td>\n      <td>39802.492927</td>\n      <td>2021-08-04 00:00:00</td>\n      <td>ToU / PP / Cookies Policy / $50+$50 / Appsflye...</td>\n    </tr>\n    <tr>\n      <th>17</th>\n      <td>2021-08-12 00:00:00</td>\n      <td>2604</td>\n      <td>1681</td>\n      <td>959</td>\n      <td>134</td>\n      <td>26</td>\n      <td>53</td>\n      <td>923</td>\n      <td>421</td>\n      <td>290</td>\n      <td>264</td>\n      <td>0.645545</td>\n      <td>0.368280</td>\n      <td>0.570494</td>\n      <td>44486.782121</td>\n      <td>2021-08-12 00:00:00</td>\n      <td>Website announcing California Loans</td>\n    </tr>\n    <tr>\n      <th>18</th>\n      <td>2021-08-27 00:00:00</td>\n      <td>3850</td>\n      <td>2454</td>\n      <td>1332</td>\n      <td>178</td>\n      <td>61</td>\n      <td>101</td>\n      <td>1396</td>\n      <td>637</td>\n      <td>463</td>\n      <td>424</td>\n      <td>0.637403</td>\n      <td>0.345974</td>\n      <td>0.542787</td>\n      <td>49079.375937</td>\n      <td>2021-08-27 00:00:00</td>\n      <td>WS 1.0.7 ADA release</td>\n    </tr>\n    <tr>\n      <th>19</th>\n      <td>2021-09-02 00:00:00</td>\n      <td>4791</td>\n      <td>2958</td>\n      <td>1611</td>\n      <td>197</td>\n      <td>52</td>\n      <td>80</td>\n      <td>1833</td>\n      <td>952</td>\n      <td>550</td>\n      <td>498</td>\n      <td>0.617408</td>\n      <td>0.336255</td>\n      <td>0.544625</td>\n      <td>49362.536759</td>\n      <td>2021-09-02 00:00:00</td>\n      <td>Adding the webapp sign up flow to the website</td>\n    </tr>\n    <tr>\n      <th>20</th>\n      <td>2021-09-08 00:00:00</td>\n      <td>4665</td>\n      <td>2793</td>\n      <td>1352</td>\n      <td>184</td>\n      <td>36</td>\n      <td>72</td>\n      <td>1872</td>\n      <td>947</td>\n      <td>629</td>\n      <td>559</td>\n      <td>0.598714</td>\n      <td>0.289818</td>\n      <td>0.484067</td>\n      <td>46125.210292</td>\n      <td>2021-09-08 00:00:00</td>\n      <td>BTC ATH</td>\n    </tr>\n    <tr>\n      <th>21</th>\n      <td>2021-09-13 00:00:00</td>\n      <td>3803</td>\n      <td>2360</td>\n      <td>1180</td>\n      <td>164</td>\n      <td>28</td>\n      <td>65</td>\n      <td>1443</td>\n      <td>845</td>\n      <td>546</td>\n      <td>487</td>\n      <td>0.620563</td>\n      <td>0.310281</td>\n      <td>0.500000</td>\n      <td>45098.415308</td>\n      <td>2021-09-13 00:00:00</td>\n      <td>Kentucky Block</td>\n    </tr>\n    <tr>\n      <th>22</th>\n      <td>2021-09-20 00:00:00</td>\n      <td>3280</td>\n      <td>1927</td>\n      <td>954</td>\n      <td>124</td>\n      <td>27</td>\n      <td>53</td>\n      <td>1353</td>\n      <td>759</td>\n      <td>498</td>\n      <td>438</td>\n      <td>0.587500</td>\n      <td>0.290854</td>\n      <td>0.495070</td>\n      <td>42980.492224</td>\n      <td>2021-09-20 00:00:00</td>\n      <td>adding ETH promotional rates</td>\n    </tr>\n    <tr>\n      <th>23</th>\n      <td>2021-10-02 00:00:00</td>\n      <td>2828</td>\n      <td>1666</td>\n      <td>921</td>\n      <td>74</td>\n      <td>31</td>\n      <td>53</td>\n      <td>1162</td>\n      <td>635</td>\n      <td>422</td>\n      <td>371</td>\n      <td>0.589109</td>\n      <td>0.325672</td>\n      <td>0.552821</td>\n      <td>47720.559213</td>\n      <td>2021-10-02 00:00:00</td>\n      <td>ETH rate to 3.5% for more than 100 ETH from 5.05%</td>\n    </tr>\n    <tr>\n      <th>24</th>\n      <td>2021-10-31 00:00:00</td>\n      <td>3978</td>\n      <td>2332</td>\n      <td>1159</td>\n      <td>154</td>\n      <td>33</td>\n      <td>64</td>\n      <td>1646</td>\n      <td>967</td>\n      <td>704</td>\n      <td>586</td>\n      <td>0.586224</td>\n      <td>0.291352</td>\n      <td>0.496998</td>\n      <td>61410.279983</td>\n      <td>2021-10-31 00:00:00</td>\n      <td>CTR to signup page start down trend from 12% t...</td>\n    </tr>\n    <tr>\n      <th>25</th>\n      <td>2021-11-12 00:00:00</td>\n      <td>4166</td>\n      <td>2511</td>\n      <td>1164</td>\n      <td>162</td>\n      <td>30</td>\n      <td>47</td>\n      <td>1655</td>\n      <td>944</td>\n      <td>642</td>\n      <td>538</td>\n      <td>0.602736</td>\n      <td>0.279405</td>\n      <td>0.463560</td>\n      <td>64263.419496</td>\n      <td>2021-11-12 00:00:00</td>\n      <td>New stablecoins promotion and rate updates</td>\n    </tr>\n    <tr>\n      <th>26</th>\n      <td>2021-11-13 00:00:00</td>\n      <td>4256</td>\n      <td>2593</td>\n      <td>1261</td>\n      <td>183</td>\n      <td>31</td>\n      <td>47</td>\n      <td>1663</td>\n      <td>955</td>\n      <td>667</td>\n      <td>553</td>\n      <td>0.609258</td>\n      <td>0.296288</td>\n      <td>0.486309</td>\n      <td>64590.212948</td>\n      <td>2021-11-13 00:00:00</td>\n      <td>BTC rate to 6.2% up to 0.25 BTC  and 3.05% for...</td>\n    </tr>\n    <tr>\n      <th>27</th>\n      <td>2021-11-18 00:00:00</td>\n      <td>3633</td>\n      <td>2204</td>\n      <td>1032</td>\n      <td>153</td>\n      <td>23</td>\n      <td>36</td>\n      <td>1429</td>\n      <td>815</td>\n      <td>548</td>\n      <td>446</td>\n      <td>0.606661</td>\n      <td>0.284063</td>\n      <td>0.468240</td>\n      <td>56907.934470</td>\n      <td>2021-11-18 00:00:00</td>\n      <td>Update BTC rewards rates | Customer Care main ...</td>\n    </tr>\n    <tr>\n      <th>28</th>\n      <td>2021-12-02 00:00:00</td>\n      <td>3348</td>\n      <td>1985</td>\n      <td>918</td>\n      <td>132</td>\n      <td>2</td>\n      <td>31</td>\n      <td>1363</td>\n      <td>786</td>\n      <td>550</td>\n      <td>449</td>\n      <td>0.592891</td>\n      <td>0.274194</td>\n      <td>0.462469</td>\n      <td>56448.379349</td>\n      <td>2021-12-02 00:00:00</td>\n      <td>Transition to Next.js</td>\n    </tr>\n    <tr>\n      <th>29</th>\n      <td>2021-12-03 00:00:00</td>\n      <td>2980</td>\n      <td>1707</td>\n      <td>827</td>\n      <td>134</td>\n      <td>2</td>\n      <td>29</td>\n      <td>1273</td>\n      <td>819</td>\n      <td>569</td>\n      <td>479</td>\n      <td>0.572819</td>\n      <td>0.277517</td>\n      <td>0.484476</td>\n      <td>53821.988753</td>\n      <td>2021-12-03 00:00:00</td>\n      <td>BTC Crash</td>\n    </tr>\n  </tbody>\n</table>\n</div>"
     },
     "execution_count": 123,
     "metadata": {},
     "output_type": "execute_result"
    }
   ],
   "source": [
    "df_events"
   ],
   "metadata": {
    "collapsed": false,
    "pycharm": {
     "name": "#%%\n"
    }
   }
  },
  {
   "cell_type": "code",
   "execution_count": 126,
   "outputs": [],
   "source": [
    "# write the file\n",
    "fig.write_html(\"index.html\")"
   ],
   "metadata": {
    "collapsed": false,
    "pycharm": {
     "name": "#%%\n"
    }
   }
  },
  {
   "cell_type": "code",
   "execution_count": 125,
   "outputs": [
    {
     "data": {
      "application/vnd.plotly.v1+json": {
       "data": [
        {
         "hovertemplate": "Registration Date=%{x}<br>y=%{y}<extra></extra>",
         "legendgroup": "",
         "line": {
          "color": "rgba(50,50,50,0.2)",
          "dash": "solid"
         },
         "marker": {
          "symbol": "circle"
         },
         "mode": "lines",
         "name": "",
         "orientation": "v",
         "showlegend": false,
         "x": [
          "2021-01-01 00:00:00",
          "2021-01-02 00:00:00",
          "2021-01-03 00:00:00",
          "2021-01-04 00:00:00",
          "2021-01-05 00:00:00",
          "2021-01-06 00:00:00",
          "2021-01-07 00:00:00",
          "2021-01-08 00:00:00",
          "2021-01-09 00:00:00",
          "2021-01-10 00:00:00",
          "2021-01-11 00:00:00",
          "2021-01-12 00:00:00",
          "2021-01-13 00:00:00",
          "2021-01-14 00:00:00",
          "2021-01-15 00:00:00",
          "2021-01-16 00:00:00",
          "2021-01-17 00:00:00",
          "2021-01-18 00:00:00",
          "2021-01-19 00:00:00",
          "2021-01-20 00:00:00",
          "2021-01-21 00:00:00",
          "2021-01-22 00:00:00",
          "2021-01-23 00:00:00",
          "2021-01-24 00:00:00",
          "2021-01-25 00:00:00",
          "2021-01-26 00:00:00",
          "2021-01-27 00:00:00",
          "2021-01-28 00:00:00",
          "2021-01-29 00:00:00",
          "2021-01-30 00:00:00",
          "2021-01-31 00:00:00",
          "2021-02-01 00:00:00",
          "2021-02-02 00:00:00",
          "2021-02-03 00:00:00",
          "2021-02-04 00:00:00",
          "2021-02-05 00:00:00",
          "2021-02-06 00:00:00",
          "2021-02-07 00:00:00",
          "2021-02-08 00:00:00",
          "2021-02-09 00:00:00",
          "2021-02-10 00:00:00",
          "2021-02-11 00:00:00",
          "2021-02-12 00:00:00",
          "2021-02-13 00:00:00",
          "2021-02-14 00:00:00",
          "2021-02-15 00:00:00",
          "2021-02-16 00:00:00",
          "2021-02-17 00:00:00",
          "2021-02-18 00:00:00",
          "2021-02-19 00:00:00",
          "2021-02-20 00:00:00",
          "2021-02-21 00:00:00",
          "2021-02-22 00:00:00",
          "2021-02-23 00:00:00",
          "2021-02-24 00:00:00",
          "2021-02-25 00:00:00",
          "2021-02-26 00:00:00",
          "2021-02-27 00:00:00",
          "2021-02-28 00:00:00",
          "2021-03-01 00:00:00",
          "2021-03-02 00:00:00",
          "2021-03-03 00:00:00",
          "2021-03-04 00:00:00",
          "2021-03-05 00:00:00",
          "2021-03-06 00:00:00",
          "2021-03-07 00:00:00",
          "2021-03-08 00:00:00",
          "2021-03-09 00:00:00",
          "2021-03-10 00:00:00",
          "2021-03-11 00:00:00",
          "2021-03-12 00:00:00",
          "2021-03-13 00:00:00",
          "2021-03-14 00:00:00",
          "2021-03-15 00:00:00",
          "2021-03-16 00:00:00",
          "2021-03-17 00:00:00",
          "2021-03-18 00:00:00",
          "2021-03-19 00:00:00",
          "2021-03-20 00:00:00",
          "2021-03-21 00:00:00",
          "2021-03-22 00:00:00",
          "2021-03-23 00:00:00",
          "2021-03-24 00:00:00",
          "2021-03-25 00:00:00",
          "2021-03-26 00:00:00",
          "2021-03-27 00:00:00",
          "2021-03-28 00:00:00",
          "2021-03-29 00:00:00",
          "2021-03-30 00:00:00",
          "2021-03-31 00:00:00",
          "2021-04-01 00:00:00",
          "2021-04-02 00:00:00",
          "2021-04-03 00:00:00",
          "2021-04-04 00:00:00",
          "2021-04-05 00:00:00",
          "2021-04-06 00:00:00",
          "2021-04-07 00:00:00",
          "2021-04-08 00:00:00",
          "2021-04-09 00:00:00",
          "2021-04-10 00:00:00",
          "2021-04-11 00:00:00",
          "2021-04-12 00:00:00",
          "2021-04-13 00:00:00",
          "2021-04-14 00:00:00",
          "2021-04-15 00:00:00",
          "2021-04-16 00:00:00",
          "2021-04-17 00:00:00",
          "2021-04-18 00:00:00",
          "2021-04-19 00:00:00",
          "2021-04-20 00:00:00",
          "2021-04-21 00:00:00",
          "2021-04-22 00:00:00",
          "2021-04-23 00:00:00",
          "2021-04-24 00:00:00",
          "2021-04-25 00:00:00",
          "2021-04-26 00:00:00",
          "2021-04-27 00:00:00",
          "2021-04-28 00:00:00",
          "2021-04-29 00:00:00",
          "2021-04-30 00:00:00",
          "2021-05-01 00:00:00",
          "2021-05-02 00:00:00",
          "2021-05-03 00:00:00",
          "2021-05-04 00:00:00",
          "2021-05-05 00:00:00",
          "2021-05-06 00:00:00",
          "2021-05-07 00:00:00",
          "2021-05-08 00:00:00",
          "2021-05-09 00:00:00",
          "2021-05-10 00:00:00",
          "2021-05-11 00:00:00",
          "2021-05-12 00:00:00",
          "2021-05-13 00:00:00",
          "2021-05-14 00:00:00",
          "2021-05-15 00:00:00",
          "2021-05-16 00:00:00",
          "2021-05-17 00:00:00",
          "2021-05-18 00:00:00",
          "2021-05-19 00:00:00",
          "2021-05-20 00:00:00",
          "2021-05-21 00:00:00",
          "2021-05-22 00:00:00",
          "2021-05-23 00:00:00",
          "2021-05-24 00:00:00",
          "2021-05-25 00:00:00",
          "2021-05-26 00:00:00",
          "2021-05-27 00:00:00",
          "2021-05-28 00:00:00",
          "2021-05-29 00:00:00",
          "2021-05-30 00:00:00",
          "2021-05-31 00:00:00",
          "2021-06-01 00:00:00",
          "2021-06-02 00:00:00",
          "2021-06-03 00:00:00",
          "2021-06-04 00:00:00",
          "2021-06-05 00:00:00",
          "2021-06-06 00:00:00",
          "2021-06-07 00:00:00",
          "2021-06-08 00:00:00",
          "2021-06-09 00:00:00",
          "2021-06-10 00:00:00",
          "2021-06-11 00:00:00",
          "2021-06-12 00:00:00",
          "2021-06-13 00:00:00",
          "2021-06-14 00:00:00",
          "2021-06-15 00:00:00",
          "2021-06-16 00:00:00",
          "2021-06-17 00:00:00",
          "2021-06-18 00:00:00",
          "2021-06-19 00:00:00",
          "2021-06-20 00:00:00",
          "2021-06-21 00:00:00",
          "2021-06-22 00:00:00",
          "2021-06-23 00:00:00",
          "2021-06-24 00:00:00",
          "2021-06-25 00:00:00",
          "2021-06-26 00:00:00",
          "2021-06-27 00:00:00",
          "2021-06-28 00:00:00",
          "2021-06-29 00:00:00",
          "2021-06-30 00:00:00",
          "2021-07-01 00:00:00",
          "2021-07-02 00:00:00",
          "2021-07-03 00:00:00",
          "2021-07-04 00:00:00",
          "2021-07-05 00:00:00",
          "2021-07-06 00:00:00",
          "2021-07-07 00:00:00",
          "2021-07-08 00:00:00",
          "2021-07-09 00:00:00",
          "2021-07-10 00:00:00",
          "2021-07-11 00:00:00",
          "2021-07-12 00:00:00",
          "2021-07-13 00:00:00",
          "2021-07-14 00:00:00",
          "2021-07-15 00:00:00",
          "2021-07-16 00:00:00",
          "2021-07-17 00:00:00",
          "2021-07-18 00:00:00",
          "2021-07-19 00:00:00",
          "2021-07-20 00:00:00",
          "2021-07-21 00:00:00",
          "2021-07-22 00:00:00",
          "2021-07-23 00:00:00",
          "2021-07-24 00:00:00",
          "2021-07-25 00:00:00",
          "2021-07-26 00:00:00",
          "2021-07-27 00:00:00",
          "2021-07-28 00:00:00",
          "2021-07-29 00:00:00",
          "2021-07-30 00:00:00",
          "2021-07-31 00:00:00",
          "2021-08-01 00:00:00",
          "2021-08-02 00:00:00",
          "2021-08-03 00:00:00",
          "2021-08-04 00:00:00",
          "2021-08-05 00:00:00",
          "2021-08-06 00:00:00",
          "2021-08-07 00:00:00",
          "2021-08-08 00:00:00",
          "2021-08-09 00:00:00",
          "2021-08-10 00:00:00",
          "2021-08-11 00:00:00",
          "2021-08-12 00:00:00",
          "2021-08-13 00:00:00",
          "2021-08-14 00:00:00",
          "2021-08-15 00:00:00",
          "2021-08-16 00:00:00",
          "2021-08-17 00:00:00",
          "2021-08-18 00:00:00",
          "2021-08-19 00:00:00",
          "2021-08-20 00:00:00",
          "2021-08-21 00:00:00",
          "2021-08-22 00:00:00",
          "2021-08-23 00:00:00",
          "2021-08-24 00:00:00",
          "2021-08-25 00:00:00",
          "2021-08-26 00:00:00",
          "2021-08-27 00:00:00",
          "2021-08-28 00:00:00",
          "2021-08-29 00:00:00",
          "2021-08-30 00:00:00",
          "2021-08-31 00:00:00",
          "2021-09-01 00:00:00",
          "2021-09-02 00:00:00",
          "2021-09-03 00:00:00",
          "2021-09-04 00:00:00",
          "2021-09-05 00:00:00",
          "2021-09-06 00:00:00",
          "2021-09-07 00:00:00",
          "2021-09-08 00:00:00",
          "2021-09-09 00:00:00",
          "2021-09-10 00:00:00",
          "2021-09-11 00:00:00",
          "2021-09-12 00:00:00",
          "2021-09-13 00:00:00",
          "2021-09-14 00:00:00",
          "2021-09-15 00:00:00",
          "2021-09-16 00:00:00",
          "2021-09-17 00:00:00",
          "2021-09-18 00:00:00",
          "2021-09-19 00:00:00",
          "2021-09-20 00:00:00",
          "2021-09-21 00:00:00",
          "2021-09-22 00:00:00",
          "2021-09-23 00:00:00",
          "2021-09-24 00:00:00",
          "2021-09-25 00:00:00",
          "2021-09-26 00:00:00",
          "2021-09-27 00:00:00",
          "2021-09-28 00:00:00",
          "2021-09-29 00:00:00",
          "2021-09-30 00:00:00",
          "2021-10-01 00:00:00",
          "2021-10-02 00:00:00",
          "2021-10-03 00:00:00",
          "2021-10-04 00:00:00",
          "2021-10-05 00:00:00",
          "2021-10-06 00:00:00",
          "2021-10-07 00:00:00",
          "2021-10-08 00:00:00",
          "2021-10-09 00:00:00",
          "2021-10-10 00:00:00",
          "2021-10-11 00:00:00",
          "2021-10-12 00:00:00",
          "2021-10-13 00:00:00",
          "2021-10-14 00:00:00",
          "2021-10-15 00:00:00",
          "2021-10-16 00:00:00",
          "2021-10-17 00:00:00",
          "2021-10-18 00:00:00",
          "2021-10-19 00:00:00",
          "2021-10-20 00:00:00",
          "2021-10-21 00:00:00",
          "2021-10-22 00:00:00",
          "2021-10-23 00:00:00",
          "2021-10-24 00:00:00",
          "2021-10-25 00:00:00",
          "2021-10-26 00:00:00",
          "2021-10-27 00:00:00",
          "2021-10-28 00:00:00",
          "2021-10-29 00:00:00",
          "2021-10-30 00:00:00",
          "2021-10-31 00:00:00",
          "2021-11-01 00:00:00",
          "2021-11-02 00:00:00",
          "2021-11-03 00:00:00",
          "2021-11-04 00:00:00",
          "2021-11-05 00:00:00",
          "2021-11-06 00:00:00",
          "2021-11-07 00:00:00",
          "2021-11-08 00:00:00",
          "2021-11-09 00:00:00",
          "2021-11-10 00:00:00",
          "2021-11-11 00:00:00",
          "2021-11-12 00:00:00",
          "2021-11-13 00:00:00",
          "2021-11-14 00:00:00",
          "2021-11-15 00:00:00",
          "2021-11-16 00:00:00",
          "2021-11-17 00:00:00",
          "2021-11-18 00:00:00",
          "2021-11-19 00:00:00",
          "2021-11-20 00:00:00",
          "2021-11-21 00:00:00",
          "2021-11-22 00:00:00",
          "2021-11-23 00:00:00",
          "2021-11-24 00:00:00",
          "2021-11-25 00:00:00",
          "2021-11-26 00:00:00",
          "2021-11-27 00:00:00",
          "2021-11-28 00:00:00",
          "2021-11-29 00:00:00",
          "2021-11-30 00:00:00",
          "2021-12-01 00:00:00",
          "2021-12-02 00:00:00",
          "2021-12-03 00:00:00",
          "2021-12-04 00:00:00",
          "2021-12-05 00:00:00",
          "2021-12-06 00:00:00",
          "2021-12-07 00:00:00",
          "2021-12-08 00:00:00",
          "2021-12-09 00:00:00",
          "2021-12-10 00:00:00",
          "2021-12-11 00:00:00",
          "2021-12-12 00:00:00",
          "2021-12-13 00:00:00",
          "2021-12-14 00:00:00",
          "2021-12-15 00:00:00",
          "2021-12-16 00:00:00",
          "2021-12-17 00:00:00",
          "2021-12-18 00:00:00",
          "2021-12-19 00:00:00",
          "2021-12-20 00:00:00",
          "2021-12-21 00:00:00",
          "2021-12-22 00:00:00",
          "2021-12-23 00:00:00",
          "2021-12-24 00:00:00",
          "2021-12-25 00:00:00",
          "2021-12-26 00:00:00",
          "2021-12-27 00:00:00",
          "2021-12-28 00:00:00",
          "2021-12-29 00:00:00",
          "2021-12-30 00:00:00",
          "2021-12-31 00:00:00",
          "2022-01-01 00:00:00",
          "2022-01-02 00:00:00",
          "2022-01-03 00:00:00",
          "2022-01-04 00:00:00",
          "2022-01-05 00:00:00",
          "2022-01-06 00:00:00",
          "2022-01-07 00:00:00",
          "2022-01-08 00:00:00",
          "2022-01-09 00:00:00",
          "2022-01-10 00:00:00",
          "2022-01-11 00:00:00",
          "2022-01-12 00:00:00",
          "2022-01-13 00:00:00",
          "2022-01-14 00:00:00",
          "2022-01-15 00:00:00",
          "2022-01-16 00:00:00",
          "2022-01-17 00:00:00",
          "2022-01-18 00:00:00",
          "2022-01-19 00:00:00",
          "2022-01-20 00:00:00",
          "2022-01-21 00:00:00",
          "2022-01-22 00:00:00",
          "2022-01-23 00:00:00",
          "2022-01-24 00:00:00",
          "2022-01-25 00:00:00",
          "2022-01-26 00:00:00",
          "2022-01-27 00:00:00",
          "2022-01-28 00:00:00",
          "2022-01-29 00:00:00",
          "2022-01-30 00:00:00",
          "2022-01-31 00:00:00",
          "2022-02-01 00:00:00",
          "2022-02-02 00:00:00",
          "2022-02-03 00:00:00",
          "2022-02-04 00:00:00",
          "2022-02-05 00:00:00",
          "2022-02-06 00:00:00",
          "2022-02-07 00:00:00",
          "2022-02-08 00:00:00",
          "2022-02-09 00:00:00",
          "2022-02-10 00:00:00",
          "2022-02-11 00:00:00",
          "2022-02-12 00:00:00",
          "2022-02-13 00:00:00",
          "2022-02-14 00:00:00",
          "2022-02-15 00:00:00",
          "2022-02-16 00:00:00",
          "2022-02-17 00:00:00",
          "2022-02-18 00:00:00",
          "2022-02-19 00:00:00",
          "2022-02-20 00:00:00",
          "2022-02-21 00:00:00",
          "2022-02-22 00:00:00",
          "2022-02-23 00:00:00",
          "2022-02-24 00:00:00",
          "2022-02-25 00:00:00",
          "2022-02-26 00:00:00",
          "2022-02-27 00:00:00",
          "2022-02-28 00:00:00",
          "2022-03-01 00:00:00",
          "2022-03-02 00:00:00",
          "2022-03-03 00:00:00",
          "2022-03-04 00:00:00",
          "2022-03-05 00:00:00",
          "2022-03-06 00:00:00"
         ],
         "xaxis": "x",
         "y": [
          0.0769134464737408,
          0.12228705554024669,
          0.1398268008683826,
          0.10238554407450984,
          0.09373864721057397,
          0.08266012686187674,
          0.08479830657311722,
          0.07848579484595308,
          0.07309854199343514,
          0.08687072741686454,
          0.07195656467974276,
          0.07119542043607624,
          0.056521211393551804,
          0.058457018652167604,
          0.05740235006426803,
          0.060199064350914246,
          0.06347277341851489,
          0.05436492923772733,
          0.06859209978916217,
          0.06034820925493254,
          0.061543391627695475,
          0.05556957127646819,
          0.05684007544531635,
          0.06309373309408742,
          0.06165045872789277,
          0.0520900651440294,
          0.052823626819392906,
          0.05207222235113721,
          0.07089530100182323,
          0.06931698007307066,
          0.07817586894836866,
          0.07083635397680169,
          0.06930235115020365,
          0.07791117842122053,
          0.07903692842313895,
          0.07329950704195297,
          0.07192734385150118,
          0.0734746209794299,
          0.08037277628297165,
          0.08890381256202232,
          0.09496193476041934,
          0.08749653526915055,
          0.08183329691464275,
          0.0791460022833876,
          0.07233752947226435,
          0.07745056476790192,
          0.07402342872044175,
          0.0748669547501155,
          0.07129782020157542,
          0.06726263897277261,
          0.08061762762455113,
          0.07215423606595198,
          0.06223651629089342,
          0.05030486312441692,
          0.053600549837111114,
          0.057641895974291285,
          0.05793374698994871,
          0.06048880935466601,
          0.05702488301866598,
          0.050702519291858615,
          0.047376543476938725,
          0.04107933042093416,
          0.04411974706438854,
          0.041157844157286134,
          0.04650158271762296,
          0.049696060705887855,
          0.053688596143158566,
          0.05773412102914998,
          0.05071671845649406,
          0.04772058145923587,
          0.047317066316227986,
          0.051290285966759656,
          0.049467181034855985,
          0.0485563626998948,
          0.04330424876376056,
          0.043026587119526664,
          0.04387144086110521,
          0.04138266938551855,
          0.03951291732941988,
          0.03924815003691976,
          0.041840307293600214,
          0.0400634498336357,
          0.051105605811008356,
          0.05106440017535552,
          0.041904529961414326,
          0.0412326205530533,
          0.04558603750612589,
          0.05888284776345533,
          0.05695906585694469,
          0.059683456081823266,
          0.051739703928686494,
          0.04893646789991898,
          0.05170908364556034,
          0.05333648664934115,
          0.06552459166286001,
          0.06292125179079408,
          0.06871931074053095,
          0.05478014466498182,
          0.04838329007863949,
          0.0483549161290851,
          0.048953717746974094,
          0.053085345837998864,
          0.060573974782502205,
          0.06299016115559662,
          0.06080521701269052,
          0.06174683636524329,
          0.05409654743244218,
          0.05389156468106997,
          0.0561575203238955,
          0.04989264275572267,
          0.056264468395126124,
          0.05817806894246165,
          0.04916537537226751,
          0.049259739363458836,
          0.0478961157303686,
          0.054569222065059465,
          0.0670332461534443,
          0.06191199830810792,
          0.057494710731532346,
          0.05318465148991993,
          0.0657543449878189,
          0.06490339381791527,
          0.07382126683114694,
          0.0631517982742891,
          0.0661967293682817,
          0.0725739085656295,
          0.0667200153893384,
          0.07044271158772927,
          0.07188146302453996,
          0.07793753529181063,
          0.0646512703919102,
          0.08136353567016943,
          0.07257637803389429,
          0.0715097637097373,
          0.07961706764478178,
          0.07209598806537991,
          0.06752126267095926,
          0.08341443201440406,
          0.08720026696818241,
          0.07410419045259431,
          0.08043165921313232,
          0.07119155625299008,
          0.0698865231067551,
          0.07179948912185195,
          0.08470606882492537,
          0.09159514623132757,
          0.07893169421524154,
          0.07407232720698691,
          0.06348125177433425,
          0.06078741742861659,
          0.07049154518586992,
          0.06645754878789432,
          0.06712994709360753,
          0.07174811547261531,
          0.07138933051939884,
          0.06744257378922858,
          0.06413745306611009,
          0.07787724695310637,
          0.05995562659108911,
          0.05227392281903119,
          0.053245513591340096,
          0.04797816088192842,
          0.04668641385180568,
          0.041171034590732285,
          0.045376111517027286,
          0.04727177132092009,
          0.047057933054707894,
          0.042119070542443446,
          0.04906981769812371,
          0.04023442220237129,
          0.043648498508871876,
          0.048681365367410016,
          0.04800617846273298,
          0.047725868949171926,
          0.044713918525931415,
          0.049908073544583896,
          0.05564787475822161,
          0.051404215619873184,
          0.05379492709088327,
          0.059608595951501794,
          0.05667991686467081,
          0.062359680027463976,
          0.06604452925576451,
          0.07574843536934618,
          0.06751284579164346,
          0.07063963355932495,
          0.06371921889929587,
          0.0622847669746689,
          0.05383378973911637,
          0.051929176382883316,
          0.048180307731600105,
          0.044142824707078344,
          0.05171720641924664,
          0.05114045648816281,
          0.05253919401068145,
          0.05268419001156216,
          0.051970698546451644,
          0.047627952227072064,
          0.051939459656216554,
          0.05321264298530845,
          0.057651338526876386,
          0.052871294213708696,
          0.053295831794105936,
          0.05804341527668786,
          0.05554684753962245,
          0.057101148053090064,
          0.05889104799560026,
          0.04931092314318498,
          0.07980975069870659,
          0.07599098803163527,
          0.059374341504066584,
          0.06007209152245626,
          0.06647886302097519,
          0.0681425184131267,
          0.06831261806649679,
          0.06542303781692178,
          0.0638774948211449,
          0.0695850931028963,
          0.061118466266289626,
          0.06532744865426447,
          0.05560020696178223,
          0.06340945985833299,
          0.06826741901313851,
          0.05853424041586329,
          0.05580895360586502,
          0.058321695731421944,
          0.061877627398388604,
          0.07078421669177798,
          0.06826594160543291,
          0.06325179845996372,
          0.0650288635832872,
          0.06375706814236351,
          0.0708624356605186,
          0.0695922329227955,
          0.07447876575213691,
          0.07580713755205026,
          0.08329431109845715,
          0.07745231065872955,
          0.07844435522011255,
          0.09495070910681905,
          0.08627581643973321,
          0.08819061461675029,
          0.0860615993251314,
          0.09807801039680973,
          0.09705741063046953,
          0.10168821069036443,
          0.08989938663774355,
          0.08682055764509469,
          0.09718015237841239,
          0.10044313567333275,
          0.10113775027626479,
          0.10756600542192321,
          0.07918777326136303,
          0.07067755300211787,
          0.07620098980134098,
          0.08432668806728708,
          0.07999036793835672,
          0.07319862220421772,
          0.07463958953536791,
          0.07079796431730596,
          0.0663875607917064,
          0.0752295271686748,
          0.07631369093986291,
          0.07664231164725482,
          0.06948469614240407,
          0.07079371146924936,
          0.06539681459144209,
          0.05904368995982636,
          0.05829509155249,
          0.0664812337060233,
          0.06729157170400114,
          0.06498371651045524,
          0.06083217477369694,
          0.059411320289054624,
          0.05926166932304942,
          0.06060670331717899,
          0.06007062083278547,
          0.06341023354686726,
          0.059169874704243695,
          0.06397339747754513,
          0.05813307617412755,
          0.0555900970763213,
          0.057954463623319734,
          0.05932810887427339,
          0.06363174369171444,
          0.061305893870926324,
          0.06090336069532166,
          0.05868118700365314,
          0.06226135317410184,
          0.062485452817043506,
          0.07014217251331743,
          0.05683798817976385,
          0.06319851543627746,
          0.06598941135175106,
          0.05947373276499625,
          0.060654278015372834,
          0.06214889898202702,
          0.06399637862905112,
          0.06305233399549418,
          0.08253740444134566,
          0.1075309833169517,
          0.07731204958050251,
          0.0688792527780389,
          0.06477742816141348,
          0.07094389375062121,
          0.07562707608976901,
          0.07109075625459449,
          0.0642161410967652,
          0.05999075418960468,
          0.057607772494115514,
          0.06329502107011764,
          0.05996469701989786,
          0.06488377219167789,
          0.06625690273077654,
          0.06396473279920681,
          0.06482692693111115,
          0.0658923357851092,
          0.06662909984147657,
          0.06577058436455259,
          0.06767547159698575,
          0.06788607806924572,
          0.06383995542644104,
          0.06127081187844792,
          0.056607575810237155,
          0.06599865704541726,
          0.06514080788620918,
          0.06272025386487813,
          0.06376245170095197,
          0.0640497400970099,
          0.06303697825425895,
          0.05728862771901745,
          0.05562525758323405,
          0.06001040704077981,
          0.06138626053553591,
          0.061065060679217284,
          0.05931082590144374,
          0.055367705078233,
          0.07087385694749815,
          0.06269507713782047,
          0.0554348152942145,
          0.05616908197597963,
          0.053423942988145,
          0.05920222834252038,
          0.05932801689499781,
          0.05714101616828354,
          0.06095095096597447,
          0.06935019268374025,
          0.06404876754253841,
          0.060402854729238786,
          0.05412539781036601,
          0.04997552993062014,
          0.04642266367687285,
          0.04819907743810994,
          0.05078719143134975,
          0.049970641463676815,
          0.050579921188622645,
          0.04559137485764642,
          0.04415330193108136,
          0.04198769607459286,
          0.04961930569838874,
          0.06007173212639399,
          0.06043412143280604,
          0.05637178121375251,
          0.05532973164558951,
          0.06092096023046964,
          0.05924132341654997,
          0.07182649225839646,
          0.07608756055356257,
          0.07138495677516184,
          0.07392553919310614,
          0.06998698825800172,
          0.07477525064812922,
          0.07119765442825865,
          0.0752321966860711,
          0.06821243372321548,
          0.06882524439002663,
          0.0713727316248572,
          0.07027713641226953,
          0.0658284842211173,
          0.06879155315583824,
          0.07089842433425028,
          0.06972512801360789,
          0.06584478064142744,
          0.0639154951662743,
          0.061009878292385335,
          0.06656339236817965,
          0.07124964999322948,
          0.07031549041299416,
          0.0682729906400708,
          0.06615516497659908,
          0.06491471332005203,
          0.06010003676644651,
          0.059136532483218276,
          0.06394885745218061,
          0.063669876175276,
          0.059972801811589926,
          0.06404565393120654,
          0.06681742935136839,
          0.06737629548593478,
          0.05605206085761201,
          0.05284757513590419,
          0.056214902805243834,
          0.06084124109978575,
          0.08123244527866302,
          0.07096048664994278,
          0.06676710125888237,
          0.059267692830800495,
          0.05416072625123638,
          0.05895970172060771,
          0.05425903966872682,
          0.05433091617991986,
          0.051622047291708835,
          0.05516991469665306,
          0.04826934294268955,
          0.04596884259682595,
          0.0523703103067762,
          0.05730717169481521,
          0.04874597392074189,
          0.04916309988698769,
          0.0449771031605046,
          0.04202971638328156,
          0.04509396942500824,
          0.05282707643142101,
          0.049119585628146056,
          0.05352303997533148,
          0.04399592959618145,
          0.05767849321820016,
          0.06310096463060835,
          0.04856865167861348,
          null
         ],
         "yaxis": "y",
         "type": "scatter"
        },
        {
         "customdata": [
          [
           "BTC Rate: From 6.39% to 6.2 up to 2 BTC and 4.5% for the rest"
          ],
          [
           "BTC rate to 4.7% from 4.5% for more than 2 BTC"
          ],
          [
           "Started Sending Welcome email again"
          ],
          [
           "Elon Musk BTC pump +10K in 1 day"
          ],
          [
           "BTC rate to 4% from 4.7% for more than 2 BTC"
          ],
          [
           "BTC rate to 3.5% from 4% for more than 2 BTC"
          ],
          [
           "Started sending Drip campagin to KYC not passed"
          ],
          [
           "BTC crash"
          ],
          [
           "CEL ATH"
          ],
          [
           "MA v4.8.0@9"
          ],
          [
           "UK Block"
          ],
          [
           "CEL down more than 50% from ATH"
          ],
          [
           "New York and Washington from 70% to 20% CR"
          ],
          [
           "BTC rate to 6.2% up to 1 BTC from 2 BTC + ETH rate to 5.35% up to 100 ETH and 5.05% for the rest"
          ],
          [
           "BTC bottom"
          ],
          [
           "Started sending Drip campagins to KYC passed - No Deposit"
          ],
          [
           "ToU / PP / Cookies Policy / $50+$50 / Appsflyer link"
          ],
          [
           "Website announcing California Loans"
          ],
          [
           "WS 1.0.7 ADA release"
          ],
          [
           "Adding the webapp sign up flow to the website"
          ],
          [
           "BTC ATH"
          ],
          [
           "Kentucky Block"
          ],
          [
           "adding ETH promotional rates"
          ],
          [
           "ETH rate to 3.5% for more than 100 ETH from 5.05%"
          ],
          [
           "CTR to signup page start down trend from 12% to 6%"
          ],
          [
           "New stablecoins promotion and rate updates"
          ],
          [
           "BTC rate to 6.2% up to 0.25 BTC  and 3.05% for the rest"
          ],
          [
           "Update BTC rewards rates | Customer Care main page update"
          ],
          [
           "Transition to Next.js"
          ],
          [
           "BTC Crash"
          ]
         ],
         "hovertemplate": "Registration Date=%{x}<br>y=%{y}<br>Event=%{customdata[0]}<extra></extra>",
         "legendgroup": "",
         "marker": {
          "color": "#636efa",
          "symbol": "circle"
         },
         "mode": "markers",
         "name": "",
         "orientation": "v",
         "showlegend": false,
         "x": [
          "2021-01-01 00:00:00",
          "2021-01-15 00:00:00",
          "2021-02-06 00:00:00",
          "2021-02-09 00:00:00",
          "2021-03-06 00:00:00",
          "2021-04-03 00:00:00",
          "2021-04-20 00:00:00",
          "2021-05-12 00:00:00",
          "2021-05-18 00:00:00",
          "2021-05-20 00:00:00",
          "2021-05-31 00:00:00",
          "2021-06-21 00:00:00",
          "2021-06-28 00:00:00",
          "2021-07-03 00:00:00",
          "2021-07-20 00:00:00",
          "2021-08-01 00:00:00",
          "2021-08-04 00:00:00",
          "2021-08-12 00:00:00",
          "2021-08-27 00:00:00",
          "2021-09-02 00:00:00",
          "2021-09-08 00:00:00",
          "2021-09-13 00:00:00",
          "2021-09-20 00:00:00",
          "2021-10-02 00:00:00",
          "2021-10-31 00:00:00",
          "2021-11-12 00:00:00",
          "2021-11-13 00:00:00",
          "2021-11-18 00:00:00",
          "2021-12-02 00:00:00",
          "2021-12-03 00:00:00"
         ],
         "xaxis": "x",
         "y": [
          0.0769134464737408,
          0.05740235006426803,
          0.07192734385150118,
          0.08890381256202232,
          0.04650158271762296,
          0.05170908364556034,
          0.04989264275572267,
          0.08136353567016943,
          0.08341443201440406,
          0.07410419045259431,
          0.07049154518586992,
          0.048681365367410016,
          0.05379492709088327,
          0.07574843536934618,
          0.057651338526876386,
          0.06647886302097519,
          0.06542303781692178,
          0.05853424041586329,
          0.07844435522011255,
          0.09705741063046953,
          0.10113775027626479,
          0.08432668806728708,
          0.07631369093986291,
          0.05926166932304942,
          0.06477742816141348,
          0.06482692693111115,
          0.0658923357851092,
          0.06383995542644104,
          0.05931082590144374,
          0.055367705078233
         ],
         "yaxis": "y",
         "type": "scatter"
        }
       ],
       "layout": {
        "template": {
         "data": {
          "bar": [
           {
            "error_x": {
             "color": "#2a3f5f"
            },
            "error_y": {
             "color": "#2a3f5f"
            },
            "marker": {
             "line": {
              "color": "#E5ECF6",
              "width": 0.5
             },
             "pattern": {
              "fillmode": "overlay",
              "size": 10,
              "solidity": 0.2
             }
            },
            "type": "bar"
           }
          ],
          "barpolar": [
           {
            "marker": {
             "line": {
              "color": "#E5ECF6",
              "width": 0.5
             },
             "pattern": {
              "fillmode": "overlay",
              "size": 10,
              "solidity": 0.2
             }
            },
            "type": "barpolar"
           }
          ],
          "carpet": [
           {
            "aaxis": {
             "endlinecolor": "#2a3f5f",
             "gridcolor": "white",
             "linecolor": "white",
             "minorgridcolor": "white",
             "startlinecolor": "#2a3f5f"
            },
            "baxis": {
             "endlinecolor": "#2a3f5f",
             "gridcolor": "white",
             "linecolor": "white",
             "minorgridcolor": "white",
             "startlinecolor": "#2a3f5f"
            },
            "type": "carpet"
           }
          ],
          "choropleth": [
           {
            "colorbar": {
             "outlinewidth": 0,
             "ticks": ""
            },
            "type": "choropleth"
           }
          ],
          "contour": [
           {
            "colorbar": {
             "outlinewidth": 0,
             "ticks": ""
            },
            "colorscale": [
             [
              0.0,
              "#0d0887"
             ],
             [
              0.1111111111111111,
              "#46039f"
             ],
             [
              0.2222222222222222,
              "#7201a8"
             ],
             [
              0.3333333333333333,
              "#9c179e"
             ],
             [
              0.4444444444444444,
              "#bd3786"
             ],
             [
              0.5555555555555556,
              "#d8576b"
             ],
             [
              0.6666666666666666,
              "#ed7953"
             ],
             [
              0.7777777777777778,
              "#fb9f3a"
             ],
             [
              0.8888888888888888,
              "#fdca26"
             ],
             [
              1.0,
              "#f0f921"
             ]
            ],
            "type": "contour"
           }
          ],
          "contourcarpet": [
           {
            "colorbar": {
             "outlinewidth": 0,
             "ticks": ""
            },
            "type": "contourcarpet"
           }
          ],
          "heatmap": [
           {
            "colorbar": {
             "outlinewidth": 0,
             "ticks": ""
            },
            "colorscale": [
             [
              0.0,
              "#0d0887"
             ],
             [
              0.1111111111111111,
              "#46039f"
             ],
             [
              0.2222222222222222,
              "#7201a8"
             ],
             [
              0.3333333333333333,
              "#9c179e"
             ],
             [
              0.4444444444444444,
              "#bd3786"
             ],
             [
              0.5555555555555556,
              "#d8576b"
             ],
             [
              0.6666666666666666,
              "#ed7953"
             ],
             [
              0.7777777777777778,
              "#fb9f3a"
             ],
             [
              0.8888888888888888,
              "#fdca26"
             ],
             [
              1.0,
              "#f0f921"
             ]
            ],
            "type": "heatmap"
           }
          ],
          "heatmapgl": [
           {
            "colorbar": {
             "outlinewidth": 0,
             "ticks": ""
            },
            "colorscale": [
             [
              0.0,
              "#0d0887"
             ],
             [
              0.1111111111111111,
              "#46039f"
             ],
             [
              0.2222222222222222,
              "#7201a8"
             ],
             [
              0.3333333333333333,
              "#9c179e"
             ],
             [
              0.4444444444444444,
              "#bd3786"
             ],
             [
              0.5555555555555556,
              "#d8576b"
             ],
             [
              0.6666666666666666,
              "#ed7953"
             ],
             [
              0.7777777777777778,
              "#fb9f3a"
             ],
             [
              0.8888888888888888,
              "#fdca26"
             ],
             [
              1.0,
              "#f0f921"
             ]
            ],
            "type": "heatmapgl"
           }
          ],
          "histogram": [
           {
            "marker": {
             "pattern": {
              "fillmode": "overlay",
              "size": 10,
              "solidity": 0.2
             }
            },
            "type": "histogram"
           }
          ],
          "histogram2d": [
           {
            "colorbar": {
             "outlinewidth": 0,
             "ticks": ""
            },
            "colorscale": [
             [
              0.0,
              "#0d0887"
             ],
             [
              0.1111111111111111,
              "#46039f"
             ],
             [
              0.2222222222222222,
              "#7201a8"
             ],
             [
              0.3333333333333333,
              "#9c179e"
             ],
             [
              0.4444444444444444,
              "#bd3786"
             ],
             [
              0.5555555555555556,
              "#d8576b"
             ],
             [
              0.6666666666666666,
              "#ed7953"
             ],
             [
              0.7777777777777778,
              "#fb9f3a"
             ],
             [
              0.8888888888888888,
              "#fdca26"
             ],
             [
              1.0,
              "#f0f921"
             ]
            ],
            "type": "histogram2d"
           }
          ],
          "histogram2dcontour": [
           {
            "colorbar": {
             "outlinewidth": 0,
             "ticks": ""
            },
            "colorscale": [
             [
              0.0,
              "#0d0887"
             ],
             [
              0.1111111111111111,
              "#46039f"
             ],
             [
              0.2222222222222222,
              "#7201a8"
             ],
             [
              0.3333333333333333,
              "#9c179e"
             ],
             [
              0.4444444444444444,
              "#bd3786"
             ],
             [
              0.5555555555555556,
              "#d8576b"
             ],
             [
              0.6666666666666666,
              "#ed7953"
             ],
             [
              0.7777777777777778,
              "#fb9f3a"
             ],
             [
              0.8888888888888888,
              "#fdca26"
             ],
             [
              1.0,
              "#f0f921"
             ]
            ],
            "type": "histogram2dcontour"
           }
          ],
          "mesh3d": [
           {
            "colorbar": {
             "outlinewidth": 0,
             "ticks": ""
            },
            "type": "mesh3d"
           }
          ],
          "parcoords": [
           {
            "line": {
             "colorbar": {
              "outlinewidth": 0,
              "ticks": ""
             }
            },
            "type": "parcoords"
           }
          ],
          "pie": [
           {
            "automargin": true,
            "type": "pie"
           }
          ],
          "scatter": [
           {
            "marker": {
             "colorbar": {
              "outlinewidth": 0,
              "ticks": ""
             }
            },
            "type": "scatter"
           }
          ],
          "scatter3d": [
           {
            "line": {
             "colorbar": {
              "outlinewidth": 0,
              "ticks": ""
             }
            },
            "marker": {
             "colorbar": {
              "outlinewidth": 0,
              "ticks": ""
             }
            },
            "type": "scatter3d"
           }
          ],
          "scattercarpet": [
           {
            "marker": {
             "colorbar": {
              "outlinewidth": 0,
              "ticks": ""
             }
            },
            "type": "scattercarpet"
           }
          ],
          "scattergeo": [
           {
            "marker": {
             "colorbar": {
              "outlinewidth": 0,
              "ticks": ""
             }
            },
            "type": "scattergeo"
           }
          ],
          "scattergl": [
           {
            "marker": {
             "colorbar": {
              "outlinewidth": 0,
              "ticks": ""
             }
            },
            "type": "scattergl"
           }
          ],
          "scattermapbox": [
           {
            "marker": {
             "colorbar": {
              "outlinewidth": 0,
              "ticks": ""
             }
            },
            "type": "scattermapbox"
           }
          ],
          "scatterpolar": [
           {
            "marker": {
             "colorbar": {
              "outlinewidth": 0,
              "ticks": ""
             }
            },
            "type": "scatterpolar"
           }
          ],
          "scatterpolargl": [
           {
            "marker": {
             "colorbar": {
              "outlinewidth": 0,
              "ticks": ""
             }
            },
            "type": "scatterpolargl"
           }
          ],
          "scatterternary": [
           {
            "marker": {
             "colorbar": {
              "outlinewidth": 0,
              "ticks": ""
             }
            },
            "type": "scatterternary"
           }
          ],
          "surface": [
           {
            "colorbar": {
             "outlinewidth": 0,
             "ticks": ""
            },
            "colorscale": [
             [
              0.0,
              "#0d0887"
             ],
             [
              0.1111111111111111,
              "#46039f"
             ],
             [
              0.2222222222222222,
              "#7201a8"
             ],
             [
              0.3333333333333333,
              "#9c179e"
             ],
             [
              0.4444444444444444,
              "#bd3786"
             ],
             [
              0.5555555555555556,
              "#d8576b"
             ],
             [
              0.6666666666666666,
              "#ed7953"
             ],
             [
              0.7777777777777778,
              "#fb9f3a"
             ],
             [
              0.8888888888888888,
              "#fdca26"
             ],
             [
              1.0,
              "#f0f921"
             ]
            ],
            "type": "surface"
           }
          ],
          "table": [
           {
            "cells": {
             "fill": {
              "color": "#EBF0F8"
             },
             "line": {
              "color": "white"
             }
            },
            "header": {
             "fill": {
              "color": "#C8D4E3"
             },
             "line": {
              "color": "white"
             }
            },
            "type": "table"
           }
          ]
         },
         "layout": {
          "annotationdefaults": {
           "arrowcolor": "#2a3f5f",
           "arrowhead": 0,
           "arrowwidth": 1
          },
          "autotypenumbers": "strict",
          "coloraxis": {
           "colorbar": {
            "outlinewidth": 0,
            "ticks": ""
           }
          },
          "colorscale": {
           "diverging": [
            [
             0,
             "#8e0152"
            ],
            [
             0.1,
             "#c51b7d"
            ],
            [
             0.2,
             "#de77ae"
            ],
            [
             0.3,
             "#f1b6da"
            ],
            [
             0.4,
             "#fde0ef"
            ],
            [
             0.5,
             "#f7f7f7"
            ],
            [
             0.6,
             "#e6f5d0"
            ],
            [
             0.7,
             "#b8e186"
            ],
            [
             0.8,
             "#7fbc41"
            ],
            [
             0.9,
             "#4d9221"
            ],
            [
             1,
             "#276419"
            ]
           ],
           "sequential": [
            [
             0.0,
             "#0d0887"
            ],
            [
             0.1111111111111111,
             "#46039f"
            ],
            [
             0.2222222222222222,
             "#7201a8"
            ],
            [
             0.3333333333333333,
             "#9c179e"
            ],
            [
             0.4444444444444444,
             "#bd3786"
            ],
            [
             0.5555555555555556,
             "#d8576b"
            ],
            [
             0.6666666666666666,
             "#ed7953"
            ],
            [
             0.7777777777777778,
             "#fb9f3a"
            ],
            [
             0.8888888888888888,
             "#fdca26"
            ],
            [
             1.0,
             "#f0f921"
            ]
           ],
           "sequentialminus": [
            [
             0.0,
             "#0d0887"
            ],
            [
             0.1111111111111111,
             "#46039f"
            ],
            [
             0.2222222222222222,
             "#7201a8"
            ],
            [
             0.3333333333333333,
             "#9c179e"
            ],
            [
             0.4444444444444444,
             "#bd3786"
            ],
            [
             0.5555555555555556,
             "#d8576b"
            ],
            [
             0.6666666666666666,
             "#ed7953"
            ],
            [
             0.7777777777777778,
             "#fb9f3a"
            ],
            [
             0.8888888888888888,
             "#fdca26"
            ],
            [
             1.0,
             "#f0f921"
            ]
           ]
          },
          "colorway": [
           "#636efa",
           "#EF553B",
           "#00cc96",
           "#ab63fa",
           "#FFA15A",
           "#19d3f3",
           "#FF6692",
           "#B6E880",
           "#FF97FF",
           "#FECB52"
          ],
          "font": {
           "color": "#2a3f5f"
          },
          "geo": {
           "bgcolor": "white",
           "lakecolor": "white",
           "landcolor": "#E5ECF6",
           "showlakes": true,
           "showland": true,
           "subunitcolor": "white"
          },
          "hoverlabel": {
           "align": "left"
          },
          "hovermode": "closest",
          "mapbox": {
           "style": "light"
          },
          "paper_bgcolor": "white",
          "plot_bgcolor": "#E5ECF6",
          "polar": {
           "angularaxis": {
            "gridcolor": "white",
            "linecolor": "white",
            "ticks": ""
           },
           "bgcolor": "#E5ECF6",
           "radialaxis": {
            "gridcolor": "white",
            "linecolor": "white",
            "ticks": ""
           }
          },
          "scene": {
           "xaxis": {
            "backgroundcolor": "#E5ECF6",
            "gridcolor": "white",
            "gridwidth": 2,
            "linecolor": "white",
            "showbackground": true,
            "ticks": "",
            "zerolinecolor": "white"
           },
           "yaxis": {
            "backgroundcolor": "#E5ECF6",
            "gridcolor": "white",
            "gridwidth": 2,
            "linecolor": "white",
            "showbackground": true,
            "ticks": "",
            "zerolinecolor": "white"
           },
           "zaxis": {
            "backgroundcolor": "#E5ECF6",
            "gridcolor": "white",
            "gridwidth": 2,
            "linecolor": "white",
            "showbackground": true,
            "ticks": "",
            "zerolinecolor": "white"
           }
          },
          "shapedefaults": {
           "line": {
            "color": "#2a3f5f"
           }
          },
          "ternary": {
           "aaxis": {
            "gridcolor": "white",
            "linecolor": "white",
            "ticks": ""
           },
           "baxis": {
            "gridcolor": "white",
            "linecolor": "white",
            "ticks": ""
           },
           "bgcolor": "#E5ECF6",
           "caxis": {
            "gridcolor": "white",
            "linecolor": "white",
            "ticks": ""
           }
          },
          "title": {
           "x": 0.05
          },
          "xaxis": {
           "automargin": true,
           "gridcolor": "white",
           "linecolor": "white",
           "ticks": "",
           "title": {
            "standoff": 15
           },
           "zerolinecolor": "white",
           "zerolinewidth": 2
          },
          "yaxis": {
           "automargin": true,
           "gridcolor": "white",
           "linecolor": "white",
           "ticks": "",
           "title": {
            "standoff": 15
           },
           "zerolinecolor": "white",
           "zerolinewidth": 2
          }
         }
        },
        "title": {
         "text": "BTC Normalized Registrations"
        },
        "xaxis": {
         "title": {
          "text": "Date"
         }
        },
        "yaxis": {
         "title": {
          "text": "Registrations/BTC"
         }
        }
       },
       "config": {
        "plotlyServerURL": "https://plot.ly"
       }
      }
     },
     "metadata": {},
     "output_type": "display_data"
    }
   ],
   "source": [
    "import plotly.express as px\n",
    "import plotly.graph_objects as go\n",
    "\n",
    "fig1 = px.line(df, x=df[\"Registration Date\"], y=df[\"Registrations\"]/df[\"BTC Price\"], title='BTC Normalized Registrations')\n",
    "fig1.update_traces(line=dict(color = 'rgba(50,50,50,0.2)'))\n",
    "\n",
    "fig2 = px.scatter(df_events, x=\"Registration Date\", y=df_events[\"Registrations\"]/df_events[\"BTC Price\"],  hover_data=[\"Event\"])\n",
    "\n",
    "fig3 = go.Figure(data=fig1.data + fig2.data)\n",
    "fig3.update_layout(title='BTC Normalized Registrations', xaxis_title=\"Date\",\n",
    "                   yaxis_title=\"Registrations/BTC\",)\n",
    "fig3.show()"
   ],
   "metadata": {
    "collapsed": false,
    "pycharm": {
     "name": "#%%\n"
    }
   }
  },
  {
   "cell_type": "code",
   "execution_count": 60,
   "outputs": [],
   "source": [],
   "metadata": {
    "collapsed": false,
    "pycharm": {
     "name": "#%%\n"
    }
   }
  },
  {
   "cell_type": "code",
   "execution_count": 118,
   "outputs": [
    {
     "ename": "ValueError",
     "evalue": "Invalid property specified for object of type plotly.graph_objs.Scatter: 'hover'\n\nDid you mean \"hoveron\"?\n\n    Valid properties:\n        cliponaxis\n            Determines whether or not markers and text nodes are\n            clipped about the subplot axes. To show markers and\n            text nodes above axis lines and tick labels, make sure\n            to set `xaxis.layer` and `yaxis.layer` to *below\n            traces*.\n        connectgaps\n            Determines whether or not gaps (i.e. {nan} or missing\n            values) in the provided data arrays are connected.\n        customdata\n            Assigns extra data each datum. This may be useful when\n            listening to hover, click and selection events. Note\n            that, \"scatter\" traces also appends customdata items in\n            the markers DOM elements\n        customdatasrc\n            Sets the source reference on Chart Studio Cloud for\n            `customdata`.\n        dx\n            Sets the x coordinate step. See `x0` for more info.\n        dy\n            Sets the y coordinate step. See `y0` for more info.\n        error_x\n            :class:`plotly.graph_objects.scatter.ErrorX` instance\n            or dict with compatible properties\n        error_y\n            :class:`plotly.graph_objects.scatter.ErrorY` instance\n            or dict with compatible properties\n        fill\n            Sets the area to fill with a solid color. Defaults to\n            \"none\" unless this trace is stacked, then it gets\n            \"tonexty\" (\"tonextx\") if `orientation` is \"v\" (\"h\") Use\n            with `fillcolor` if not \"none\". \"tozerox\" and \"tozeroy\"\n            fill to x=0 and y=0 respectively. \"tonextx\" and\n            \"tonexty\" fill between the endpoints of this trace and\n            the endpoints of the trace before it, connecting those\n            endpoints with straight lines (to make a stacked area\n            graph); if there is no trace before it, they behave\n            like \"tozerox\" and \"tozeroy\". \"toself\" connects the\n            endpoints of the trace (or each segment of the trace if\n            it has gaps) into a closed shape. \"tonext\" fills the\n            space between two traces if one completely encloses the\n            other (eg consecutive contour lines), and behaves like\n            \"toself\" if there is no trace before it. \"tonext\"\n            should not be used if one trace does not enclose the\n            other. Traces in a `stackgroup` will only fill to (or\n            be filled to) other traces in the same group. With\n            multiple `stackgroup`s or some traces stacked and some\n            not, if fill-linked traces are not already consecutive,\n            the later ones will be pushed down in the drawing\n            order.\n        fillcolor\n            Sets the fill color. Defaults to a half-transparent\n            variant of the line color, marker color, or marker line\n            color, whichever is available.\n        groupnorm\n            Only relevant when `stackgroup` is used, and only the\n            first `groupnorm` found in the `stackgroup` will be\n            used - including if `visible` is \"legendonly\" but not\n            if it is `false`. Sets the normalization for the sum of\n            this `stackgroup`. With \"fraction\", the value of each\n            trace at each location is divided by the sum of all\n            trace values at that location. \"percent\" is the same\n            but multiplied by 100 to show percentages. If there are\n            multiple subplots, or multiple `stackgroup`s on one\n            subplot, each will be normalized within its own set.\n        hoverinfo\n            Determines which trace information appear on hover. If\n            `none` or `skip` are set, no information is displayed\n            upon hovering. But, if `none` is set, click and hover\n            events are still fired.\n        hoverinfosrc\n            Sets the source reference on Chart Studio Cloud for\n            `hoverinfo`.\n        hoverlabel\n            :class:`plotly.graph_objects.scatter.Hoverlabel`\n            instance or dict with compatible properties\n        hoveron\n            Do the hover effects highlight individual points\n            (markers or line points) or do they highlight filled\n            regions? If the fill is \"toself\" or \"tonext\" and there\n            are no markers or text, then the default is \"fills\",\n            otherwise it is \"points\".\n        hovertemplate\n            Template string used for rendering the information that\n            appear on hover box. Note that this will override\n            `hoverinfo`. Variables are inserted using %{variable},\n            for example \"y: %{y}\" as well as %{xother}, {%_xother},\n            {%_xother_}, {%xother_}. When showing info for several\n            points, \"xother\" will be added to those with different\n            x positions from the first point. An underscore before\n            or after \"(x|y)other\" will add a space on that side,\n            only when this field is shown. Numbers are formatted\n            using d3-format's syntax %{variable:d3-format}, for\n            example \"Price: %{y:$.2f}\".\n            https://github.com/d3/d3-format/tree/v1.4.5#d3-format\n            for details on the formatting syntax. Dates are\n            formatted using d3-time-format's syntax\n            %{variable|d3-time-format}, for example \"Day:\n            %{2019-01-01|%A}\". https://github.com/d3/d3-time-\n            format/tree/v2.2.3#locale_format for details on the\n            date formatting syntax. The variables available in\n            `hovertemplate` are the ones emitted as event data\n            described at this link\n            https://plotly.com/javascript/plotlyjs-events/#event-\n            data. Additionally, every attributes that can be\n            specified per-point (the ones that are `arrayOk: true`)\n            are available.  Anything contained in tag `<extra>` is\n            displayed in the secondary box, for example\n            \"<extra>{fullData.name}</extra>\". To hide the secondary\n            box completely, use an empty tag `<extra></extra>`.\n        hovertemplatesrc\n            Sets the source reference on Chart Studio Cloud for\n            `hovertemplate`.\n        hovertext\n            Sets hover text elements associated with each (x,y)\n            pair. If a single string, the same string appears over\n            all the data points. If an array of string, the items\n            are mapped in order to the this trace's (x,y)\n            coordinates. To be seen, trace `hoverinfo` must contain\n            a \"text\" flag.\n        hovertextsrc\n            Sets the source reference on Chart Studio Cloud for\n            `hovertext`.\n        ids\n            Assigns id labels to each datum. These ids for object\n            constancy of data points during animation. Should be an\n            array of strings, not numbers or any other type.\n        idssrc\n            Sets the source reference on Chart Studio Cloud for\n            `ids`.\n        legendgroup\n            Sets the legend group for this trace. Traces part of\n            the same legend group hide/show at the same time when\n            toggling legend items.\n        legendgrouptitle\n            :class:`plotly.graph_objects.scatter.Legendgrouptitle`\n            instance or dict with compatible properties\n        legendrank\n            Sets the legend rank for this trace. Items and groups\n            with smaller ranks are presented on top/left side while\n            with `*reversed* `legend.traceorder` they are on\n            bottom/right side. The default legendrank is 1000, so\n            that you can use ranks less than 1000 to place certain\n            items before all unranked items, and ranks greater than\n            1000 to go after all unranked items.\n        line\n            :class:`plotly.graph_objects.scatter.Line` instance or\n            dict with compatible properties\n        marker\n            :class:`plotly.graph_objects.scatter.Marker` instance\n            or dict with compatible properties\n        meta\n            Assigns extra meta information associated with this\n            trace that can be used in various text attributes.\n            Attributes such as trace `name`, graph, axis and\n            colorbar `title.text`, annotation `text`\n            `rangeselector`, `updatemenues` and `sliders` `label`\n            text all support `meta`. To access the trace `meta`\n            values in an attribute in the same trace, simply use\n            `%{meta[i]}` where `i` is the index or key of the\n            `meta` item in question. To access trace `meta` in\n            layout attributes, use `%{data[n[.meta[i]}` where `i`\n            is the index or key of the `meta` and `n` is the trace\n            index.\n        metasrc\n            Sets the source reference on Chart Studio Cloud for\n            `meta`.\n        mode\n            Determines the drawing mode for this scatter trace. If\n            the provided `mode` includes \"text\" then the `text`\n            elements appear at the coordinates. Otherwise, the\n            `text` elements appear on hover. If there are less than\n            20 points and the trace is not stacked then the default\n            is \"lines+markers\". Otherwise, \"lines\".\n        name\n            Sets the trace name. The trace name appear as the\n            legend item and on hover.\n        opacity\n            Sets the opacity of the trace.\n        orientation\n            Only relevant when `stackgroup` is used, and only the\n            first `orientation` found in the `stackgroup` will be\n            used - including if `visible` is \"legendonly\" but not\n            if it is `false`. Sets the stacking direction. With \"v\"\n            (\"h\"), the y (x) values of subsequent traces are added.\n            Also affects the default value of `fill`.\n        selected\n            :class:`plotly.graph_objects.scatter.Selected` instance\n            or dict with compatible properties\n        selectedpoints\n            Array containing integer indices of selected points.\n            Has an effect only for traces that support selections.\n            Note that an empty array means an empty selection where\n            the `unselected` are turned on for all points, whereas,\n            any other non-array values means no selection all where\n            the `selected` and `unselected` styles have no effect.\n        showlegend\n            Determines whether or not an item corresponding to this\n            trace is shown in the legend.\n        stackgaps\n            Only relevant when `stackgroup` is used, and only the\n            first `stackgaps` found in the `stackgroup` will be\n            used - including if `visible` is \"legendonly\" but not\n            if it is `false`. Determines how we handle locations at\n            which other traces in this group have data but this one\n            does not. With *infer zero* we insert a zero at these\n            locations. With \"interpolate\" we linearly interpolate\n            between existing values, and extrapolate a constant\n            beyond the existing values.\n        stackgroup\n            Set several scatter traces (on the same subplot) to the\n            same stackgroup in order to add their y values (or\n            their x values if `orientation` is \"h\"). If blank or\n            omitted this trace will not be stacked. Stacking also\n            turns `fill` on by default, using \"tonexty\" (\"tonextx\")\n            if `orientation` is \"h\" (\"v\") and sets the default\n            `mode` to \"lines\" irrespective of point count. You can\n            only stack on a numeric (linear or log) axis. Traces in\n            a `stackgroup` will only fill to (or be filled to)\n            other traces in the same group. With multiple\n            `stackgroup`s or some traces stacked and some not, if\n            fill-linked traces are not already consecutive, the\n            later ones will be pushed down in the drawing order.\n        stream\n            :class:`plotly.graph_objects.scatter.Stream` instance\n            or dict with compatible properties\n        text\n            Sets text elements associated with each (x,y) pair. If\n            a single string, the same string appears over all the\n            data points. If an array of string, the items are\n            mapped in order to the this trace's (x,y) coordinates.\n            If trace `hoverinfo` contains a \"text\" flag and\n            \"hovertext\" is not set, these elements will be seen in\n            the hover labels.\n        textfont\n            Sets the text font.\n        textposition\n            Sets the positions of the `text` elements with respects\n            to the (x,y) coordinates.\n        textpositionsrc\n            Sets the source reference on Chart Studio Cloud for\n            `textposition`.\n        textsrc\n            Sets the source reference on Chart Studio Cloud for\n            `text`.\n        texttemplate\n            Template string used for rendering the information text\n            that appear on points. Note that this will override\n            `textinfo`. Variables are inserted using %{variable},\n            for example \"y: %{y}\". Numbers are formatted using\n            d3-format's syntax %{variable:d3-format}, for example\n            \"Price: %{y:$.2f}\".\n            https://github.com/d3/d3-format/tree/v1.4.5#d3-format\n            for details on the formatting syntax. Dates are\n            formatted using d3-time-format's syntax\n            %{variable|d3-time-format}, for example \"Day:\n            %{2019-01-01|%A}\". https://github.com/d3/d3-time-\n            format/tree/v2.2.3#locale_format for details on the\n            date formatting syntax. Every attributes that can be\n            specified per-point (the ones that are `arrayOk: true`)\n            are available.\n        texttemplatesrc\n            Sets the source reference on Chart Studio Cloud for\n            `texttemplate`.\n        uid\n            Assign an id to this trace, Use this to provide object\n            constancy between traces during animations and\n            transitions.\n        uirevision\n            Controls persistence of some user-driven changes to the\n            trace: `constraintrange` in `parcoords` traces, as well\n            as some `editable: true` modifications such as `name`\n            and `colorbar.title`. Defaults to `layout.uirevision`.\n            Note that other user-driven trace attribute changes are\n            controlled by `layout` attributes: `trace.visible` is\n            controlled by `layout.legend.uirevision`,\n            `selectedpoints` is controlled by\n            `layout.selectionrevision`, and `colorbar.(x|y)`\n            (accessible with `config: {editable: true}`) is\n            controlled by `layout.editrevision`. Trace changes are\n            tracked by `uid`, which only falls back on trace index\n            if no `uid` is provided. So if your app can add/remove\n            traces before the end of the `data` array, such that\n            the same trace has a different index, you can still\n            preserve user-driven changes if you give each trace a\n            `uid` that stays with it as it moves.\n        unselected\n            :class:`plotly.graph_objects.scatter.Unselected`\n            instance or dict with compatible properties\n        visible\n            Determines whether or not this trace is visible. If\n            \"legendonly\", the trace is not drawn, but can appear as\n            a legend item (provided that the legend itself is\n            visible).\n        x\n            Sets the x coordinates.\n        x0\n            Alternate to `x`. Builds a linear space of x\n            coordinates. Use with `dx` where `x0` is the starting\n            coordinate and `dx` the step.\n        xaxis\n            Sets a reference between this trace's x coordinates and\n            a 2D cartesian x axis. If \"x\" (the default value), the\n            x coordinates refer to `layout.xaxis`. If \"x2\", the x\n            coordinates refer to `layout.xaxis2`, and so on.\n        xcalendar\n            Sets the calendar system to use with `x` date data.\n        xhoverformat\n            Sets the hover text formatting rulefor `x`  using d3\n            formatting mini-languages which are very similar to\n            those in Python. For numbers, see:\n            https://github.com/d3/d3-format/tree/v1.4.5#d3-format.\n            And for dates see: https://github.com/d3/d3-time-\n            format/tree/v2.2.3#locale_format. We add two items to\n            d3's date formatter: \"%h\" for half of the year as a\n            decimal number as well as \"%{n}f\" for fractional\n            seconds with n digits. For example, *2016-10-13\n            09:15:23.456* with tickformat \"%H~%M~%S.%2f\" would\n            display *09~15~23.46*By default the values are\n            formatted using `xaxis.hoverformat`.\n        xperiod\n            Only relevant when the axis `type` is \"date\". Sets the\n            period positioning in milliseconds or \"M<n>\" on the x\n            axis. Special values in the form of \"M<n>\" could be\n            used to declare the number of months. In this case `n`\n            must be a positive integer.\n        xperiod0\n            Only relevant when the axis `type` is \"date\". Sets the\n            base for period positioning in milliseconds or date\n            string on the x0 axis. When `x0period` is round number\n            of weeks, the `x0period0` by default would be on a\n            Sunday i.e. 2000-01-02, otherwise it would be at\n            2000-01-01.\n        xperiodalignment\n            Only relevant when the axis `type` is \"date\". Sets the\n            alignment of data points on the x axis.\n        xsrc\n            Sets the source reference on Chart Studio Cloud for\n            `x`.\n        y\n            Sets the y coordinates.\n        y0\n            Alternate to `y`. Builds a linear space of y\n            coordinates. Use with `dy` where `y0` is the starting\n            coordinate and `dy` the step.\n        yaxis\n            Sets a reference between this trace's y coordinates and\n            a 2D cartesian y axis. If \"y\" (the default value), the\n            y coordinates refer to `layout.yaxis`. If \"y2\", the y\n            coordinates refer to `layout.yaxis2`, and so on.\n        ycalendar\n            Sets the calendar system to use with `y` date data.\n        yhoverformat\n            Sets the hover text formatting rulefor `y`  using d3\n            formatting mini-languages which are very similar to\n            those in Python. For numbers, see:\n            https://github.com/d3/d3-format/tree/v1.4.5#d3-format.\n            And for dates see: https://github.com/d3/d3-time-\n            format/tree/v2.2.3#locale_format. We add two items to\n            d3's date formatter: \"%h\" for half of the year as a\n            decimal number as well as \"%{n}f\" for fractional\n            seconds with n digits. For example, *2016-10-13\n            09:15:23.456* with tickformat \"%H~%M~%S.%2f\" would\n            display *09~15~23.46*By default the values are\n            formatted using `yaxis.hoverformat`.\n        yperiod\n            Only relevant when the axis `type` is \"date\". Sets the\n            period positioning in milliseconds or \"M<n>\" on the y\n            axis. Special values in the form of \"M<n>\" could be\n            used to declare the number of months. In this case `n`\n            must be a positive integer.\n        yperiod0\n            Only relevant when the axis `type` is \"date\". Sets the\n            base for period positioning in milliseconds or date\n            string on the y0 axis. When `y0period` is round number\n            of weeks, the `y0period0` by default would be on a\n            Sunday i.e. 2000-01-02, otherwise it would be at\n            2000-01-01.\n        yperiodalignment\n            Only relevant when the axis `type` is \"date\". Sets the\n            alignment of data points on the y axis.\n        ysrc\n            Sets the source reference on Chart Studio Cloud for\n            `y`.\n        \nDid you mean \"hoveron\"?\n\nBad property path:\nhover_data\n^^^^^",
     "output_type": "error",
     "traceback": [
      "\u001B[0;31m---------------------------------------------------------------------------\u001B[0m",
      "\u001B[0;31mValueError\u001B[0m                                Traceback (most recent call last)",
      "Input \u001B[0;32mIn [118]\u001B[0m, in \u001B[0;36m<module>\u001B[0;34m\u001B[0m\n\u001B[1;32m      3\u001B[0m fig \u001B[38;5;241m=\u001B[39m go\u001B[38;5;241m.\u001B[39mFigure()\n\u001B[1;32m      5\u001B[0m fig\u001B[38;5;241m.\u001B[39madd_trace(go\u001B[38;5;241m.\u001B[39mScatter(x\u001B[38;5;241m=\u001B[39mdf[\u001B[38;5;124m\"\u001B[39m\u001B[38;5;124mRegistration Date\u001B[39m\u001B[38;5;124m\"\u001B[39m], y\u001B[38;5;241m=\u001B[39mdf[\u001B[38;5;124m\"\u001B[39m\u001B[38;5;124mRegistrations\u001B[39m\u001B[38;5;124m\"\u001B[39m]\u001B[38;5;241m/\u001B[39mdf[\u001B[38;5;124m\"\u001B[39m\u001B[38;5;124mBTC Price\u001B[39m\u001B[38;5;124m\"\u001B[39m],\n\u001B[1;32m      6\u001B[0m     name\u001B[38;5;241m=\u001B[39m\u001B[38;5;124m\"\u001B[39m\u001B[38;5;124mNormalized Registrations\u001B[39m\u001B[38;5;124m\"\u001B[39m       \u001B[38;5;66;03m# this sets its legend entry\u001B[39;00m\n\u001B[1;32m      7\u001B[0m ))\n\u001B[0;32m---> 10\u001B[0m fig\u001B[38;5;241m.\u001B[39madd_trace(\u001B[43mgo\u001B[49m\u001B[38;5;241;43m.\u001B[39;49m\u001B[43mScatter\u001B[49m\u001B[43m(\u001B[49m\u001B[43mx\u001B[49m\u001B[38;5;241;43m=\u001B[39;49m\u001B[43mdf_events\u001B[49m\u001B[43m[\u001B[49m\u001B[38;5;124;43m\"\u001B[39;49m\u001B[38;5;124;43mRegistration Date\u001B[39;49m\u001B[38;5;124;43m\"\u001B[39;49m\u001B[43m]\u001B[49m\u001B[43m,\u001B[49m\u001B[43m \u001B[49m\u001B[43my\u001B[49m\u001B[38;5;241;43m=\u001B[39;49m\u001B[43mdf_events\u001B[49m\u001B[43m[\u001B[49m\u001B[38;5;124;43m\"\u001B[39;49m\u001B[38;5;124;43mRegistrations\u001B[39;49m\u001B[38;5;124;43m\"\u001B[39;49m\u001B[43m]\u001B[49m\u001B[38;5;241;43m/\u001B[39;49m\u001B[43mdf_events\u001B[49m\u001B[43m[\u001B[49m\u001B[38;5;124;43m\"\u001B[39;49m\u001B[38;5;124;43mBTC Price\u001B[39;49m\u001B[38;5;124;43m\"\u001B[39;49m\u001B[43m]\u001B[49m\u001B[43m,\u001B[49m\n\u001B[1;32m     11\u001B[0m \u001B[43m    \u001B[49m\u001B[43mname\u001B[49m\u001B[38;5;241;43m=\u001B[39;49m\u001B[38;5;124;43m\"\u001B[39;49m\u001B[38;5;124;43mEvent\u001B[39;49m\u001B[38;5;124;43m\"\u001B[39;49m\u001B[43m,\u001B[49m\u001B[43m \u001B[49m\u001B[43mmode\u001B[49m\u001B[38;5;241;43m=\u001B[39;49m\u001B[38;5;124;43m'\u001B[39;49m\u001B[38;5;124;43mmarkers\u001B[39;49m\u001B[38;5;124;43m'\u001B[39;49m\u001B[43m,\u001B[49m\u001B[43m \u001B[49m\u001B[43mmarker\u001B[49m\u001B[38;5;241;43m=\u001B[39;49m\u001B[38;5;28;43mdict\u001B[39;49m\u001B[43m(\u001B[49m\u001B[43msize\u001B[49m\u001B[38;5;241;43m=\u001B[39;49m\u001B[38;5;241;43m12\u001B[39;49m\u001B[43m,\u001B[49m\u001B[43m \u001B[49m\u001B[43mline\u001B[49m\u001B[38;5;241;43m=\u001B[39;49m\u001B[38;5;28;43mdict\u001B[39;49m\u001B[43m(\u001B[49m\u001B[43mwidth\u001B[49m\u001B[38;5;241;43m=\u001B[39;49m\u001B[38;5;241;43m2\u001B[39;49m\u001B[43m,\u001B[49m\u001B[43m \u001B[49m\u001B[43mcolor\u001B[49m\u001B[38;5;241;43m=\u001B[39;49m\u001B[38;5;124;43m'\u001B[39;49m\u001B[38;5;124;43mDarkSlateGrey\u001B[39;49m\u001B[38;5;124;43m'\u001B[39;49m\u001B[43m)\u001B[49m\u001B[43m)\u001B[49m\u001B[43m,\u001B[49m\n\u001B[1;32m     12\u001B[0m \u001B[43m    \u001B[49m\u001B[43mhover_data\u001B[49m\u001B[38;5;241;43m=\u001B[39;49m\u001B[43m[\u001B[49m\u001B[38;5;124;43m\"\u001B[39;49m\u001B[38;5;124;43mEvent\u001B[39;49m\u001B[38;5;124;43m\"\u001B[39;49m\u001B[43m]\u001B[49m\n\u001B[1;32m     13\u001B[0m \u001B[43m)\u001B[49m)\n\u001B[1;32m     15\u001B[0m fig\u001B[38;5;241m.\u001B[39mupdate_layout(\n\u001B[1;32m     16\u001B[0m     title\u001B[38;5;241m=\u001B[39m\u001B[38;5;124m\"\u001B[39m\u001B[38;5;124mBTC Normalized Registrations\u001B[39m\u001B[38;5;124m\"\u001B[39m,\n\u001B[1;32m     17\u001B[0m     xaxis_title\u001B[38;5;241m=\u001B[39m\u001B[38;5;124m\"\u001B[39m\u001B[38;5;124mDate\u001B[39m\u001B[38;5;124m\"\u001B[39m,\n\u001B[0;32m   (...)\u001B[0m\n\u001B[1;32m     21\u001B[0m     hovermode\u001B[38;5;241m=\u001B[39m\u001B[38;5;124m\"\u001B[39m\u001B[38;5;124mx unified\u001B[39m\u001B[38;5;124m\"\u001B[39m\n\u001B[1;32m     22\u001B[0m )\n\u001B[1;32m     24\u001B[0m fig\u001B[38;5;241m.\u001B[39mshow()\n",
      "File \u001B[0;32m~/mambaforge/lib/python3.9/site-packages/plotly/graph_objs/_scatter.py:3286\u001B[0m, in \u001B[0;36mScatter.__init__\u001B[0;34m(self, arg, cliponaxis, connectgaps, customdata, customdatasrc, dx, dy, error_x, error_y, fill, fillcolor, groupnorm, hoverinfo, hoverinfosrc, hoverlabel, hoveron, hovertemplate, hovertemplatesrc, hovertext, hovertextsrc, ids, idssrc, legendgroup, legendgrouptitle, legendrank, line, marker, meta, metasrc, mode, name, opacity, orientation, selected, selectedpoints, showlegend, stackgaps, stackgroup, stream, text, textfont, textposition, textpositionsrc, textsrc, texttemplate, texttemplatesrc, uid, uirevision, unselected, visible, x, x0, xaxis, xcalendar, xhoverformat, xperiod, xperiod0, xperiodalignment, xsrc, y, y0, yaxis, ycalendar, yhoverformat, yperiod, yperiod0, yperiodalignment, ysrc, **kwargs)\u001B[0m\n\u001B[1;32m   3282\u001B[0m arg\u001B[38;5;241m.\u001B[39mpop(\u001B[38;5;124m\"\u001B[39m\u001B[38;5;124mtype\u001B[39m\u001B[38;5;124m\"\u001B[39m, \u001B[38;5;28;01mNone\u001B[39;00m)\n\u001B[1;32m   3284\u001B[0m \u001B[38;5;66;03m# Process unknown kwargs\u001B[39;00m\n\u001B[1;32m   3285\u001B[0m \u001B[38;5;66;03m# ----------------------\u001B[39;00m\n\u001B[0;32m-> 3286\u001B[0m \u001B[38;5;28;43mself\u001B[39;49m\u001B[38;5;241;43m.\u001B[39;49m\u001B[43m_process_kwargs\u001B[49m\u001B[43m(\u001B[49m\u001B[38;5;241;43m*\u001B[39;49m\u001B[38;5;241;43m*\u001B[39;49m\u001B[38;5;28;43mdict\u001B[39;49m\u001B[43m(\u001B[49m\u001B[43marg\u001B[49m\u001B[43m,\u001B[49m\u001B[43m \u001B[49m\u001B[38;5;241;43m*\u001B[39;49m\u001B[38;5;241;43m*\u001B[39;49m\u001B[43mkwargs\u001B[49m\u001B[43m)\u001B[49m\u001B[43m)\u001B[49m\n\u001B[1;32m   3288\u001B[0m \u001B[38;5;66;03m# Reset skip_invalid\u001B[39;00m\n\u001B[1;32m   3289\u001B[0m \u001B[38;5;66;03m# ------------------\u001B[39;00m\n\u001B[1;32m   3290\u001B[0m \u001B[38;5;28mself\u001B[39m\u001B[38;5;241m.\u001B[39m_skip_invalid \u001B[38;5;241m=\u001B[39m \u001B[38;5;28;01mFalse\u001B[39;00m\n",
      "File \u001B[0;32m~/mambaforge/lib/python3.9/site-packages/plotly/basedatatypes.py:4345\u001B[0m, in \u001B[0;36mBasePlotlyType._process_kwargs\u001B[0;34m(self, **kwargs)\u001B[0m\n\u001B[1;32m   4343\u001B[0m     \u001B[38;5;28mself\u001B[39m[k] \u001B[38;5;241m=\u001B[39m v\n\u001B[1;32m   4344\u001B[0m \u001B[38;5;28;01melif\u001B[39;00m \u001B[38;5;129;01mnot\u001B[39;00m \u001B[38;5;28mself\u001B[39m\u001B[38;5;241m.\u001B[39m_skip_invalid:\n\u001B[0;32m-> 4345\u001B[0m     \u001B[38;5;28;01mraise\u001B[39;00m err\n",
      "\u001B[0;31mValueError\u001B[0m: Invalid property specified for object of type plotly.graph_objs.Scatter: 'hover'\n\nDid you mean \"hoveron\"?\n\n    Valid properties:\n        cliponaxis\n            Determines whether or not markers and text nodes are\n            clipped about the subplot axes. To show markers and\n            text nodes above axis lines and tick labels, make sure\n            to set `xaxis.layer` and `yaxis.layer` to *below\n            traces*.\n        connectgaps\n            Determines whether or not gaps (i.e. {nan} or missing\n            values) in the provided data arrays are connected.\n        customdata\n            Assigns extra data each datum. This may be useful when\n            listening to hover, click and selection events. Note\n            that, \"scatter\" traces also appends customdata items in\n            the markers DOM elements\n        customdatasrc\n            Sets the source reference on Chart Studio Cloud for\n            `customdata`.\n        dx\n            Sets the x coordinate step. See `x0` for more info.\n        dy\n            Sets the y coordinate step. See `y0` for more info.\n        error_x\n            :class:`plotly.graph_objects.scatter.ErrorX` instance\n            or dict with compatible properties\n        error_y\n            :class:`plotly.graph_objects.scatter.ErrorY` instance\n            or dict with compatible properties\n        fill\n            Sets the area to fill with a solid color. Defaults to\n            \"none\" unless this trace is stacked, then it gets\n            \"tonexty\" (\"tonextx\") if `orientation` is \"v\" (\"h\") Use\n            with `fillcolor` if not \"none\". \"tozerox\" and \"tozeroy\"\n            fill to x=0 and y=0 respectively. \"tonextx\" and\n            \"tonexty\" fill between the endpoints of this trace and\n            the endpoints of the trace before it, connecting those\n            endpoints with straight lines (to make a stacked area\n            graph); if there is no trace before it, they behave\n            like \"tozerox\" and \"tozeroy\". \"toself\" connects the\n            endpoints of the trace (or each segment of the trace if\n            it has gaps) into a closed shape. \"tonext\" fills the\n            space between two traces if one completely encloses the\n            other (eg consecutive contour lines), and behaves like\n            \"toself\" if there is no trace before it. \"tonext\"\n            should not be used if one trace does not enclose the\n            other. Traces in a `stackgroup` will only fill to (or\n            be filled to) other traces in the same group. With\n            multiple `stackgroup`s or some traces stacked and some\n            not, if fill-linked traces are not already consecutive,\n            the later ones will be pushed down in the drawing\n            order.\n        fillcolor\n            Sets the fill color. Defaults to a half-transparent\n            variant of the line color, marker color, or marker line\n            color, whichever is available.\n        groupnorm\n            Only relevant when `stackgroup` is used, and only the\n            first `groupnorm` found in the `stackgroup` will be\n            used - including if `visible` is \"legendonly\" but not\n            if it is `false`. Sets the normalization for the sum of\n            this `stackgroup`. With \"fraction\", the value of each\n            trace at each location is divided by the sum of all\n            trace values at that location. \"percent\" is the same\n            but multiplied by 100 to show percentages. If there are\n            multiple subplots, or multiple `stackgroup`s on one\n            subplot, each will be normalized within its own set.\n        hoverinfo\n            Determines which trace information appear on hover. If\n            `none` or `skip` are set, no information is displayed\n            upon hovering. But, if `none` is set, click and hover\n            events are still fired.\n        hoverinfosrc\n            Sets the source reference on Chart Studio Cloud for\n            `hoverinfo`.\n        hoverlabel\n            :class:`plotly.graph_objects.scatter.Hoverlabel`\n            instance or dict with compatible properties\n        hoveron\n            Do the hover effects highlight individual points\n            (markers or line points) or do they highlight filled\n            regions? If the fill is \"toself\" or \"tonext\" and there\n            are no markers or text, then the default is \"fills\",\n            otherwise it is \"points\".\n        hovertemplate\n            Template string used for rendering the information that\n            appear on hover box. Note that this will override\n            `hoverinfo`. Variables are inserted using %{variable},\n            for example \"y: %{y}\" as well as %{xother}, {%_xother},\n            {%_xother_}, {%xother_}. When showing info for several\n            points, \"xother\" will be added to those with different\n            x positions from the first point. An underscore before\n            or after \"(x|y)other\" will add a space on that side,\n            only when this field is shown. Numbers are formatted\n            using d3-format's syntax %{variable:d3-format}, for\n            example \"Price: %{y:$.2f}\".\n            https://github.com/d3/d3-format/tree/v1.4.5#d3-format\n            for details on the formatting syntax. Dates are\n            formatted using d3-time-format's syntax\n            %{variable|d3-time-format}, for example \"Day:\n            %{2019-01-01|%A}\". https://github.com/d3/d3-time-\n            format/tree/v2.2.3#locale_format for details on the\n            date formatting syntax. The variables available in\n            `hovertemplate` are the ones emitted as event data\n            described at this link\n            https://plotly.com/javascript/plotlyjs-events/#event-\n            data. Additionally, every attributes that can be\n            specified per-point (the ones that are `arrayOk: true`)\n            are available.  Anything contained in tag `<extra>` is\n            displayed in the secondary box, for example\n            \"<extra>{fullData.name}</extra>\". To hide the secondary\n            box completely, use an empty tag `<extra></extra>`.\n        hovertemplatesrc\n            Sets the source reference on Chart Studio Cloud for\n            `hovertemplate`.\n        hovertext\n            Sets hover text elements associated with each (x,y)\n            pair. If a single string, the same string appears over\n            all the data points. If an array of string, the items\n            are mapped in order to the this trace's (x,y)\n            coordinates. To be seen, trace `hoverinfo` must contain\n            a \"text\" flag.\n        hovertextsrc\n            Sets the source reference on Chart Studio Cloud for\n            `hovertext`.\n        ids\n            Assigns id labels to each datum. These ids for object\n            constancy of data points during animation. Should be an\n            array of strings, not numbers or any other type.\n        idssrc\n            Sets the source reference on Chart Studio Cloud for\n            `ids`.\n        legendgroup\n            Sets the legend group for this trace. Traces part of\n            the same legend group hide/show at the same time when\n            toggling legend items.\n        legendgrouptitle\n            :class:`plotly.graph_objects.scatter.Legendgrouptitle`\n            instance or dict with compatible properties\n        legendrank\n            Sets the legend rank for this trace. Items and groups\n            with smaller ranks are presented on top/left side while\n            with `*reversed* `legend.traceorder` they are on\n            bottom/right side. The default legendrank is 1000, so\n            that you can use ranks less than 1000 to place certain\n            items before all unranked items, and ranks greater than\n            1000 to go after all unranked items.\n        line\n            :class:`plotly.graph_objects.scatter.Line` instance or\n            dict with compatible properties\n        marker\n            :class:`plotly.graph_objects.scatter.Marker` instance\n            or dict with compatible properties\n        meta\n            Assigns extra meta information associated with this\n            trace that can be used in various text attributes.\n            Attributes such as trace `name`, graph, axis and\n            colorbar `title.text`, annotation `text`\n            `rangeselector`, `updatemenues` and `sliders` `label`\n            text all support `meta`. To access the trace `meta`\n            values in an attribute in the same trace, simply use\n            `%{meta[i]}` where `i` is the index or key of the\n            `meta` item in question. To access trace `meta` in\n            layout attributes, use `%{data[n[.meta[i]}` where `i`\n            is the index or key of the `meta` and `n` is the trace\n            index.\n        metasrc\n            Sets the source reference on Chart Studio Cloud for\n            `meta`.\n        mode\n            Determines the drawing mode for this scatter trace. If\n            the provided `mode` includes \"text\" then the `text`\n            elements appear at the coordinates. Otherwise, the\n            `text` elements appear on hover. If there are less than\n            20 points and the trace is not stacked then the default\n            is \"lines+markers\". Otherwise, \"lines\".\n        name\n            Sets the trace name. The trace name appear as the\n            legend item and on hover.\n        opacity\n            Sets the opacity of the trace.\n        orientation\n            Only relevant when `stackgroup` is used, and only the\n            first `orientation` found in the `stackgroup` will be\n            used - including if `visible` is \"legendonly\" but not\n            if it is `false`. Sets the stacking direction. With \"v\"\n            (\"h\"), the y (x) values of subsequent traces are added.\n            Also affects the default value of `fill`.\n        selected\n            :class:`plotly.graph_objects.scatter.Selected` instance\n            or dict with compatible properties\n        selectedpoints\n            Array containing integer indices of selected points.\n            Has an effect only for traces that support selections.\n            Note that an empty array means an empty selection where\n            the `unselected` are turned on for all points, whereas,\n            any other non-array values means no selection all where\n            the `selected` and `unselected` styles have no effect.\n        showlegend\n            Determines whether or not an item corresponding to this\n            trace is shown in the legend.\n        stackgaps\n            Only relevant when `stackgroup` is used, and only the\n            first `stackgaps` found in the `stackgroup` will be\n            used - including if `visible` is \"legendonly\" but not\n            if it is `false`. Determines how we handle locations at\n            which other traces in this group have data but this one\n            does not. With *infer zero* we insert a zero at these\n            locations. With \"interpolate\" we linearly interpolate\n            between existing values, and extrapolate a constant\n            beyond the existing values.\n        stackgroup\n            Set several scatter traces (on the same subplot) to the\n            same stackgroup in order to add their y values (or\n            their x values if `orientation` is \"h\"). If blank or\n            omitted this trace will not be stacked. Stacking also\n            turns `fill` on by default, using \"tonexty\" (\"tonextx\")\n            if `orientation` is \"h\" (\"v\") and sets the default\n            `mode` to \"lines\" irrespective of point count. You can\n            only stack on a numeric (linear or log) axis. Traces in\n            a `stackgroup` will only fill to (or be filled to)\n            other traces in the same group. With multiple\n            `stackgroup`s or some traces stacked and some not, if\n            fill-linked traces are not already consecutive, the\n            later ones will be pushed down in the drawing order.\n        stream\n            :class:`plotly.graph_objects.scatter.Stream` instance\n            or dict with compatible properties\n        text\n            Sets text elements associated with each (x,y) pair. If\n            a single string, the same string appears over all the\n            data points. If an array of string, the items are\n            mapped in order to the this trace's (x,y) coordinates.\n            If trace `hoverinfo` contains a \"text\" flag and\n            \"hovertext\" is not set, these elements will be seen in\n            the hover labels.\n        textfont\n            Sets the text font.\n        textposition\n            Sets the positions of the `text` elements with respects\n            to the (x,y) coordinates.\n        textpositionsrc\n            Sets the source reference on Chart Studio Cloud for\n            `textposition`.\n        textsrc\n            Sets the source reference on Chart Studio Cloud for\n            `text`.\n        texttemplate\n            Template string used for rendering the information text\n            that appear on points. Note that this will override\n            `textinfo`. Variables are inserted using %{variable},\n            for example \"y: %{y}\". Numbers are formatted using\n            d3-format's syntax %{variable:d3-format}, for example\n            \"Price: %{y:$.2f}\".\n            https://github.com/d3/d3-format/tree/v1.4.5#d3-format\n            for details on the formatting syntax. Dates are\n            formatted using d3-time-format's syntax\n            %{variable|d3-time-format}, for example \"Day:\n            %{2019-01-01|%A}\". https://github.com/d3/d3-time-\n            format/tree/v2.2.3#locale_format for details on the\n            date formatting syntax. Every attributes that can be\n            specified per-point (the ones that are `arrayOk: true`)\n            are available.\n        texttemplatesrc\n            Sets the source reference on Chart Studio Cloud for\n            `texttemplate`.\n        uid\n            Assign an id to this trace, Use this to provide object\n            constancy between traces during animations and\n            transitions.\n        uirevision\n            Controls persistence of some user-driven changes to the\n            trace: `constraintrange` in `parcoords` traces, as well\n            as some `editable: true` modifications such as `name`\n            and `colorbar.title`. Defaults to `layout.uirevision`.\n            Note that other user-driven trace attribute changes are\n            controlled by `layout` attributes: `trace.visible` is\n            controlled by `layout.legend.uirevision`,\n            `selectedpoints` is controlled by\n            `layout.selectionrevision`, and `colorbar.(x|y)`\n            (accessible with `config: {editable: true}`) is\n            controlled by `layout.editrevision`. Trace changes are\n            tracked by `uid`, which only falls back on trace index\n            if no `uid` is provided. So if your app can add/remove\n            traces before the end of the `data` array, such that\n            the same trace has a different index, you can still\n            preserve user-driven changes if you give each trace a\n            `uid` that stays with it as it moves.\n        unselected\n            :class:`plotly.graph_objects.scatter.Unselected`\n            instance or dict with compatible properties\n        visible\n            Determines whether or not this trace is visible. If\n            \"legendonly\", the trace is not drawn, but can appear as\n            a legend item (provided that the legend itself is\n            visible).\n        x\n            Sets the x coordinates.\n        x0\n            Alternate to `x`. Builds a linear space of x\n            coordinates. Use with `dx` where `x0` is the starting\n            coordinate and `dx` the step.\n        xaxis\n            Sets a reference between this trace's x coordinates and\n            a 2D cartesian x axis. If \"x\" (the default value), the\n            x coordinates refer to `layout.xaxis`. If \"x2\", the x\n            coordinates refer to `layout.xaxis2`, and so on.\n        xcalendar\n            Sets the calendar system to use with `x` date data.\n        xhoverformat\n            Sets the hover text formatting rulefor `x`  using d3\n            formatting mini-languages which are very similar to\n            those in Python. For numbers, see:\n            https://github.com/d3/d3-format/tree/v1.4.5#d3-format.\n            And for dates see: https://github.com/d3/d3-time-\n            format/tree/v2.2.3#locale_format. We add two items to\n            d3's date formatter: \"%h\" for half of the year as a\n            decimal number as well as \"%{n}f\" for fractional\n            seconds with n digits. For example, *2016-10-13\n            09:15:23.456* with tickformat \"%H~%M~%S.%2f\" would\n            display *09~15~23.46*By default the values are\n            formatted using `xaxis.hoverformat`.\n        xperiod\n            Only relevant when the axis `type` is \"date\". Sets the\n            period positioning in milliseconds or \"M<n>\" on the x\n            axis. Special values in the form of \"M<n>\" could be\n            used to declare the number of months. In this case `n`\n            must be a positive integer.\n        xperiod0\n            Only relevant when the axis `type` is \"date\". Sets the\n            base for period positioning in milliseconds or date\n            string on the x0 axis. When `x0period` is round number\n            of weeks, the `x0period0` by default would be on a\n            Sunday i.e. 2000-01-02, otherwise it would be at\n            2000-01-01.\n        xperiodalignment\n            Only relevant when the axis `type` is \"date\". Sets the\n            alignment of data points on the x axis.\n        xsrc\n            Sets the source reference on Chart Studio Cloud for\n            `x`.\n        y\n            Sets the y coordinates.\n        y0\n            Alternate to `y`. Builds a linear space of y\n            coordinates. Use with `dy` where `y0` is the starting\n            coordinate and `dy` the step.\n        yaxis\n            Sets a reference between this trace's y coordinates and\n            a 2D cartesian y axis. If \"y\" (the default value), the\n            y coordinates refer to `layout.yaxis`. If \"y2\", the y\n            coordinates refer to `layout.yaxis2`, and so on.\n        ycalendar\n            Sets the calendar system to use with `y` date data.\n        yhoverformat\n            Sets the hover text formatting rulefor `y`  using d3\n            formatting mini-languages which are very similar to\n            those in Python. For numbers, see:\n            https://github.com/d3/d3-format/tree/v1.4.5#d3-format.\n            And for dates see: https://github.com/d3/d3-time-\n            format/tree/v2.2.3#locale_format. We add two items to\n            d3's date formatter: \"%h\" for half of the year as a\n            decimal number as well as \"%{n}f\" for fractional\n            seconds with n digits. For example, *2016-10-13\n            09:15:23.456* with tickformat \"%H~%M~%S.%2f\" would\n            display *09~15~23.46*By default the values are\n            formatted using `yaxis.hoverformat`.\n        yperiod\n            Only relevant when the axis `type` is \"date\". Sets the\n            period positioning in milliseconds or \"M<n>\" on the y\n            axis. Special values in the form of \"M<n>\" could be\n            used to declare the number of months. In this case `n`\n            must be a positive integer.\n        yperiod0\n            Only relevant when the axis `type` is \"date\". Sets the\n            base for period positioning in milliseconds or date\n            string on the y0 axis. When `y0period` is round number\n            of weeks, the `y0period0` by default would be on a\n            Sunday i.e. 2000-01-02, otherwise it would be at\n            2000-01-01.\n        yperiodalignment\n            Only relevant when the axis `type` is \"date\". Sets the\n            alignment of data points on the y axis.\n        ysrc\n            Sets the source reference on Chart Studio Cloud for\n            `y`.\n        \nDid you mean \"hoveron\"?\n\nBad property path:\nhover_data\n^^^^^"
     ]
    }
   ],
   "source": [
    "import plotly.graph_objects as go\n",
    "\n",
    "fig = go.Figure()\n",
    "\n",
    "fig.add_trace(go.Scatter(x=df[\"Registration Date\"], y=df[\"Registrations\"]/df[\"BTC Price\"],\n",
    "    name=\"Normalized Registrations\"       # this sets its legend entry\n",
    "))\n",
    "\n",
    "\n",
    "fig.add_trace(go.Scatter(x=df_events[\"Registration Date\"], y=df_events[\"Registrations\"]/df_events[\"BTC Price\"],\n",
    "    name=\"Event\", mode='markers', marker=dict(size=12, line=dict(width=2, color='DarkSlateGrey')),\n",
    "    hover_data=[\"Event\"]\n",
    "))\n",
    "\n",
    "fig.update_layout(\n",
    "    title=\"BTC Normalized Registrations\",\n",
    "    xaxis_title=\"Date\",\n",
    "    yaxis_title=\"Registrations/BTC\",\n",
    "    legend_title=\"Legend Title\",\n",
    "    font=dict(size=18),\n",
    "    hovermode=\"x unified\"\n",
    ")\n",
    "\n",
    "fig.show()"
   ],
   "metadata": {
    "collapsed": false,
    "pycharm": {
     "name": "#%%\n"
    }
   }
  },
  {
   "cell_type": "code",
   "execution_count": 50,
   "outputs": [
    {
     "data": {
      "text/plain": "                    Date                                              Event\n0    2021-01-01 00:00:00  BTC Rate: From 6.39% to 6.2 up to 2 BTC and 4....\n1    2021-01-02 00:00:00                                               None\n2    2021-01-03 00:00:00                                               None\n3    2021-01-04 00:00:00                                               None\n4    2021-01-05 00:00:00                                               None\n..                   ...                                                ...\n420  2022-02-25 00:00:00                                               None\n421  2022-02-26 00:00:00                                               None\n422  2022-02-27 00:00:00                                               None\n423  2022-02-28 00:00:00                                               None\n424  2022-03-01 00:00:00                                               None\n\n[425 rows x 2 columns]",
      "text/html": "<div>\n<style scoped>\n    .dataframe tbody tr th:only-of-type {\n        vertical-align: middle;\n    }\n\n    .dataframe tbody tr th {\n        vertical-align: top;\n    }\n\n    .dataframe thead th {\n        text-align: right;\n    }\n</style>\n<table border=\"1\" class=\"dataframe\">\n  <thead>\n    <tr style=\"text-align: right;\">\n      <th></th>\n      <th>Date</th>\n      <th>Event</th>\n    </tr>\n  </thead>\n  <tbody>\n    <tr>\n      <th>0</th>\n      <td>2021-01-01 00:00:00</td>\n      <td>BTC Rate: From 6.39% to 6.2 up to 2 BTC and 4....</td>\n    </tr>\n    <tr>\n      <th>1</th>\n      <td>2021-01-02 00:00:00</td>\n      <td>None</td>\n    </tr>\n    <tr>\n      <th>2</th>\n      <td>2021-01-03 00:00:00</td>\n      <td>None</td>\n    </tr>\n    <tr>\n      <th>3</th>\n      <td>2021-01-04 00:00:00</td>\n      <td>None</td>\n    </tr>\n    <tr>\n      <th>4</th>\n      <td>2021-01-05 00:00:00</td>\n      <td>None</td>\n    </tr>\n    <tr>\n      <th>...</th>\n      <td>...</td>\n      <td>...</td>\n    </tr>\n    <tr>\n      <th>420</th>\n      <td>2022-02-25 00:00:00</td>\n      <td>None</td>\n    </tr>\n    <tr>\n      <th>421</th>\n      <td>2022-02-26 00:00:00</td>\n      <td>None</td>\n    </tr>\n    <tr>\n      <th>422</th>\n      <td>2022-02-27 00:00:00</td>\n      <td>None</td>\n    </tr>\n    <tr>\n      <th>423</th>\n      <td>2022-02-28 00:00:00</td>\n      <td>None</td>\n    </tr>\n    <tr>\n      <th>424</th>\n      <td>2022-03-01 00:00:00</td>\n      <td>None</td>\n    </tr>\n  </tbody>\n</table>\n<p>425 rows × 2 columns</p>\n</div>"
     },
     "execution_count": 50,
     "metadata": {},
     "output_type": "execute_result"
    }
   ],
   "source": [
    "df2"
   ],
   "metadata": {
    "collapsed": false,
    "pycharm": {
     "name": "#%%\n"
    }
   }
  },
  {
   "cell_type": "code",
   "execution_count": null,
   "outputs": [],
   "source": [],
   "metadata": {
    "collapsed": false,
    "pycharm": {
     "name": "#%%\n"
    }
   }
  }
 ],
 "metadata": {
  "kernelspec": {
   "name": "python3910jvsc74a57bd01652b92314cb6b422721557bd99062dd50832c7da4d0d4007071b8155fa2b3f4",
   "language": "python",
   "display_name": "Python 3.9.10 ('base')"
  },
  "language_info": {
   "codemirror_mode": {
    "name": "ipython",
    "version": 2
   },
   "file_extension": ".py",
   "mimetype": "text/x-python",
   "name": "python",
   "nbconvert_exporter": "python",
   "pygments_lexer": "ipython2",
   "version": "2.7.6"
  }
 },
 "nbformat": 4,
 "nbformat_minor": 0
}