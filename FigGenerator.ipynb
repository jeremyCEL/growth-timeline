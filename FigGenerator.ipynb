{
 "cells": [
  {
   "cell_type": "code",
   "execution_count": 16,
   "metadata": {
    "collapsed": true
   },
   "outputs": [],
   "source": [
    "sys.path.insert(0, \"/Users/jeremythaller/Documents/python-scripts/GoogleSheetsAPI\")\n",
    "from google_conn import *\n",
    "from database_conn import BackOffice, Veritas\n",
    "# import cdf as pd\n",
    "import pandas as pd\n",
    "bo = BackOffice()\n",
    "ver = Veritas()\n",
    "import plotly\n",
    "import datetime as dt\n",
    "from datetime import date"
   ]
  },
  {
   "cell_type": "code",
   "execution_count": 223,
   "outputs": [],
   "source": [
    "def excel_date(date1):\n",
    "    return str(dt.datetime(1899, 12, 30)\n",
    "            + dt.timedelta(days=date1))[:10]"
   ],
   "metadata": {
    "collapsed": false,
    "pycharm": {
     "name": "#%%\n"
    }
   }
  },
  {
   "cell_type": "markdown",
   "source": [
    "Pull data from the Growth Dashboard Sheet"
   ],
   "metadata": {
    "collapsed": false
   }
  },
  {
   "cell_type": "code",
   "execution_count": 224,
   "outputs": [
    {
     "data": {
      "text/plain": "  Registration Date  Registrations  Passed KYC  Made a Deposit  Bought Coin  \\\n0        2021-01-01           2257        1651            1049          255   \n1        2021-01-02           3922        2561            1474          419   \n2        2021-01-03           4621        2969            1619          465   \n3        2021-01-04           3285        2324            1362          316   \n4        2021-01-05           3197        2297            1354          309   \n\n   Made a Swap  Took a Loan  Total KYC Incomplete  Completed Authentification  \\\n0           33           90                   606                         304   \n1           60          119                  1361                         691   \n2           42          116                  1652                         841   \n3           41          116                   961                         493   \n4           42          128                   900                         479   \n\n   Verified Indentity  Confirmed Location  Reg to KYC Passed %  \\\n0                 190                 161             0.731502   \n1                 459                 390             0.652983   \n2                 589                 503             0.642502   \n3                 323                 275             0.707458   \n4                 314                 266             0.718486   \n\n   Reg to Deposit %  KYC to Deposit %     BTC Price  \n0          0.464776          0.635373  29344.673831  \n1          0.375829          0.575556  32072.078133  \n2          0.350357          0.545301  33048.027784  \n3          0.414612          0.586059  32084.607546  \n4          0.423522          0.589465  34105.463383  ",
      "text/html": "<div>\n<style scoped>\n    .dataframe tbody tr th:only-of-type {\n        vertical-align: middle;\n    }\n\n    .dataframe tbody tr th {\n        vertical-align: top;\n    }\n\n    .dataframe thead th {\n        text-align: right;\n    }\n</style>\n<table border=\"1\" class=\"dataframe\">\n  <thead>\n    <tr style=\"text-align: right;\">\n      <th></th>\n      <th>Registration Date</th>\n      <th>Registrations</th>\n      <th>Passed KYC</th>\n      <th>Made a Deposit</th>\n      <th>Bought Coin</th>\n      <th>Made a Swap</th>\n      <th>Took a Loan</th>\n      <th>Total KYC Incomplete</th>\n      <th>Completed Authentification</th>\n      <th>Verified Indentity</th>\n      <th>Confirmed Location</th>\n      <th>Reg to KYC Passed %</th>\n      <th>Reg to Deposit %</th>\n      <th>KYC to Deposit %</th>\n      <th>BTC Price</th>\n    </tr>\n  </thead>\n  <tbody>\n    <tr>\n      <th>0</th>\n      <td>2021-01-01</td>\n      <td>2257</td>\n      <td>1651</td>\n      <td>1049</td>\n      <td>255</td>\n      <td>33</td>\n      <td>90</td>\n      <td>606</td>\n      <td>304</td>\n      <td>190</td>\n      <td>161</td>\n      <td>0.731502</td>\n      <td>0.464776</td>\n      <td>0.635373</td>\n      <td>29344.673831</td>\n    </tr>\n    <tr>\n      <th>1</th>\n      <td>2021-01-02</td>\n      <td>3922</td>\n      <td>2561</td>\n      <td>1474</td>\n      <td>419</td>\n      <td>60</td>\n      <td>119</td>\n      <td>1361</td>\n      <td>691</td>\n      <td>459</td>\n      <td>390</td>\n      <td>0.652983</td>\n      <td>0.375829</td>\n      <td>0.575556</td>\n      <td>32072.078133</td>\n    </tr>\n    <tr>\n      <th>2</th>\n      <td>2021-01-03</td>\n      <td>4621</td>\n      <td>2969</td>\n      <td>1619</td>\n      <td>465</td>\n      <td>42</td>\n      <td>116</td>\n      <td>1652</td>\n      <td>841</td>\n      <td>589</td>\n      <td>503</td>\n      <td>0.642502</td>\n      <td>0.350357</td>\n      <td>0.545301</td>\n      <td>33048.027784</td>\n    </tr>\n    <tr>\n      <th>3</th>\n      <td>2021-01-04</td>\n      <td>3285</td>\n      <td>2324</td>\n      <td>1362</td>\n      <td>316</td>\n      <td>41</td>\n      <td>116</td>\n      <td>961</td>\n      <td>493</td>\n      <td>323</td>\n      <td>275</td>\n      <td>0.707458</td>\n      <td>0.414612</td>\n      <td>0.586059</td>\n      <td>32084.607546</td>\n    </tr>\n    <tr>\n      <th>4</th>\n      <td>2021-01-05</td>\n      <td>3197</td>\n      <td>2297</td>\n      <td>1354</td>\n      <td>309</td>\n      <td>42</td>\n      <td>128</td>\n      <td>900</td>\n      <td>479</td>\n      <td>314</td>\n      <td>266</td>\n      <td>0.718486</td>\n      <td>0.423522</td>\n      <td>0.589465</td>\n      <td>34105.463383</td>\n    </tr>\n  </tbody>\n</table>\n</div>"
     },
     "execution_count": 224,
     "metadata": {},
     "output_type": "execute_result"
    }
   ],
   "source": [
    "GROWTH_DASH_SHEET_ID = '12f8T3_w-eO4vfT3UkoD2ErSCbGwFnEVF44C9Ya96QnA'\n",
    "dash_table = GoogleSheets(spreadsheetId=GROWTH_DASH_SHEET_ID)\n",
    "result = dash_table.batchGet(ranges=['A1:O'])\n",
    "data = result[0].get('values')\n",
    "df = pd.DataFrame(data[1:], columns=[x.replace('\\n', ' ') for x in data[0]])\n",
    "df['Registration Date'] = df['Registration Date'].apply(excel_date)\n",
    "df.head()"
   ],
   "metadata": {
    "collapsed": false,
    "pycharm": {
     "name": "#%%\n"
    }
   }
  },
  {
   "cell_type": "markdown",
   "source": [],
   "metadata": {
    "collapsed": false
   }
  },
  {
   "cell_type": "code",
   "execution_count": 225,
   "outputs": [
    {
     "data": {
      "text/plain": "         Date                                              Event\n0  2021-01-01  BTC Rate: From 6.39% to 6.2 up to 2 BTC and 4....\n1  2021-01-02                                               None\n2  2021-01-03                                               None\n3  2021-01-04                                               None\n4  2021-01-05                                               None",
      "text/html": "<div>\n<style scoped>\n    .dataframe tbody tr th:only-of-type {\n        vertical-align: middle;\n    }\n\n    .dataframe tbody tr th {\n        vertical-align: top;\n    }\n\n    .dataframe thead th {\n        text-align: right;\n    }\n</style>\n<table border=\"1\" class=\"dataframe\">\n  <thead>\n    <tr style=\"text-align: right;\">\n      <th></th>\n      <th>Date</th>\n      <th>Event</th>\n    </tr>\n  </thead>\n  <tbody>\n    <tr>\n      <th>0</th>\n      <td>2021-01-01</td>\n      <td>BTC Rate: From 6.39% to 6.2 up to 2 BTC and 4....</td>\n    </tr>\n    <tr>\n      <th>1</th>\n      <td>2021-01-02</td>\n      <td>None</td>\n    </tr>\n    <tr>\n      <th>2</th>\n      <td>2021-01-03</td>\n      <td>None</td>\n    </tr>\n    <tr>\n      <th>3</th>\n      <td>2021-01-04</td>\n      <td>None</td>\n    </tr>\n    <tr>\n      <th>4</th>\n      <td>2021-01-05</td>\n      <td>None</td>\n    </tr>\n  </tbody>\n</table>\n</div>"
     },
     "execution_count": 225,
     "metadata": {},
     "output_type": "execute_result"
    }
   ],
   "source": [
    "EVENT_SHEET_ID = '1yNG7vAk5jtnd28oNawzZhz3woFEgune2U3iZUmcySiA'\n",
    "event_table = GoogleSheets(spreadsheetId=EVENT_SHEET_ID)\n",
    "result = event_table.batchGet(ranges=['A1:C'])\n",
    "data = result[0].get('values')\n",
    "df2 = pd.DataFrame(data[1:], columns=[x.replace('\\n', ' ') for x in data[0]])\n",
    "df2['Date'] = df2['Date'].apply(excel_date)\n",
    "df2.head()"
   ],
   "metadata": {
    "collapsed": false,
    "pycharm": {
     "name": "#%%\n"
    }
   }
  },
  {
   "cell_type": "code",
   "execution_count": 264,
   "outputs": [],
   "source": [
    "df_temp = df2[~df2['Event'].isna()]\n",
    "dates = df_temp.Date\n",
    "df_events = df[df[\"Registration Date\"].isin(df_temp.Date)]\n",
    "df_events = df_events.merge(df_temp, left_on=\"Registration Date\", right_on=\"Date\", how='left')"
   ],
   "metadata": {
    "collapsed": false,
    "pycharm": {
     "name": "#%%\n"
    }
   }
  },
  {
   "cell_type": "code",
   "execution_count": 263,
   "outputs": [
    {
     "data": {
      "text/plain": "   Registration Date  Registrations  Passed KYC  Made a Deposit  Bought Coin  \\\n0         2021-01-01           2257        1651            1049          255   \n1         2021-01-15           2107        1406             818          190   \n2         2021-02-06           2816        1834            1071          220   \n3         2021-02-09           4125        3024            1658          339   \n4         2021-03-06           2272        1675             997          151   \n5         2021-04-03           2956        2056            1088          151   \n6         2021-04-20           2823        1950             869          124   \n7         2021-05-12           4174        3103            1502          265   \n8         2021-05-18           3597        2618            1289          202   \n9         2021-05-20           3006        2203            1089          191   \n10        2021-05-31           2634        1867            1120          190   \n11        2021-06-21           1544        1050             603           88   \n12        2021-06-28           1855        1267             707          100   \n13        2021-07-03           2627        1899            1267          182   \n14        2021-07-20           1720        1199             737          100   \n15        2021-08-01           2663        1749            1100          143   \n16        2021-08-04           2604        1649            1010          124   \n17        2021-08-12           2604        1681             959          134   \n18        2021-08-27           3850        2454            1332          178   \n19        2021-09-02           4791        2958            1611          197   \n20        2021-09-08           4665        2793            1352          184   \n21        2021-09-13           3803        2360            1180          164   \n22        2021-09-20           3280        1927             954          124   \n23        2021-10-02           2828        1666             921           74   \n24        2021-10-31           3978        2332            1159          154   \n25        2021-11-12           4166        2511            1164          162   \n26        2021-11-13           4256        2593            1261          183   \n27        2021-11-18           3633        2204            1032          153   \n28        2021-12-02           3348        1985             918          132   \n29        2021-12-03           2980        1707             827          134   \n\n    Made a Swap  Took a Loan  Total KYC Incomplete  \\\n0            33           90                   606   \n1            24           66                   701   \n2            28           77                   982   \n3            43          131                  1101   \n4            41           73                   597   \n5            38           94                   900   \n6            30           74                   873   \n7            73           98                  1071   \n8            44           65                   979   \n9            43           76                   803   \n10           39           70                   767   \n11           16           45                   494   \n12           28           54                   588   \n13           84          159                   728   \n14           33           54                   521   \n15           34           68                   914   \n16           36           89                   955   \n17           26           53                   923   \n18           61          101                  1396   \n19           52           80                  1833   \n20           36           72                  1872   \n21           28           65                  1443   \n22           27           53                  1353   \n23           31           53                  1162   \n24           33           64                  1646   \n25           30           47                  1655   \n26           31           47                  1663   \n27           23           36                  1429   \n28            2           31                  1363   \n29            2           29                  1273   \n\n    Completed Authentification  Verified Indentity  Confirmed Location  \\\n0                          304                 190                 161   \n1                          360                 225                 196   \n2                          321                 218                 193   \n3                          438                 286                 252   \n4                          292                 177                 156   \n5                          377                 251                 222   \n6                          318                 202                 172   \n7                          519                 325                 284   \n8                          441                 284                 246   \n9                          395                 267                 239   \n10                         371                 234                 215   \n11                         261                 161                 148   \n12                         289                 199                 180   \n13                         389                 289                 267   \n14                         257                 187                 177   \n15                         435                 305                 280   \n16                         463                 296                 268   \n17                         421                 290                 264   \n18                         637                 463                 424   \n19                         952                 550                 498   \n20                         947                 629                 559   \n21                         845                 546                 487   \n22                         759                 498                 438   \n23                         635                 422                 371   \n24                         967                 704                 586   \n25                         944                 642                 538   \n26                         955                 667                 553   \n27                         815                 548                 446   \n28                         786                 550                 449   \n29                         819                 569                 479   \n\n    Reg to KYC Passed %  Reg to Deposit %  KYC to Deposit %     BTC Price  \\\n0              0.731502          0.464776          0.635373  29344.673831   \n1              0.667299          0.388230          0.581792  36705.814268   \n2              0.651278          0.380327          0.583969  39150.618516   \n3              0.733091          0.401939          0.548280  46398.460101   \n4              0.737236          0.438820          0.595224  48858.552058   \n5              0.695535          0.368065          0.529183  57165.971462   \n6              0.690755          0.307829          0.445641  56581.488654   \n7              0.743412          0.359847          0.484048  51300.622147   \n8              0.727829          0.358354          0.492361  43122.034319   \n9              0.732868          0.362275          0.494326  40564.507643   \n10             0.708808          0.425209          0.599893  37366.183321   \n11             0.680052          0.390544          0.574286  31716.448139   \n12             0.683019          0.381132          0.558011  34482.805356   \n13             0.722878          0.482299          0.667193  34680.584321   \n14             0.697093          0.428488          0.614679  29834.519787   \n15             0.656778          0.413068          0.628931  40057.845140   \n16             0.633257          0.387865          0.612492  39802.492927   \n17             0.645545          0.368280          0.570494  44486.782121   \n18             0.637403          0.345974          0.542787  49079.375937   \n19             0.617408          0.336255          0.544625  49362.536759   \n20             0.598714          0.289818          0.484067  46125.210292   \n21             0.620563          0.310281          0.500000  45098.415308   \n22             0.587500          0.290854          0.495070  42980.492224   \n23             0.589109          0.325672          0.552821  47720.559213   \n24             0.586224          0.291352          0.496998  61410.279983   \n25             0.602736          0.279405          0.463560  64263.419496   \n26             0.609258          0.296288          0.486309  64590.212948   \n27             0.606661          0.284063          0.468240  56907.934470   \n28             0.592891          0.274194          0.462469  56448.379349   \n29             0.572819          0.277517          0.484476  53821.988753   \n\n          Date                                              Event  \n0   2021-01-01  BTC Rate: From 6.39% to 6.2 up to 2 BTC and 4....  \n1   2021-01-15     BTC rate to 4.7% from 4.5% for more than 2 BTC  \n2   2021-02-06                Started Sending Welcome email again  \n3   2021-02-09                   Elon Musk BTC pump +10K in 1 day  \n4   2021-03-06       BTC rate to 4% from 4.7% for more than 2 BTC  \n5   2021-04-03       BTC rate to 3.5% from 4% for more than 2 BTC  \n6   2021-04-20    Started sending Drip campagin to KYC not passed  \n7   2021-05-12                                          BTC crash  \n8   2021-05-18                                            CEL ATH  \n9   2021-05-20                                        MA v4.8.0@9  \n10  2021-05-31                                           UK Block  \n11  2021-06-21                    CEL down more than 50% from ATH  \n12  2021-06-28         New York and Washington from 70% to 20% CR  \n13  2021-07-03  BTC rate to 6.2% up to 1 BTC from 2 BTC + ETH ...  \n14  2021-07-20                                         BTC bottom  \n15  2021-08-01  Started sending Drip campagins to KYC passed -...  \n16  2021-08-04  ToU / PP / Cookies Policy / $50+$50 / Appsflye...  \n17  2021-08-12                Website announcing California Loans  \n18  2021-08-27                               WS 1.0.7 ADA release  \n19  2021-09-02      Adding the webapp sign up flow to the website  \n20  2021-09-08                                            BTC ATH  \n21  2021-09-13                                     Kentucky Block  \n22  2021-09-20                       adding ETH promotional rates  \n23  2021-10-02  ETH rate to 3.5% for more than 100 ETH from 5.05%  \n24  2021-10-31  CTR to signup page start down trend from 12% t...  \n25  2021-11-12         New stablecoins promotion and rate updates  \n26  2021-11-13  BTC rate to 6.2% up to 0.25 BTC  and 3.05% for...  \n27  2021-11-18  Update BTC rewards rates | Customer Care main ...  \n28  2021-12-02                              Transition to Next.js  \n29  2021-12-03                                          BTC Crash  ",
      "text/html": "<div>\n<style scoped>\n    .dataframe tbody tr th:only-of-type {\n        vertical-align: middle;\n    }\n\n    .dataframe tbody tr th {\n        vertical-align: top;\n    }\n\n    .dataframe thead th {\n        text-align: right;\n    }\n</style>\n<table border=\"1\" class=\"dataframe\">\n  <thead>\n    <tr style=\"text-align: right;\">\n      <th></th>\n      <th>Registration Date</th>\n      <th>Registrations</th>\n      <th>Passed KYC</th>\n      <th>Made a Deposit</th>\n      <th>Bought Coin</th>\n      <th>Made a Swap</th>\n      <th>Took a Loan</th>\n      <th>Total KYC Incomplete</th>\n      <th>Completed Authentification</th>\n      <th>Verified Indentity</th>\n      <th>Confirmed Location</th>\n      <th>Reg to KYC Passed %</th>\n      <th>Reg to Deposit %</th>\n      <th>KYC to Deposit %</th>\n      <th>BTC Price</th>\n      <th>Date</th>\n      <th>Event</th>\n    </tr>\n  </thead>\n  <tbody>\n    <tr>\n      <th>0</th>\n      <td>2021-01-01</td>\n      <td>2257</td>\n      <td>1651</td>\n      <td>1049</td>\n      <td>255</td>\n      <td>33</td>\n      <td>90</td>\n      <td>606</td>\n      <td>304</td>\n      <td>190</td>\n      <td>161</td>\n      <td>0.731502</td>\n      <td>0.464776</td>\n      <td>0.635373</td>\n      <td>29344.673831</td>\n      <td>2021-01-01</td>\n      <td>BTC Rate: From 6.39% to 6.2 up to 2 BTC and 4....</td>\n    </tr>\n    <tr>\n      <th>1</th>\n      <td>2021-01-15</td>\n      <td>2107</td>\n      <td>1406</td>\n      <td>818</td>\n      <td>190</td>\n      <td>24</td>\n      <td>66</td>\n      <td>701</td>\n      <td>360</td>\n      <td>225</td>\n      <td>196</td>\n      <td>0.667299</td>\n      <td>0.388230</td>\n      <td>0.581792</td>\n      <td>36705.814268</td>\n      <td>2021-01-15</td>\n      <td>BTC rate to 4.7% from 4.5% for more than 2 BTC</td>\n    </tr>\n    <tr>\n      <th>2</th>\n      <td>2021-02-06</td>\n      <td>2816</td>\n      <td>1834</td>\n      <td>1071</td>\n      <td>220</td>\n      <td>28</td>\n      <td>77</td>\n      <td>982</td>\n      <td>321</td>\n      <td>218</td>\n      <td>193</td>\n      <td>0.651278</td>\n      <td>0.380327</td>\n      <td>0.583969</td>\n      <td>39150.618516</td>\n      <td>2021-02-06</td>\n      <td>Started Sending Welcome email again</td>\n    </tr>\n    <tr>\n      <th>3</th>\n      <td>2021-02-09</td>\n      <td>4125</td>\n      <td>3024</td>\n      <td>1658</td>\n      <td>339</td>\n      <td>43</td>\n      <td>131</td>\n      <td>1101</td>\n      <td>438</td>\n      <td>286</td>\n      <td>252</td>\n      <td>0.733091</td>\n      <td>0.401939</td>\n      <td>0.548280</td>\n      <td>46398.460101</td>\n      <td>2021-02-09</td>\n      <td>Elon Musk BTC pump +10K in 1 day</td>\n    </tr>\n    <tr>\n      <th>4</th>\n      <td>2021-03-06</td>\n      <td>2272</td>\n      <td>1675</td>\n      <td>997</td>\n      <td>151</td>\n      <td>41</td>\n      <td>73</td>\n      <td>597</td>\n      <td>292</td>\n      <td>177</td>\n      <td>156</td>\n      <td>0.737236</td>\n      <td>0.438820</td>\n      <td>0.595224</td>\n      <td>48858.552058</td>\n      <td>2021-03-06</td>\n      <td>BTC rate to 4% from 4.7% for more than 2 BTC</td>\n    </tr>\n    <tr>\n      <th>5</th>\n      <td>2021-04-03</td>\n      <td>2956</td>\n      <td>2056</td>\n      <td>1088</td>\n      <td>151</td>\n      <td>38</td>\n      <td>94</td>\n      <td>900</td>\n      <td>377</td>\n      <td>251</td>\n      <td>222</td>\n      <td>0.695535</td>\n      <td>0.368065</td>\n      <td>0.529183</td>\n      <td>57165.971462</td>\n      <td>2021-04-03</td>\n      <td>BTC rate to 3.5% from 4% for more than 2 BTC</td>\n    </tr>\n    <tr>\n      <th>6</th>\n      <td>2021-04-20</td>\n      <td>2823</td>\n      <td>1950</td>\n      <td>869</td>\n      <td>124</td>\n      <td>30</td>\n      <td>74</td>\n      <td>873</td>\n      <td>318</td>\n      <td>202</td>\n      <td>172</td>\n      <td>0.690755</td>\n      <td>0.307829</td>\n      <td>0.445641</td>\n      <td>56581.488654</td>\n      <td>2021-04-20</td>\n      <td>Started sending Drip campagin to KYC not passed</td>\n    </tr>\n    <tr>\n      <th>7</th>\n      <td>2021-05-12</td>\n      <td>4174</td>\n      <td>3103</td>\n      <td>1502</td>\n      <td>265</td>\n      <td>73</td>\n      <td>98</td>\n      <td>1071</td>\n      <td>519</td>\n      <td>325</td>\n      <td>284</td>\n      <td>0.743412</td>\n      <td>0.359847</td>\n      <td>0.484048</td>\n      <td>51300.622147</td>\n      <td>2021-05-12</td>\n      <td>BTC crash</td>\n    </tr>\n    <tr>\n      <th>8</th>\n      <td>2021-05-18</td>\n      <td>3597</td>\n      <td>2618</td>\n      <td>1289</td>\n      <td>202</td>\n      <td>44</td>\n      <td>65</td>\n      <td>979</td>\n      <td>441</td>\n      <td>284</td>\n      <td>246</td>\n      <td>0.727829</td>\n      <td>0.358354</td>\n      <td>0.492361</td>\n      <td>43122.034319</td>\n      <td>2021-05-18</td>\n      <td>CEL ATH</td>\n    </tr>\n    <tr>\n      <th>9</th>\n      <td>2021-05-20</td>\n      <td>3006</td>\n      <td>2203</td>\n      <td>1089</td>\n      <td>191</td>\n      <td>43</td>\n      <td>76</td>\n      <td>803</td>\n      <td>395</td>\n      <td>267</td>\n      <td>239</td>\n      <td>0.732868</td>\n      <td>0.362275</td>\n      <td>0.494326</td>\n      <td>40564.507643</td>\n      <td>2021-05-20</td>\n      <td>MA v4.8.0@9</td>\n    </tr>\n    <tr>\n      <th>10</th>\n      <td>2021-05-31</td>\n      <td>2634</td>\n      <td>1867</td>\n      <td>1120</td>\n      <td>190</td>\n      <td>39</td>\n      <td>70</td>\n      <td>767</td>\n      <td>371</td>\n      <td>234</td>\n      <td>215</td>\n      <td>0.708808</td>\n      <td>0.425209</td>\n      <td>0.599893</td>\n      <td>37366.183321</td>\n      <td>2021-05-31</td>\n      <td>UK Block</td>\n    </tr>\n    <tr>\n      <th>11</th>\n      <td>2021-06-21</td>\n      <td>1544</td>\n      <td>1050</td>\n      <td>603</td>\n      <td>88</td>\n      <td>16</td>\n      <td>45</td>\n      <td>494</td>\n      <td>261</td>\n      <td>161</td>\n      <td>148</td>\n      <td>0.680052</td>\n      <td>0.390544</td>\n      <td>0.574286</td>\n      <td>31716.448139</td>\n      <td>2021-06-21</td>\n      <td>CEL down more than 50% from ATH</td>\n    </tr>\n    <tr>\n      <th>12</th>\n      <td>2021-06-28</td>\n      <td>1855</td>\n      <td>1267</td>\n      <td>707</td>\n      <td>100</td>\n      <td>28</td>\n      <td>54</td>\n      <td>588</td>\n      <td>289</td>\n      <td>199</td>\n      <td>180</td>\n      <td>0.683019</td>\n      <td>0.381132</td>\n      <td>0.558011</td>\n      <td>34482.805356</td>\n      <td>2021-06-28</td>\n      <td>New York and Washington from 70% to 20% CR</td>\n    </tr>\n    <tr>\n      <th>13</th>\n      <td>2021-07-03</td>\n      <td>2627</td>\n      <td>1899</td>\n      <td>1267</td>\n      <td>182</td>\n      <td>84</td>\n      <td>159</td>\n      <td>728</td>\n      <td>389</td>\n      <td>289</td>\n      <td>267</td>\n      <td>0.722878</td>\n      <td>0.482299</td>\n      <td>0.667193</td>\n      <td>34680.584321</td>\n      <td>2021-07-03</td>\n      <td>BTC rate to 6.2% up to 1 BTC from 2 BTC + ETH ...</td>\n    </tr>\n    <tr>\n      <th>14</th>\n      <td>2021-07-20</td>\n      <td>1720</td>\n      <td>1199</td>\n      <td>737</td>\n      <td>100</td>\n      <td>33</td>\n      <td>54</td>\n      <td>521</td>\n      <td>257</td>\n      <td>187</td>\n      <td>177</td>\n      <td>0.697093</td>\n      <td>0.428488</td>\n      <td>0.614679</td>\n      <td>29834.519787</td>\n      <td>2021-07-20</td>\n      <td>BTC bottom</td>\n    </tr>\n    <tr>\n      <th>15</th>\n      <td>2021-08-01</td>\n      <td>2663</td>\n      <td>1749</td>\n      <td>1100</td>\n      <td>143</td>\n      <td>34</td>\n      <td>68</td>\n      <td>914</td>\n      <td>435</td>\n      <td>305</td>\n      <td>280</td>\n      <td>0.656778</td>\n      <td>0.413068</td>\n      <td>0.628931</td>\n      <td>40057.845140</td>\n      <td>2021-08-01</td>\n      <td>Started sending Drip campagins to KYC passed -...</td>\n    </tr>\n    <tr>\n      <th>16</th>\n      <td>2021-08-04</td>\n      <td>2604</td>\n      <td>1649</td>\n      <td>1010</td>\n      <td>124</td>\n      <td>36</td>\n      <td>89</td>\n      <td>955</td>\n      <td>463</td>\n      <td>296</td>\n      <td>268</td>\n      <td>0.633257</td>\n      <td>0.387865</td>\n      <td>0.612492</td>\n      <td>39802.492927</td>\n      <td>2021-08-04</td>\n      <td>ToU / PP / Cookies Policy / $50+$50 / Appsflye...</td>\n    </tr>\n    <tr>\n      <th>17</th>\n      <td>2021-08-12</td>\n      <td>2604</td>\n      <td>1681</td>\n      <td>959</td>\n      <td>134</td>\n      <td>26</td>\n      <td>53</td>\n      <td>923</td>\n      <td>421</td>\n      <td>290</td>\n      <td>264</td>\n      <td>0.645545</td>\n      <td>0.368280</td>\n      <td>0.570494</td>\n      <td>44486.782121</td>\n      <td>2021-08-12</td>\n      <td>Website announcing California Loans</td>\n    </tr>\n    <tr>\n      <th>18</th>\n      <td>2021-08-27</td>\n      <td>3850</td>\n      <td>2454</td>\n      <td>1332</td>\n      <td>178</td>\n      <td>61</td>\n      <td>101</td>\n      <td>1396</td>\n      <td>637</td>\n      <td>463</td>\n      <td>424</td>\n      <td>0.637403</td>\n      <td>0.345974</td>\n      <td>0.542787</td>\n      <td>49079.375937</td>\n      <td>2021-08-27</td>\n      <td>WS 1.0.7 ADA release</td>\n    </tr>\n    <tr>\n      <th>19</th>\n      <td>2021-09-02</td>\n      <td>4791</td>\n      <td>2958</td>\n      <td>1611</td>\n      <td>197</td>\n      <td>52</td>\n      <td>80</td>\n      <td>1833</td>\n      <td>952</td>\n      <td>550</td>\n      <td>498</td>\n      <td>0.617408</td>\n      <td>0.336255</td>\n      <td>0.544625</td>\n      <td>49362.536759</td>\n      <td>2021-09-02</td>\n      <td>Adding the webapp sign up flow to the website</td>\n    </tr>\n    <tr>\n      <th>20</th>\n      <td>2021-09-08</td>\n      <td>4665</td>\n      <td>2793</td>\n      <td>1352</td>\n      <td>184</td>\n      <td>36</td>\n      <td>72</td>\n      <td>1872</td>\n      <td>947</td>\n      <td>629</td>\n      <td>559</td>\n      <td>0.598714</td>\n      <td>0.289818</td>\n      <td>0.484067</td>\n      <td>46125.210292</td>\n      <td>2021-09-08</td>\n      <td>BTC ATH</td>\n    </tr>\n    <tr>\n      <th>21</th>\n      <td>2021-09-13</td>\n      <td>3803</td>\n      <td>2360</td>\n      <td>1180</td>\n      <td>164</td>\n      <td>28</td>\n      <td>65</td>\n      <td>1443</td>\n      <td>845</td>\n      <td>546</td>\n      <td>487</td>\n      <td>0.620563</td>\n      <td>0.310281</td>\n      <td>0.500000</td>\n      <td>45098.415308</td>\n      <td>2021-09-13</td>\n      <td>Kentucky Block</td>\n    </tr>\n    <tr>\n      <th>22</th>\n      <td>2021-09-20</td>\n      <td>3280</td>\n      <td>1927</td>\n      <td>954</td>\n      <td>124</td>\n      <td>27</td>\n      <td>53</td>\n      <td>1353</td>\n      <td>759</td>\n      <td>498</td>\n      <td>438</td>\n      <td>0.587500</td>\n      <td>0.290854</td>\n      <td>0.495070</td>\n      <td>42980.492224</td>\n      <td>2021-09-20</td>\n      <td>adding ETH promotional rates</td>\n    </tr>\n    <tr>\n      <th>23</th>\n      <td>2021-10-02</td>\n      <td>2828</td>\n      <td>1666</td>\n      <td>921</td>\n      <td>74</td>\n      <td>31</td>\n      <td>53</td>\n      <td>1162</td>\n      <td>635</td>\n      <td>422</td>\n      <td>371</td>\n      <td>0.589109</td>\n      <td>0.325672</td>\n      <td>0.552821</td>\n      <td>47720.559213</td>\n      <td>2021-10-02</td>\n      <td>ETH rate to 3.5% for more than 100 ETH from 5.05%</td>\n    </tr>\n    <tr>\n      <th>24</th>\n      <td>2021-10-31</td>\n      <td>3978</td>\n      <td>2332</td>\n      <td>1159</td>\n      <td>154</td>\n      <td>33</td>\n      <td>64</td>\n      <td>1646</td>\n      <td>967</td>\n      <td>704</td>\n      <td>586</td>\n      <td>0.586224</td>\n      <td>0.291352</td>\n      <td>0.496998</td>\n      <td>61410.279983</td>\n      <td>2021-10-31</td>\n      <td>CTR to signup page start down trend from 12% t...</td>\n    </tr>\n    <tr>\n      <th>25</th>\n      <td>2021-11-12</td>\n      <td>4166</td>\n      <td>2511</td>\n      <td>1164</td>\n      <td>162</td>\n      <td>30</td>\n      <td>47</td>\n      <td>1655</td>\n      <td>944</td>\n      <td>642</td>\n      <td>538</td>\n      <td>0.602736</td>\n      <td>0.279405</td>\n      <td>0.463560</td>\n      <td>64263.419496</td>\n      <td>2021-11-12</td>\n      <td>New stablecoins promotion and rate updates</td>\n    </tr>\n    <tr>\n      <th>26</th>\n      <td>2021-11-13</td>\n      <td>4256</td>\n      <td>2593</td>\n      <td>1261</td>\n      <td>183</td>\n      <td>31</td>\n      <td>47</td>\n      <td>1663</td>\n      <td>955</td>\n      <td>667</td>\n      <td>553</td>\n      <td>0.609258</td>\n      <td>0.296288</td>\n      <td>0.486309</td>\n      <td>64590.212948</td>\n      <td>2021-11-13</td>\n      <td>BTC rate to 6.2% up to 0.25 BTC  and 3.05% for...</td>\n    </tr>\n    <tr>\n      <th>27</th>\n      <td>2021-11-18</td>\n      <td>3633</td>\n      <td>2204</td>\n      <td>1032</td>\n      <td>153</td>\n      <td>23</td>\n      <td>36</td>\n      <td>1429</td>\n      <td>815</td>\n      <td>548</td>\n      <td>446</td>\n      <td>0.606661</td>\n      <td>0.284063</td>\n      <td>0.468240</td>\n      <td>56907.934470</td>\n      <td>2021-11-18</td>\n      <td>Update BTC rewards rates | Customer Care main ...</td>\n    </tr>\n    <tr>\n      <th>28</th>\n      <td>2021-12-02</td>\n      <td>3348</td>\n      <td>1985</td>\n      <td>918</td>\n      <td>132</td>\n      <td>2</td>\n      <td>31</td>\n      <td>1363</td>\n      <td>786</td>\n      <td>550</td>\n      <td>449</td>\n      <td>0.592891</td>\n      <td>0.274194</td>\n      <td>0.462469</td>\n      <td>56448.379349</td>\n      <td>2021-12-02</td>\n      <td>Transition to Next.js</td>\n    </tr>\n    <tr>\n      <th>29</th>\n      <td>2021-12-03</td>\n      <td>2980</td>\n      <td>1707</td>\n      <td>827</td>\n      <td>134</td>\n      <td>2</td>\n      <td>29</td>\n      <td>1273</td>\n      <td>819</td>\n      <td>569</td>\n      <td>479</td>\n      <td>0.572819</td>\n      <td>0.277517</td>\n      <td>0.484476</td>\n      <td>53821.988753</td>\n      <td>2021-12-03</td>\n      <td>BTC Crash</td>\n    </tr>\n  </tbody>\n</table>\n</div>"
     },
     "execution_count": 263,
     "metadata": {},
     "output_type": "execute_result"
    }
   ],
   "source": [
    "df_events"
   ],
   "metadata": {
    "collapsed": false,
    "pycharm": {
     "name": "#%%\n"
    }
   }
  },
  {
   "cell_type": "code",
   "execution_count": 125,
   "outputs": [
    {
     "data": {
      "application/vnd.plotly.v1+json": {
       "data": [
        {
         "hovertemplate": "Registration Date=%{x}<br>y=%{y}<extra></extra>",
         "legendgroup": "",
         "line": {
          "color": "rgba(50,50,50,0.2)",
          "dash": "solid"
         },
         "marker": {
          "symbol": "circle"
         },
         "mode": "lines",
         "name": "",
         "orientation": "v",
         "showlegend": false,
         "x": [
          "2021-01-01 00:00:00",
          "2021-01-02 00:00:00",
          "2021-01-03 00:00:00",
          "2021-01-04 00:00:00",
          "2021-01-05 00:00:00",
          "2021-01-06 00:00:00",
          "2021-01-07 00:00:00",
          "2021-01-08 00:00:00",
          "2021-01-09 00:00:00",
          "2021-01-10 00:00:00",
          "2021-01-11 00:00:00",
          "2021-01-12 00:00:00",
          "2021-01-13 00:00:00",
          "2021-01-14 00:00:00",
          "2021-01-15 00:00:00",
          "2021-01-16 00:00:00",
          "2021-01-17 00:00:00",
          "2021-01-18 00:00:00",
          "2021-01-19 00:00:00",
          "2021-01-20 00:00:00",
          "2021-01-21 00:00:00",
          "2021-01-22 00:00:00",
          "2021-01-23 00:00:00",
          "2021-01-24 00:00:00",
          "2021-01-25 00:00:00",
          "2021-01-26 00:00:00",
          "2021-01-27 00:00:00",
          "2021-01-28 00:00:00",
          "2021-01-29 00:00:00",
          "2021-01-30 00:00:00",
          "2021-01-31 00:00:00",
          "2021-02-01 00:00:00",
          "2021-02-02 00:00:00",
          "2021-02-03 00:00:00",
          "2021-02-04 00:00:00",
          "2021-02-05 00:00:00",
          "2021-02-06 00:00:00",
          "2021-02-07 00:00:00",
          "2021-02-08 00:00:00",
          "2021-02-09 00:00:00",
          "2021-02-10 00:00:00",
          "2021-02-11 00:00:00",
          "2021-02-12 00:00:00",
          "2021-02-13 00:00:00",
          "2021-02-14 00:00:00",
          "2021-02-15 00:00:00",
          "2021-02-16 00:00:00",
          "2021-02-17 00:00:00",
          "2021-02-18 00:00:00",
          "2021-02-19 00:00:00",
          "2021-02-20 00:00:00",
          "2021-02-21 00:00:00",
          "2021-02-22 00:00:00",
          "2021-02-23 00:00:00",
          "2021-02-24 00:00:00",
          "2021-02-25 00:00:00",
          "2021-02-26 00:00:00",
          "2021-02-27 00:00:00",
          "2021-02-28 00:00:00",
          "2021-03-01 00:00:00",
          "2021-03-02 00:00:00",
          "2021-03-03 00:00:00",
          "2021-03-04 00:00:00",
          "2021-03-05 00:00:00",
          "2021-03-06 00:00:00",
          "2021-03-07 00:00:00",
          "2021-03-08 00:00:00",
          "2021-03-09 00:00:00",
          "2021-03-10 00:00:00",
          "2021-03-11 00:00:00",
          "2021-03-12 00:00:00",
          "2021-03-13 00:00:00",
          "2021-03-14 00:00:00",
          "2021-03-15 00:00:00",
          "2021-03-16 00:00:00",
          "2021-03-17 00:00:00",
          "2021-03-18 00:00:00",
          "2021-03-19 00:00:00",
          "2021-03-20 00:00:00",
          "2021-03-21 00:00:00",
          "2021-03-22 00:00:00",
          "2021-03-23 00:00:00",
          "2021-03-24 00:00:00",
          "2021-03-25 00:00:00",
          "2021-03-26 00:00:00",
          "2021-03-27 00:00:00",
          "2021-03-28 00:00:00",
          "2021-03-29 00:00:00",
          "2021-03-30 00:00:00",
          "2021-03-31 00:00:00",
          "2021-04-01 00:00:00",
          "2021-04-02 00:00:00",
          "2021-04-03 00:00:00",
          "2021-04-04 00:00:00",
          "2021-04-05 00:00:00",
          "2021-04-06 00:00:00",
          "2021-04-07 00:00:00",
          "2021-04-08 00:00:00",
          "2021-04-09 00:00:00",
          "2021-04-10 00:00:00",
          "2021-04-11 00:00:00",
          "2021-04-12 00:00:00",
          "2021-04-13 00:00:00",
          "2021-04-14 00:00:00",
          "2021-04-15 00:00:00",
          "2021-04-16 00:00:00",
          "2021-04-17 00:00:00",
          "2021-04-18 00:00:00",
          "2021-04-19 00:00:00",
          "2021-04-20 00:00:00",
          "2021-04-21 00:00:00",
          "2021-04-22 00:00:00",
          "2021-04-23 00:00:00",
          "2021-04-24 00:00:00",
          "2021-04-25 00:00:00",
          "2021-04-26 00:00:00",
          "2021-04-27 00:00:00",
          "2021-04-28 00:00:00",
          "2021-04-29 00:00:00",
          "2021-04-30 00:00:00",
          "2021-05-01 00:00:00",
          "2021-05-02 00:00:00",
          "2021-05-03 00:00:00",
          "2021-05-04 00:00:00",
          "2021-05-05 00:00:00",
          "2021-05-06 00:00:00",
          "2021-05-07 00:00:00",
          "2021-05-08 00:00:00",
          "2021-05-09 00:00:00",
          "2021-05-10 00:00:00",
          "2021-05-11 00:00:00",
          "2021-05-12 00:00:00",
          "2021-05-13 00:00:00",
          "2021-05-14 00:00:00",
          "2021-05-15 00:00:00",
          "2021-05-16 00:00:00",
          "2021-05-17 00:00:00",
          "2021-05-18 00:00:00",
          "2021-05-19 00:00:00",
          "2021-05-20 00:00:00",
          "2021-05-21 00:00:00",
          "2021-05-22 00:00:00",
          "2021-05-23 00:00:00",
          "2021-05-24 00:00:00",
          "2021-05-25 00:00:00",
          "2021-05-26 00:00:00",
          "2021-05-27 00:00:00",
          "2021-05-28 00:00:00",
          "2021-05-29 00:00:00",
          "2021-05-30 00:00:00",
          "2021-05-31 00:00:00",
          "2021-06-01 00:00:00",
          "2021-06-02 00:00:00",
          "2021-06-03 00:00:00",
          "2021-06-04 00:00:00",
          "2021-06-05 00:00:00",
          "2021-06-06 00:00:00",
          "2021-06-07 00:00:00",
          "2021-06-08 00:00:00",
          "2021-06-09 00:00:00",
          "2021-06-10 00:00:00",
          "2021-06-11 00:00:00",
          "2021-06-12 00:00:00",
          "2021-06-13 00:00:00",
          "2021-06-14 00:00:00",
          "2021-06-15 00:00:00",
          "2021-06-16 00:00:00",
          "2021-06-17 00:00:00",
          "2021-06-18 00:00:00",
          "2021-06-19 00:00:00",
          "2021-06-20 00:00:00",
          "2021-06-21 00:00:00",
          "2021-06-22 00:00:00",
          "2021-06-23 00:00:00",
          "2021-06-24 00:00:00",
          "2021-06-25 00:00:00",
          "2021-06-26 00:00:00",
          "2021-06-27 00:00:00",
          "2021-06-28 00:00:00",
          "2021-06-29 00:00:00",
          "2021-06-30 00:00:00",
          "2021-07-01 00:00:00",
          "2021-07-02 00:00:00",
          "2021-07-03 00:00:00",
          "2021-07-04 00:00:00",
          "2021-07-05 00:00:00",
          "2021-07-06 00:00:00",
          "2021-07-07 00:00:00",
          "2021-07-08 00:00:00",
          "2021-07-09 00:00:00",
          "2021-07-10 00:00:00",
          "2021-07-11 00:00:00",
          "2021-07-12 00:00:00",
          "2021-07-13 00:00:00",
          "2021-07-14 00:00:00",
          "2021-07-15 00:00:00",
          "2021-07-16 00:00:00",
          "2021-07-17 00:00:00",
          "2021-07-18 00:00:00",
          "2021-07-19 00:00:00",
          "2021-07-20 00:00:00",
          "2021-07-21 00:00:00",
          "2021-07-22 00:00:00",
          "2021-07-23 00:00:00",
          "2021-07-24 00:00:00",
          "2021-07-25 00:00:00",
          "2021-07-26 00:00:00",
          "2021-07-27 00:00:00",
          "2021-07-28 00:00:00",
          "2021-07-29 00:00:00",
          "2021-07-30 00:00:00",
          "2021-07-31 00:00:00",
          "2021-08-01 00:00:00",
          "2021-08-02 00:00:00",
          "2021-08-03 00:00:00",
          "2021-08-04 00:00:00",
          "2021-08-05 00:00:00",
          "2021-08-06 00:00:00",
          "2021-08-07 00:00:00",
          "2021-08-08 00:00:00",
          "2021-08-09 00:00:00",
          "2021-08-10 00:00:00",
          "2021-08-11 00:00:00",
          "2021-08-12 00:00:00",
          "2021-08-13 00:00:00",
          "2021-08-14 00:00:00",
          "2021-08-15 00:00:00",
          "2021-08-16 00:00:00",
          "2021-08-17 00:00:00",
          "2021-08-18 00:00:00",
          "2021-08-19 00:00:00",
          "2021-08-20 00:00:00",
          "2021-08-21 00:00:00",
          "2021-08-22 00:00:00",
          "2021-08-23 00:00:00",
          "2021-08-24 00:00:00",
          "2021-08-25 00:00:00",
          "2021-08-26 00:00:00",
          "2021-08-27 00:00:00",
          "2021-08-28 00:00:00",
          "2021-08-29 00:00:00",
          "2021-08-30 00:00:00",
          "2021-08-31 00:00:00",
          "2021-09-01 00:00:00",
          "2021-09-02 00:00:00",
          "2021-09-03 00:00:00",
          "2021-09-04 00:00:00",
          "2021-09-05 00:00:00",
          "2021-09-06 00:00:00",
          "2021-09-07 00:00:00",
          "2021-09-08 00:00:00",
          "2021-09-09 00:00:00",
          "2021-09-10 00:00:00",
          "2021-09-11 00:00:00",
          "2021-09-12 00:00:00",
          "2021-09-13 00:00:00",
          "2021-09-14 00:00:00",
          "2021-09-15 00:00:00",
          "2021-09-16 00:00:00",
          "2021-09-17 00:00:00",
          "2021-09-18 00:00:00",
          "2021-09-19 00:00:00",
          "2021-09-20 00:00:00",
          "2021-09-21 00:00:00",
          "2021-09-22 00:00:00",
          "2021-09-23 00:00:00",
          "2021-09-24 00:00:00",
          "2021-09-25 00:00:00",
          "2021-09-26 00:00:00",
          "2021-09-27 00:00:00",
          "2021-09-28 00:00:00",
          "2021-09-29 00:00:00",
          "2021-09-30 00:00:00",
          "2021-10-01 00:00:00",
          "2021-10-02 00:00:00",
          "2021-10-03 00:00:00",
          "2021-10-04 00:00:00",
          "2021-10-05 00:00:00",
          "2021-10-06 00:00:00",
          "2021-10-07 00:00:00",
          "2021-10-08 00:00:00",
          "2021-10-09 00:00:00",
          "2021-10-10 00:00:00",
          "2021-10-11 00:00:00",
          "2021-10-12 00:00:00",
          "2021-10-13 00:00:00",
          "2021-10-14 00:00:00",
          "2021-10-15 00:00:00",
          "2021-10-16 00:00:00",
          "2021-10-17 00:00:00",
          "2021-10-18 00:00:00",
          "2021-10-19 00:00:00",
          "2021-10-20 00:00:00",
          "2021-10-21 00:00:00",
          "2021-10-22 00:00:00",
          "2021-10-23 00:00:00",
          "2021-10-24 00:00:00",
          "2021-10-25 00:00:00",
          "2021-10-26 00:00:00",
          "2021-10-27 00:00:00",
          "2021-10-28 00:00:00",
          "2021-10-29 00:00:00",
          "2021-10-30 00:00:00",
          "2021-10-31 00:00:00",
          "2021-11-01 00:00:00",
          "2021-11-02 00:00:00",
          "2021-11-03 00:00:00",
          "2021-11-04 00:00:00",
          "2021-11-05 00:00:00",
          "2021-11-06 00:00:00",
          "2021-11-07 00:00:00",
          "2021-11-08 00:00:00",
          "2021-11-09 00:00:00",
          "2021-11-10 00:00:00",
          "2021-11-11 00:00:00",
          "2021-11-12 00:00:00",
          "2021-11-13 00:00:00",
          "2021-11-14 00:00:00",
          "2021-11-15 00:00:00",
          "2021-11-16 00:00:00",
          "2021-11-17 00:00:00",
          "2021-11-18 00:00:00",
          "2021-11-19 00:00:00",
          "2021-11-20 00:00:00",
          "2021-11-21 00:00:00",
          "2021-11-22 00:00:00",
          "2021-11-23 00:00:00",
          "2021-11-24 00:00:00",
          "2021-11-25 00:00:00",
          "2021-11-26 00:00:00",
          "2021-11-27 00:00:00",
          "2021-11-28 00:00:00",
          "2021-11-29 00:00:00",
          "2021-11-30 00:00:00",
          "2021-12-01 00:00:00",
          "2021-12-02 00:00:00",
          "2021-12-03 00:00:00",
          "2021-12-04 00:00:00",
          "2021-12-05 00:00:00",
          "2021-12-06 00:00:00",
          "2021-12-07 00:00:00",
          "2021-12-08 00:00:00",
          "2021-12-09 00:00:00",
          "2021-12-10 00:00:00",
          "2021-12-11 00:00:00",
          "2021-12-12 00:00:00",
          "2021-12-13 00:00:00",
          "2021-12-14 00:00:00",
          "2021-12-15 00:00:00",
          "2021-12-16 00:00:00",
          "2021-12-17 00:00:00",
          "2021-12-18 00:00:00",
          "2021-12-19 00:00:00",
          "2021-12-20 00:00:00",
          "2021-12-21 00:00:00",
          "2021-12-22 00:00:00",
          "2021-12-23 00:00:00",
          "2021-12-24 00:00:00",
          "2021-12-25 00:00:00",
          "2021-12-26 00:00:00",
          "2021-12-27 00:00:00",
          "2021-12-28 00:00:00",
          "2021-12-29 00:00:00",
          "2021-12-30 00:00:00",
          "2021-12-31 00:00:00",
          "2022-01-01 00:00:00",
          "2022-01-02 00:00:00",
          "2022-01-03 00:00:00",
          "2022-01-04 00:00:00",
          "2022-01-05 00:00:00",
          "2022-01-06 00:00:00",
          "2022-01-07 00:00:00",
          "2022-01-08 00:00:00",
          "2022-01-09 00:00:00",
          "2022-01-10 00:00:00",
          "2022-01-11 00:00:00",
          "2022-01-12 00:00:00",
          "2022-01-13 00:00:00",
          "2022-01-14 00:00:00",
          "2022-01-15 00:00:00",
          "2022-01-16 00:00:00",
          "2022-01-17 00:00:00",
          "2022-01-18 00:00:00",
          "2022-01-19 00:00:00",
          "2022-01-20 00:00:00",
          "2022-01-21 00:00:00",
          "2022-01-22 00:00:00",
          "2022-01-23 00:00:00",
          "2022-01-24 00:00:00",
          "2022-01-25 00:00:00",
          "2022-01-26 00:00:00",
          "2022-01-27 00:00:00",
          "2022-01-28 00:00:00",
          "2022-01-29 00:00:00",
          "2022-01-30 00:00:00",
          "2022-01-31 00:00:00",
          "2022-02-01 00:00:00",
          "2022-02-02 00:00:00",
          "2022-02-03 00:00:00",
          "2022-02-04 00:00:00",
          "2022-02-05 00:00:00",
          "2022-02-06 00:00:00",
          "2022-02-07 00:00:00",
          "2022-02-08 00:00:00",
          "2022-02-09 00:00:00",
          "2022-02-10 00:00:00",
          "2022-02-11 00:00:00",
          "2022-02-12 00:00:00",
          "2022-02-13 00:00:00",
          "2022-02-14 00:00:00",
          "2022-02-15 00:00:00",
          "2022-02-16 00:00:00",
          "2022-02-17 00:00:00",
          "2022-02-18 00:00:00",
          "2022-02-19 00:00:00",
          "2022-02-20 00:00:00",
          "2022-02-21 00:00:00",
          "2022-02-22 00:00:00",
          "2022-02-23 00:00:00",
          "2022-02-24 00:00:00",
          "2022-02-25 00:00:00",
          "2022-02-26 00:00:00",
          "2022-02-27 00:00:00",
          "2022-02-28 00:00:00",
          "2022-03-01 00:00:00",
          "2022-03-02 00:00:00",
          "2022-03-03 00:00:00",
          "2022-03-04 00:00:00",
          "2022-03-05 00:00:00",
          "2022-03-06 00:00:00"
         ],
         "xaxis": "x",
         "y": [
          0.0769134464737408,
          0.12228705554024669,
          0.1398268008683826,
          0.10238554407450984,
          0.09373864721057397,
          0.08266012686187674,
          0.08479830657311722,
          0.07848579484595308,
          0.07309854199343514,
          0.08687072741686454,
          0.07195656467974276,
          0.07119542043607624,
          0.056521211393551804,
          0.058457018652167604,
          0.05740235006426803,
          0.060199064350914246,
          0.06347277341851489,
          0.05436492923772733,
          0.06859209978916217,
          0.06034820925493254,
          0.061543391627695475,
          0.05556957127646819,
          0.05684007544531635,
          0.06309373309408742,
          0.06165045872789277,
          0.0520900651440294,
          0.052823626819392906,
          0.05207222235113721,
          0.07089530100182323,
          0.06931698007307066,
          0.07817586894836866,
          0.07083635397680169,
          0.06930235115020365,
          0.07791117842122053,
          0.07903692842313895,
          0.07329950704195297,
          0.07192734385150118,
          0.0734746209794299,
          0.08037277628297165,
          0.08890381256202232,
          0.09496193476041934,
          0.08749653526915055,
          0.08183329691464275,
          0.0791460022833876,
          0.07233752947226435,
          0.07745056476790192,
          0.07402342872044175,
          0.0748669547501155,
          0.07129782020157542,
          0.06726263897277261,
          0.08061762762455113,
          0.07215423606595198,
          0.06223651629089342,
          0.05030486312441692,
          0.053600549837111114,
          0.057641895974291285,
          0.05793374698994871,
          0.06048880935466601,
          0.05702488301866598,
          0.050702519291858615,
          0.047376543476938725,
          0.04107933042093416,
          0.04411974706438854,
          0.041157844157286134,
          0.04650158271762296,
          0.049696060705887855,
          0.053688596143158566,
          0.05773412102914998,
          0.05071671845649406,
          0.04772058145923587,
          0.047317066316227986,
          0.051290285966759656,
          0.049467181034855985,
          0.0485563626998948,
          0.04330424876376056,
          0.043026587119526664,
          0.04387144086110521,
          0.04138266938551855,
          0.03951291732941988,
          0.03924815003691976,
          0.041840307293600214,
          0.0400634498336357,
          0.051105605811008356,
          0.05106440017535552,
          0.041904529961414326,
          0.0412326205530533,
          0.04558603750612589,
          0.05888284776345533,
          0.05695906585694469,
          0.059683456081823266,
          0.051739703928686494,
          0.04893646789991898,
          0.05170908364556034,
          0.05333648664934115,
          0.06552459166286001,
          0.06292125179079408,
          0.06871931074053095,
          0.05478014466498182,
          0.04838329007863949,
          0.0483549161290851,
          0.048953717746974094,
          0.053085345837998864,
          0.060573974782502205,
          0.06299016115559662,
          0.06080521701269052,
          0.06174683636524329,
          0.05409654743244218,
          0.05389156468106997,
          0.0561575203238955,
          0.04989264275572267,
          0.056264468395126124,
          0.05817806894246165,
          0.04916537537226751,
          0.049259739363458836,
          0.0478961157303686,
          0.054569222065059465,
          0.0670332461534443,
          0.06191199830810792,
          0.057494710731532346,
          0.05318465148991993,
          0.0657543449878189,
          0.06490339381791527,
          0.07382126683114694,
          0.0631517982742891,
          0.0661967293682817,
          0.0725739085656295,
          0.0667200153893384,
          0.07044271158772927,
          0.07188146302453996,
          0.07793753529181063,
          0.0646512703919102,
          0.08136353567016943,
          0.07257637803389429,
          0.0715097637097373,
          0.07961706764478178,
          0.07209598806537991,
          0.06752126267095926,
          0.08341443201440406,
          0.08720026696818241,
          0.07410419045259431,
          0.08043165921313232,
          0.07119155625299008,
          0.0698865231067551,
          0.07179948912185195,
          0.08470606882492537,
          0.09159514623132757,
          0.07893169421524154,
          0.07407232720698691,
          0.06348125177433425,
          0.06078741742861659,
          0.07049154518586992,
          0.06645754878789432,
          0.06712994709360753,
          0.07174811547261531,
          0.07138933051939884,
          0.06744257378922858,
          0.06413745306611009,
          0.07787724695310637,
          0.05995562659108911,
          0.05227392281903119,
          0.053245513591340096,
          0.04797816088192842,
          0.04668641385180568,
          0.041171034590732285,
          0.045376111517027286,
          0.04727177132092009,
          0.047057933054707894,
          0.042119070542443446,
          0.04906981769812371,
          0.04023442220237129,
          0.043648498508871876,
          0.048681365367410016,
          0.04800617846273298,
          0.047725868949171926,
          0.044713918525931415,
          0.049908073544583896,
          0.05564787475822161,
          0.051404215619873184,
          0.05379492709088327,
          0.059608595951501794,
          0.05667991686467081,
          0.062359680027463976,
          0.06604452925576451,
          0.07574843536934618,
          0.06751284579164346,
          0.07063963355932495,
          0.06371921889929587,
          0.0622847669746689,
          0.05383378973911637,
          0.051929176382883316,
          0.048180307731600105,
          0.044142824707078344,
          0.05171720641924664,
          0.05114045648816281,
          0.05253919401068145,
          0.05268419001156216,
          0.051970698546451644,
          0.047627952227072064,
          0.051939459656216554,
          0.05321264298530845,
          0.057651338526876386,
          0.052871294213708696,
          0.053295831794105936,
          0.05804341527668786,
          0.05554684753962245,
          0.057101148053090064,
          0.05889104799560026,
          0.04931092314318498,
          0.07980975069870659,
          0.07599098803163527,
          0.059374341504066584,
          0.06007209152245626,
          0.06647886302097519,
          0.0681425184131267,
          0.06831261806649679,
          0.06542303781692178,
          0.0638774948211449,
          0.0695850931028963,
          0.061118466266289626,
          0.06532744865426447,
          0.05560020696178223,
          0.06340945985833299,
          0.06826741901313851,
          0.05853424041586329,
          0.05580895360586502,
          0.058321695731421944,
          0.061877627398388604,
          0.07078421669177798,
          0.06826594160543291,
          0.06325179845996372,
          0.0650288635832872,
          0.06375706814236351,
          0.0708624356605186,
          0.0695922329227955,
          0.07447876575213691,
          0.07580713755205026,
          0.08329431109845715,
          0.07745231065872955,
          0.07844435522011255,
          0.09495070910681905,
          0.08627581643973321,
          0.08819061461675029,
          0.0860615993251314,
          0.09807801039680973,
          0.09705741063046953,
          0.10168821069036443,
          0.08989938663774355,
          0.08682055764509469,
          0.09718015237841239,
          0.10044313567333275,
          0.10113775027626479,
          0.10756600542192321,
          0.07918777326136303,
          0.07067755300211787,
          0.07620098980134098,
          0.08432668806728708,
          0.07999036793835672,
          0.07319862220421772,
          0.07463958953536791,
          0.07079796431730596,
          0.0663875607917064,
          0.0752295271686748,
          0.07631369093986291,
          0.07664231164725482,
          0.06948469614240407,
          0.07079371146924936,
          0.06539681459144209,
          0.05904368995982636,
          0.05829509155249,
          0.0664812337060233,
          0.06729157170400114,
          0.06498371651045524,
          0.06083217477369694,
          0.059411320289054624,
          0.05926166932304942,
          0.06060670331717899,
          0.06007062083278547,
          0.06341023354686726,
          0.059169874704243695,
          0.06397339747754513,
          0.05813307617412755,
          0.0555900970763213,
          0.057954463623319734,
          0.05932810887427339,
          0.06363174369171444,
          0.061305893870926324,
          0.06090336069532166,
          0.05868118700365314,
          0.06226135317410184,
          0.062485452817043506,
          0.07014217251331743,
          0.05683798817976385,
          0.06319851543627746,
          0.06598941135175106,
          0.05947373276499625,
          0.060654278015372834,
          0.06214889898202702,
          0.06399637862905112,
          0.06305233399549418,
          0.08253740444134566,
          0.1075309833169517,
          0.07731204958050251,
          0.0688792527780389,
          0.06477742816141348,
          0.07094389375062121,
          0.07562707608976901,
          0.07109075625459449,
          0.0642161410967652,
          0.05999075418960468,
          0.057607772494115514,
          0.06329502107011764,
          0.05996469701989786,
          0.06488377219167789,
          0.06625690273077654,
          0.06396473279920681,
          0.06482692693111115,
          0.0658923357851092,
          0.06662909984147657,
          0.06577058436455259,
          0.06767547159698575,
          0.06788607806924572,
          0.06383995542644104,
          0.06127081187844792,
          0.056607575810237155,
          0.06599865704541726,
          0.06514080788620918,
          0.06272025386487813,
          0.06376245170095197,
          0.0640497400970099,
          0.06303697825425895,
          0.05728862771901745,
          0.05562525758323405,
          0.06001040704077981,
          0.06138626053553591,
          0.061065060679217284,
          0.05931082590144374,
          0.055367705078233,
          0.07087385694749815,
          0.06269507713782047,
          0.0554348152942145,
          0.05616908197597963,
          0.053423942988145,
          0.05920222834252038,
          0.05932801689499781,
          0.05714101616828354,
          0.06095095096597447,
          0.06935019268374025,
          0.06404876754253841,
          0.060402854729238786,
          0.05412539781036601,
          0.04997552993062014,
          0.04642266367687285,
          0.04819907743810994,
          0.05078719143134975,
          0.049970641463676815,
          0.050579921188622645,
          0.04559137485764642,
          0.04415330193108136,
          0.04198769607459286,
          0.04961930569838874,
          0.06007173212639399,
          0.06043412143280604,
          0.05637178121375251,
          0.05532973164558951,
          0.06092096023046964,
          0.05924132341654997,
          0.07182649225839646,
          0.07608756055356257,
          0.07138495677516184,
          0.07392553919310614,
          0.06998698825800172,
          0.07477525064812922,
          0.07119765442825865,
          0.0752321966860711,
          0.06821243372321548,
          0.06882524439002663,
          0.0713727316248572,
          0.07027713641226953,
          0.0658284842211173,
          0.06879155315583824,
          0.07089842433425028,
          0.06972512801360789,
          0.06584478064142744,
          0.0639154951662743,
          0.061009878292385335,
          0.06656339236817965,
          0.07124964999322948,
          0.07031549041299416,
          0.0682729906400708,
          0.06615516497659908,
          0.06491471332005203,
          0.06010003676644651,
          0.059136532483218276,
          0.06394885745218061,
          0.063669876175276,
          0.059972801811589926,
          0.06404565393120654,
          0.06681742935136839,
          0.06737629548593478,
          0.05605206085761201,
          0.05284757513590419,
          0.056214902805243834,
          0.06084124109978575,
          0.08123244527866302,
          0.07096048664994278,
          0.06676710125888237,
          0.059267692830800495,
          0.05416072625123638,
          0.05895970172060771,
          0.05425903966872682,
          0.05433091617991986,
          0.051622047291708835,
          0.05516991469665306,
          0.04826934294268955,
          0.04596884259682595,
          0.0523703103067762,
          0.05730717169481521,
          0.04874597392074189,
          0.04916309988698769,
          0.0449771031605046,
          0.04202971638328156,
          0.04509396942500824,
          0.05282707643142101,
          0.049119585628146056,
          0.05352303997533148,
          0.04399592959618145,
          0.05767849321820016,
          0.06310096463060835,
          0.04856865167861348,
          null
         ],
         "yaxis": "y",
         "type": "scatter"
        },
        {
         "customdata": [
          [
           "BTC Rate: From 6.39% to 6.2 up to 2 BTC and 4.5% for the rest"
          ],
          [
           "BTC rate to 4.7% from 4.5% for more than 2 BTC"
          ],
          [
           "Started Sending Welcome email again"
          ],
          [
           "Elon Musk BTC pump +10K in 1 day"
          ],
          [
           "BTC rate to 4% from 4.7% for more than 2 BTC"
          ],
          [
           "BTC rate to 3.5% from 4% for more than 2 BTC"
          ],
          [
           "Started sending Drip campagin to KYC not passed"
          ],
          [
           "BTC crash"
          ],
          [
           "CEL ATH"
          ],
          [
           "MA v4.8.0@9"
          ],
          [
           "UK Block"
          ],
          [
           "CEL down more than 50% from ATH"
          ],
          [
           "New York and Washington from 70% to 20% CR"
          ],
          [
           "BTC rate to 6.2% up to 1 BTC from 2 BTC + ETH rate to 5.35% up to 100 ETH and 5.05% for the rest"
          ],
          [
           "BTC bottom"
          ],
          [
           "Started sending Drip campagins to KYC passed - No Deposit"
          ],
          [
           "ToU / PP / Cookies Policy / $50+$50 / Appsflyer link"
          ],
          [
           "Website announcing California Loans"
          ],
          [
           "WS 1.0.7 ADA release"
          ],
          [
           "Adding the webapp sign up flow to the website"
          ],
          [
           "BTC ATH"
          ],
          [
           "Kentucky Block"
          ],
          [
           "adding ETH promotional rates"
          ],
          [
           "ETH rate to 3.5% for more than 100 ETH from 5.05%"
          ],
          [
           "CTR to signup page start down trend from 12% to 6%"
          ],
          [
           "New stablecoins promotion and rate updates"
          ],
          [
           "BTC rate to 6.2% up to 0.25 BTC  and 3.05% for the rest"
          ],
          [
           "Update BTC rewards rates | Customer Care main page update"
          ],
          [
           "Transition to Next.js"
          ],
          [
           "BTC Crash"
          ]
         ],
         "hovertemplate": "Registration Date=%{x}<br>y=%{y}<br>Event=%{customdata[0]}<extra></extra>",
         "legendgroup": "",
         "marker": {
          "color": "#636efa",
          "symbol": "circle"
         },
         "mode": "markers",
         "name": "",
         "orientation": "v",
         "showlegend": false,
         "x": [
          "2021-01-01 00:00:00",
          "2021-01-15 00:00:00",
          "2021-02-06 00:00:00",
          "2021-02-09 00:00:00",
          "2021-03-06 00:00:00",
          "2021-04-03 00:00:00",
          "2021-04-20 00:00:00",
          "2021-05-12 00:00:00",
          "2021-05-18 00:00:00",
          "2021-05-20 00:00:00",
          "2021-05-31 00:00:00",
          "2021-06-21 00:00:00",
          "2021-06-28 00:00:00",
          "2021-07-03 00:00:00",
          "2021-07-20 00:00:00",
          "2021-08-01 00:00:00",
          "2021-08-04 00:00:00",
          "2021-08-12 00:00:00",
          "2021-08-27 00:00:00",
          "2021-09-02 00:00:00",
          "2021-09-08 00:00:00",
          "2021-09-13 00:00:00",
          "2021-09-20 00:00:00",
          "2021-10-02 00:00:00",
          "2021-10-31 00:00:00",
          "2021-11-12 00:00:00",
          "2021-11-13 00:00:00",
          "2021-11-18 00:00:00",
          "2021-12-02 00:00:00",
          "2021-12-03 00:00:00"
         ],
         "xaxis": "x",
         "y": [
          0.0769134464737408,
          0.05740235006426803,
          0.07192734385150118,
          0.08890381256202232,
          0.04650158271762296,
          0.05170908364556034,
          0.04989264275572267,
          0.08136353567016943,
          0.08341443201440406,
          0.07410419045259431,
          0.07049154518586992,
          0.048681365367410016,
          0.05379492709088327,
          0.07574843536934618,
          0.057651338526876386,
          0.06647886302097519,
          0.06542303781692178,
          0.05853424041586329,
          0.07844435522011255,
          0.09705741063046953,
          0.10113775027626479,
          0.08432668806728708,
          0.07631369093986291,
          0.05926166932304942,
          0.06477742816141348,
          0.06482692693111115,
          0.0658923357851092,
          0.06383995542644104,
          0.05931082590144374,
          0.055367705078233
         ],
         "yaxis": "y",
         "type": "scatter"
        }
       ],
       "layout": {
        "template": {
         "data": {
          "bar": [
           {
            "error_x": {
             "color": "#2a3f5f"
            },
            "error_y": {
             "color": "#2a3f5f"
            },
            "marker": {
             "line": {
              "color": "#E5ECF6",
              "width": 0.5
             },
             "pattern": {
              "fillmode": "overlay",
              "size": 10,
              "solidity": 0.2
             }
            },
            "type": "bar"
           }
          ],
          "barpolar": [
           {
            "marker": {
             "line": {
              "color": "#E5ECF6",
              "width": 0.5
             },
             "pattern": {
              "fillmode": "overlay",
              "size": 10,
              "solidity": 0.2
             }
            },
            "type": "barpolar"
           }
          ],
          "carpet": [
           {
            "aaxis": {
             "endlinecolor": "#2a3f5f",
             "gridcolor": "white",
             "linecolor": "white",
             "minorgridcolor": "white",
             "startlinecolor": "#2a3f5f"
            },
            "baxis": {
             "endlinecolor": "#2a3f5f",
             "gridcolor": "white",
             "linecolor": "white",
             "minorgridcolor": "white",
             "startlinecolor": "#2a3f5f"
            },
            "type": "carpet"
           }
          ],
          "choropleth": [
           {
            "colorbar": {
             "outlinewidth": 0,
             "ticks": ""
            },
            "type": "choropleth"
           }
          ],
          "contour": [
           {
            "colorbar": {
             "outlinewidth": 0,
             "ticks": ""
            },
            "colorscale": [
             [
              0.0,
              "#0d0887"
             ],
             [
              0.1111111111111111,
              "#46039f"
             ],
             [
              0.2222222222222222,
              "#7201a8"
             ],
             [
              0.3333333333333333,
              "#9c179e"
             ],
             [
              0.4444444444444444,
              "#bd3786"
             ],
             [
              0.5555555555555556,
              "#d8576b"
             ],
             [
              0.6666666666666666,
              "#ed7953"
             ],
             [
              0.7777777777777778,
              "#fb9f3a"
             ],
             [
              0.8888888888888888,
              "#fdca26"
             ],
             [
              1.0,
              "#f0f921"
             ]
            ],
            "type": "contour"
           }
          ],
          "contourcarpet": [
           {
            "colorbar": {
             "outlinewidth": 0,
             "ticks": ""
            },
            "type": "contourcarpet"
           }
          ],
          "heatmap": [
           {
            "colorbar": {
             "outlinewidth": 0,
             "ticks": ""
            },
            "colorscale": [
             [
              0.0,
              "#0d0887"
             ],
             [
              0.1111111111111111,
              "#46039f"
             ],
             [
              0.2222222222222222,
              "#7201a8"
             ],
             [
              0.3333333333333333,
              "#9c179e"
             ],
             [
              0.4444444444444444,
              "#bd3786"
             ],
             [
              0.5555555555555556,
              "#d8576b"
             ],
             [
              0.6666666666666666,
              "#ed7953"
             ],
             [
              0.7777777777777778,
              "#fb9f3a"
             ],
             [
              0.8888888888888888,
              "#fdca26"
             ],
             [
              1.0,
              "#f0f921"
             ]
            ],
            "type": "heatmap"
           }
          ],
          "heatmapgl": [
           {
            "colorbar": {
             "outlinewidth": 0,
             "ticks": ""
            },
            "colorscale": [
             [
              0.0,
              "#0d0887"
             ],
             [
              0.1111111111111111,
              "#46039f"
             ],
             [
              0.2222222222222222,
              "#7201a8"
             ],
             [
              0.3333333333333333,
              "#9c179e"
             ],
             [
              0.4444444444444444,
              "#bd3786"
             ],
             [
              0.5555555555555556,
              "#d8576b"
             ],
             [
              0.6666666666666666,
              "#ed7953"
             ],
             [
              0.7777777777777778,
              "#fb9f3a"
             ],
             [
              0.8888888888888888,
              "#fdca26"
             ],
             [
              1.0,
              "#f0f921"
             ]
            ],
            "type": "heatmapgl"
           }
          ],
          "histogram": [
           {
            "marker": {
             "pattern": {
              "fillmode": "overlay",
              "size": 10,
              "solidity": 0.2
             }
            },
            "type": "histogram"
           }
          ],
          "histogram2d": [
           {
            "colorbar": {
             "outlinewidth": 0,
             "ticks": ""
            },
            "colorscale": [
             [
              0.0,
              "#0d0887"
             ],
             [
              0.1111111111111111,
              "#46039f"
             ],
             [
              0.2222222222222222,
              "#7201a8"
             ],
             [
              0.3333333333333333,
              "#9c179e"
             ],
             [
              0.4444444444444444,
              "#bd3786"
             ],
             [
              0.5555555555555556,
              "#d8576b"
             ],
             [
              0.6666666666666666,
              "#ed7953"
             ],
             [
              0.7777777777777778,
              "#fb9f3a"
             ],
             [
              0.8888888888888888,
              "#fdca26"
             ],
             [
              1.0,
              "#f0f921"
             ]
            ],
            "type": "histogram2d"
           }
          ],
          "histogram2dcontour": [
           {
            "colorbar": {
             "outlinewidth": 0,
             "ticks": ""
            },
            "colorscale": [
             [
              0.0,
              "#0d0887"
             ],
             [
              0.1111111111111111,
              "#46039f"
             ],
             [
              0.2222222222222222,
              "#7201a8"
             ],
             [
              0.3333333333333333,
              "#9c179e"
             ],
             [
              0.4444444444444444,
              "#bd3786"
             ],
             [
              0.5555555555555556,
              "#d8576b"
             ],
             [
              0.6666666666666666,
              "#ed7953"
             ],
             [
              0.7777777777777778,
              "#fb9f3a"
             ],
             [
              0.8888888888888888,
              "#fdca26"
             ],
             [
              1.0,
              "#f0f921"
             ]
            ],
            "type": "histogram2dcontour"
           }
          ],
          "mesh3d": [
           {
            "colorbar": {
             "outlinewidth": 0,
             "ticks": ""
            },
            "type": "mesh3d"
           }
          ],
          "parcoords": [
           {
            "line": {
             "colorbar": {
              "outlinewidth": 0,
              "ticks": ""
             }
            },
            "type": "parcoords"
           }
          ],
          "pie": [
           {
            "automargin": true,
            "type": "pie"
           }
          ],
          "scatter": [
           {
            "marker": {
             "colorbar": {
              "outlinewidth": 0,
              "ticks": ""
             }
            },
            "type": "scatter"
           }
          ],
          "scatter3d": [
           {
            "line": {
             "colorbar": {
              "outlinewidth": 0,
              "ticks": ""
             }
            },
            "marker": {
             "colorbar": {
              "outlinewidth": 0,
              "ticks": ""
             }
            },
            "type": "scatter3d"
           }
          ],
          "scattercarpet": [
           {
            "marker": {
             "colorbar": {
              "outlinewidth": 0,
              "ticks": ""
             }
            },
            "type": "scattercarpet"
           }
          ],
          "scattergeo": [
           {
            "marker": {
             "colorbar": {
              "outlinewidth": 0,
              "ticks": ""
             }
            },
            "type": "scattergeo"
           }
          ],
          "scattergl": [
           {
            "marker": {
             "colorbar": {
              "outlinewidth": 0,
              "ticks": ""
             }
            },
            "type": "scattergl"
           }
          ],
          "scattermapbox": [
           {
            "marker": {
             "colorbar": {
              "outlinewidth": 0,
              "ticks": ""
             }
            },
            "type": "scattermapbox"
           }
          ],
          "scatterpolar": [
           {
            "marker": {
             "colorbar": {
              "outlinewidth": 0,
              "ticks": ""
             }
            },
            "type": "scatterpolar"
           }
          ],
          "scatterpolargl": [
           {
            "marker": {
             "colorbar": {
              "outlinewidth": 0,
              "ticks": ""
             }
            },
            "type": "scatterpolargl"
           }
          ],
          "scatterternary": [
           {
            "marker": {
             "colorbar": {
              "outlinewidth": 0,
              "ticks": ""
             }
            },
            "type": "scatterternary"
           }
          ],
          "surface": [
           {
            "colorbar": {
             "outlinewidth": 0,
             "ticks": ""
            },
            "colorscale": [
             [
              0.0,
              "#0d0887"
             ],
             [
              0.1111111111111111,
              "#46039f"
             ],
             [
              0.2222222222222222,
              "#7201a8"
             ],
             [
              0.3333333333333333,
              "#9c179e"
             ],
             [
              0.4444444444444444,
              "#bd3786"
             ],
             [
              0.5555555555555556,
              "#d8576b"
             ],
             [
              0.6666666666666666,
              "#ed7953"
             ],
             [
              0.7777777777777778,
              "#fb9f3a"
             ],
             [
              0.8888888888888888,
              "#fdca26"
             ],
             [
              1.0,
              "#f0f921"
             ]
            ],
            "type": "surface"
           }
          ],
          "table": [
           {
            "cells": {
             "fill": {
              "color": "#EBF0F8"
             },
             "line": {
              "color": "white"
             }
            },
            "header": {
             "fill": {
              "color": "#C8D4E3"
             },
             "line": {
              "color": "white"
             }
            },
            "type": "table"
           }
          ]
         },
         "layout": {
          "annotationdefaults": {
           "arrowcolor": "#2a3f5f",
           "arrowhead": 0,
           "arrowwidth": 1
          },
          "autotypenumbers": "strict",
          "coloraxis": {
           "colorbar": {
            "outlinewidth": 0,
            "ticks": ""
           }
          },
          "colorscale": {
           "diverging": [
            [
             0,
             "#8e0152"
            ],
            [
             0.1,
             "#c51b7d"
            ],
            [
             0.2,
             "#de77ae"
            ],
            [
             0.3,
             "#f1b6da"
            ],
            [
             0.4,
             "#fde0ef"
            ],
            [
             0.5,
             "#f7f7f7"
            ],
            [
             0.6,
             "#e6f5d0"
            ],
            [
             0.7,
             "#b8e186"
            ],
            [
             0.8,
             "#7fbc41"
            ],
            [
             0.9,
             "#4d9221"
            ],
            [
             1,
             "#276419"
            ]
           ],
           "sequential": [
            [
             0.0,
             "#0d0887"
            ],
            [
             0.1111111111111111,
             "#46039f"
            ],
            [
             0.2222222222222222,
             "#7201a8"
            ],
            [
             0.3333333333333333,
             "#9c179e"
            ],
            [
             0.4444444444444444,
             "#bd3786"
            ],
            [
             0.5555555555555556,
             "#d8576b"
            ],
            [
             0.6666666666666666,
             "#ed7953"
            ],
            [
             0.7777777777777778,
             "#fb9f3a"
            ],
            [
             0.8888888888888888,
             "#fdca26"
            ],
            [
             1.0,
             "#f0f921"
            ]
           ],
           "sequentialminus": [
            [
             0.0,
             "#0d0887"
            ],
            [
             0.1111111111111111,
             "#46039f"
            ],
            [
             0.2222222222222222,
             "#7201a8"
            ],
            [
             0.3333333333333333,
             "#9c179e"
            ],
            [
             0.4444444444444444,
             "#bd3786"
            ],
            [
             0.5555555555555556,
             "#d8576b"
            ],
            [
             0.6666666666666666,
             "#ed7953"
            ],
            [
             0.7777777777777778,
             "#fb9f3a"
            ],
            [
             0.8888888888888888,
             "#fdca26"
            ],
            [
             1.0,
             "#f0f921"
            ]
           ]
          },
          "colorway": [
           "#636efa",
           "#EF553B",
           "#00cc96",
           "#ab63fa",
           "#FFA15A",
           "#19d3f3",
           "#FF6692",
           "#B6E880",
           "#FF97FF",
           "#FECB52"
          ],
          "font": {
           "color": "#2a3f5f"
          },
          "geo": {
           "bgcolor": "white",
           "lakecolor": "white",
           "landcolor": "#E5ECF6",
           "showlakes": true,
           "showland": true,
           "subunitcolor": "white"
          },
          "hoverlabel": {
           "align": "left"
          },
          "hovermode": "closest",
          "mapbox": {
           "style": "light"
          },
          "paper_bgcolor": "white",
          "plot_bgcolor": "#E5ECF6",
          "polar": {
           "angularaxis": {
            "gridcolor": "white",
            "linecolor": "white",
            "ticks": ""
           },
           "bgcolor": "#E5ECF6",
           "radialaxis": {
            "gridcolor": "white",
            "linecolor": "white",
            "ticks": ""
           }
          },
          "scene": {
           "xaxis": {
            "backgroundcolor": "#E5ECF6",
            "gridcolor": "white",
            "gridwidth": 2,
            "linecolor": "white",
            "showbackground": true,
            "ticks": "",
            "zerolinecolor": "white"
           },
           "yaxis": {
            "backgroundcolor": "#E5ECF6",
            "gridcolor": "white",
            "gridwidth": 2,
            "linecolor": "white",
            "showbackground": true,
            "ticks": "",
            "zerolinecolor": "white"
           },
           "zaxis": {
            "backgroundcolor": "#E5ECF6",
            "gridcolor": "white",
            "gridwidth": 2,
            "linecolor": "white",
            "showbackground": true,
            "ticks": "",
            "zerolinecolor": "white"
           }
          },
          "shapedefaults": {
           "line": {
            "color": "#2a3f5f"
           }
          },
          "ternary": {
           "aaxis": {
            "gridcolor": "white",
            "linecolor": "white",
            "ticks": ""
           },
           "baxis": {
            "gridcolor": "white",
            "linecolor": "white",
            "ticks": ""
           },
           "bgcolor": "#E5ECF6",
           "caxis": {
            "gridcolor": "white",
            "linecolor": "white",
            "ticks": ""
           }
          },
          "title": {
           "x": 0.05
          },
          "xaxis": {
           "automargin": true,
           "gridcolor": "white",
           "linecolor": "white",
           "ticks": "",
           "title": {
            "standoff": 15
           },
           "zerolinecolor": "white",
           "zerolinewidth": 2
          },
          "yaxis": {
           "automargin": true,
           "gridcolor": "white",
           "linecolor": "white",
           "ticks": "",
           "title": {
            "standoff": 15
           },
           "zerolinecolor": "white",
           "zerolinewidth": 2
          }
         }
        },
        "title": {
         "text": "BTC Normalized Registrations"
        },
        "xaxis": {
         "title": {
          "text": "Date"
         }
        },
        "yaxis": {
         "title": {
          "text": "Registrations/BTC"
         }
        }
       },
       "config": {
        "plotlyServerURL": "https://plot.ly"
       }
      }
     },
     "metadata": {},
     "output_type": "display_data"
    }
   ],
   "source": [
    "import plotly.express as px\n",
    "import plotly.graph_objects as go\n",
    "\n",
    "fig1 = px.line(df, x=df[\"Registration Date\"], y=df[\"Registrations\"]/df[\"BTC Price\"], title='BTC Normalized Registrations')\n",
    "fig1.update_traces(line=dict(color = 'rgba(50,50,50,0.2)'))\n",
    "\n",
    "fig2 = px.scatter(df_events, x=\"Registration Date\", y=df_events[\"Registrations\"]/df_events[\"BTC Price\"],  hover_data=[\"Event\"])\n",
    "\n",
    "fig3 = go.Figure(data=fig1.data + fig2.data)\n",
    "fig3.update_layout(title='BTC Normalized Registrations', xaxis_title=\"Date\",\n",
    "                   yaxis_title=\"Registrations/BTC\",)\n",
    "fig3.show()"
   ],
   "metadata": {
    "collapsed": false,
    "pycharm": {
     "name": "#%%\n"
    }
   }
  },
  {
   "cell_type": "code",
   "execution_count": 276,
   "outputs": [
    {
     "data": {
      "application/vnd.plotly.v1+json": {
       "data": [
        {
         "hovertemplate": " %{y}<br>Regs: %{hovertext[0]}<br>BTC Price: %{hovertext[1]:$,.0f}<br>",
         "hovertext": [
          [
           2257.0,
           29344.67383113
          ],
          [
           3922.0,
           32072.07813348
          ],
          [
           4621.0,
           33048.02778367
          ],
          [
           3285.0,
           32084.60754586
          ],
          [
           3197.0,
           34105.46338287
          ],
          [
           3051.0,
           36910.1780487
          ],
          [
           3350.0,
           39505.50589252
          ],
          [
           3203.0,
           40809.93262904
          ],
          [
           2953.0,
           40397.52256981
          ],
          [
           3345.0,
           38505.49085365
          ],
          [
           2562.0,
           35604.81258941
          ],
          [
           2421.0,
           34004.99618053
          ],
          [
           2110.0,
           37331.11778706
          ],
          [
           2288.0,
           39139.86810744
          ],
          [
           2107.0,
           36705.8142679
          ],
          [
           2180.0,
           36213.18742252
          ],
          [
           2275.0,
           35842.13951074
          ],
          [
           1995.0,
           36696.45170099
          ],
          [
           2482.0,
           36184.92519735
          ],
          [
           2149.0,
           35610.00444805
          ],
          [
           1904.0,
           30937.52147295
          ],
          [
           1830.0,
           32931.69189475
          ],
          [
           1821.0,
           32037.25515375
          ],
          [
           2035.0,
           32253.5995289
          ],
          [
           1995.0,
           32359.85653903
          ],
          [
           1696.0,
           32558.9917254
          ],
          [
           1603.0,
           30346.26920792
          ],
          [
           1727.0,
           33165.47521929
          ],
          [
           2422.0,
           34163.05404977
          ],
          [
           2371.0,
           34205.18316725
          ],
          [
           2584.0,
           33053.67800525
          ],
          [
           2366.0,
           33400.92857934
          ],
          [
           2454.0,
           35410.0540497
          ],
          [
           2909.0,
           37337.38930597
          ],
          [
           2913.0,
           36856.18935499
          ],
          [
           2781.0,
           37940.22787095
          ],
          [
           2816.0,
           39150.61851601
          ],
          [
           2851.0,
           38802.5138748
          ],
          [
           3701.0,
           46047.93029632
          ],
          [
           4125.0,
           46398.46010116
          ],
          [
           4258.0,
           44839.0190316
          ],
          [
           4173.0,
           47693.31708008
          ],
          [
           3880.0,
           47413.46305584
          ],
          [
           3715.0,
           46938.5678723
          ],
          [
           3518.0,
           48633.12343766
          ],
          [
           3713.0,
           47940.25726122
          ],
          [
           3642.0,
           49200.63908083
          ],
          [
           3900.0,
           52092.40863365
          ],
          [
           3683.0,
           51656.55821717
          ],
          [
           3758.0,
           55870.54057634
          ],
          [
           4522.0,
           56091.95077111
          ],
          [
           4148.0,
           57487.96226196
          ],
          [
           3375.0,
           54228.61370044
          ],
          [
           2443.0,
           48563.89319573
          ],
          [
           2663.0,
           49682.32617189
          ],
          [
           2727.0,
           47309.3390477
          ],
          [
           2649.0,
           45724.64474738
          ],
          [
           2799.0,
           46273.02190044
          ],
          [
           2570.0,
           45068.04510513
          ],
          [
           2517.0,
           49642.50366952
          ],
          [
           2290.0,
           48336.15607932
          ],
          [
           2079.0,
           50609.39354894
          ],
          [
           2143.0,
           48572.35461646
          ],
          [
           2014.0,
           48933.56397151
          ],
          [
           2272.0,
           48858.55205825
          ],
          [
           2548.0,
           51271.66950072
          ],
          [
           2800.0,
           52152.60224972
          ],
          [
           3158.0,
           54699.0227565
          ],
          [
           2843.0,
           56056.46592531
          ],
          [
           2755.0,
           57731.90342103
          ],
          [
           2714.0,
           57357.74026779
          ],
          [
           3141.0,
           61239.66635779
          ],
          [
           2944.0,
           59514.20595254
          ],
          [
           2710.0,
           55811.42921988
          ],
          [
           2447.0,
           56507.15737731
          ],
          [
           2527.0,
           58731.12810412
          ],
          [
           2534.0,
           57759.67121806
          ],
          [
           2410.0,
           58236.93917733
          ],
          [
           2304.0,
           58310.04531484
          ],
          [
           2253.0,
           57403.97949663
          ],
          [
           2281.0,
           54516.80801467
          ],
          [
           2193.0,
           54738.17180264
          ],
          [
           2698.0,
           52792.64294366
          ],
          [
           2632.0,
           51542.75759554
          ],
          [
           2302.0,
           54934.39497161
          ],
          [
           2307.0,
           55950.84593354
          ],
          [
           2541.0,
           55740.7517523
          ],
          [
           3398.0,
           57707.8067564
          ],
          [
           3349.0,
           58796.61033085
          ],
          [
           3508.0,
           58776.75708308
          ],
          [
           3042.0,
           58794.30628735
          ],
          [
           2889.0,
           59035.72783202
          ],
          [
           2956.0,
           57165.97146184
          ],
          [
           3102.0,
           58159.06136439
          ],
          [
           3968.0,
           60557.41667825
          ],
          [
           3766.0,
           59852.59181622
          ],
          [
           3857.0,
           56126.87261319
          ],
          [
           3181.0,
           58068.48483979
          ],
          [
           2816.0,
           58201.91217718
          ],
          [
           2893.0,
           59828.45657879
          ],
          [
           2940.0,
           60056.72572604
          ],
          [
           3184.0,
           59978.88776531
          ],
          [
           3853.0,
           63608.17519132
          ],
          [
           3960.0,
           62866.96092455
          ],
          [
           3858.0,
           63448.50309793
          ],
          [
           3892.0,
           63031.56937431
          ],
          [
           3346.0,
           61852.37614616
          ],
          [
           3050.0,
           56595.12797689
          ],
          [
           3201.0,
           57000.38002992
          ],
          [
           2823.0,
           56581.48865398
          ],
          [
           3042.0,
           54066.09334042
          ],
          [
           3023.0,
           51961.16087988
          ],
          [
           2514.0,
           51133.5463416
          ],
          [
           2476.0,
           50264.17175558
          ],
          [
           2350.0,
           49064.5214996
          ],
          [
           2950.0,
           54059.77744163
          ],
          [
           3690.0,
           55047.31177054
          ],
          [
           3402.0,
           54948.96131554
          ],
          [
           3087.0,
           53691.89549304
          ],
          [
           3076.0,
           57836.23496307
          ],
          [
           3809.0,
           57927.73087019
          ],
          [
           3680.0,
           56699.65441752
          ],
          [
           4235.0,
           57368.29211678
          ],
          [
           3396.0,
           53775.19077525
          ],
          [
           3815.0,
           57631.24608129
          ],
          [
           4122.0,
           56797.27165683
          ],
          [
           3837.0,
           57508.97954099
          ],
          [
           4145.0,
           58842.14145899
          ],
          [
           4207.0,
           58526.91115321
          ],
          [
           4365.0,
           56006.39003603
          ],
          [
           3682.0,
           56951.70377442
          ],
          [
           4174.0,
           51300.6221475
          ],
          [
           3611.0,
           49754.48069775
          ],
          [
           3587.0,
           50160.98241577
          ],
          [
           3733.0,
           46886.93153904
          ],
          [
           3347.0,
           46424.21984653
          ],
          [
           2942.0,
           43571.46006491
          ],
          [
           3597.0,
           43122.0343187
          ],
          [
           3252.0,
           37293.46380541
          ],
          [
           3006.0,
           40564.5076431
          ],
          [
           2994.0,
           37224.14816865
          ],
          [
           2682.0,
           37673.0070413
          ],
          [
           2443.0,
           34956.66820151
          ],
          [
           2782.0,
           38746.7938007
          ],
          [
           3240.0,
           38249.91579643
          ],
          [
           3601.0,
           39314.31029004
          ],
          [
           3046.0,
           38590.32838816
          ],
          [
           2647.0,
           35735.34273607
          ],
          [
           2197.0,
           34608.6433174
          ],
          [
           2168.0,
           35665.27567232
          ],
          [
           2634.0,
           37366.18332106
          ],
          [
           2438.0,
           36685.07256837161
          ],
          [
           2535.0,
           37762.58003697125
          ],
          [
           2813.0,
           39206.6046818144
          ],
          [
           2643.0,
           37022.33906342362
          ],
          [
           2395.0,
           35511.69336278372
          ],
          [
           2297.0,
           35813.707750950955
          ],
          [
           2618.0,
           33617.00756546291
          ],
          [
           2008.0,
           33491.43548603057
          ],
          [
           1957.0,
           37437.404626681695
          ],
          [
           1964.0,
           36885.73679791544
          ],
          [
           1790.0,
           37308.641413018944
          ],
          [
           1663.0,
           35620.64127004436
          ],
          [
           1606.0,
           39008.00686610667
          ],
          [
           1837.0,
           40483.85678245413
          ],
          [
           1903.0,
           40256.583301709885
          ],
          [
           1802.0,
           38293.22460689164
          ],
          [
           1605.0,
           38106.25399206374
          ],
          [
           1751.0,
           35683.8497092471
          ],
          [
           1434.0,
           35641.12323490716
          ],
          [
           1558.0,
           35694.24042578063
          ],
          [
           1544.0,
           31716.44813877054
          ],
          [
           1560.0,
           32495.81720425887
          ],
          [
           1610.0,
           33734.32554396549
          ],
          [
           1549.0,
           34642.45700366592
          ],
          [
           1587.0,
           31798.46239871993
          ],
          [
           1778.0,
           31950.905721468043
          ],
          [
           1780.0,
           34627.51018637937
          ],
          [
           1855.0,
           34482.80535571858
          ],
          [
           2141.0,
           35917.63848526043
          ],
          [
           1991.0,
           35127.08045697596
          ],
          [
           2097.0,
           33627.49775297845
          ],
          [
           2237.0,
           33871.087056082695
          ],
          [
           2627.0,
           34680.58432086232
          ],
          [
           2387.0,
           35356.23438784824
          ],
          [
           2394.0,
           33890.32302934383
          ],
          [
           2175.0,
           34134.128408533186
          ],
          [
           2116.0,
           33972.993763636834
          ],
          [
           1769.0,
           32860.40251991808
          ],
          [
           1761.0,
           33911.57192665304
          ],
          [
           1620.0,
           33623.69557754999
          ],
          [
           1513.0,
           34275.10609119196
          ],
          [
           1718.0,
           33219.11833506621
          ],
          [
           1668.0,
           32616.056143067133
          ],
          [
           1726.0,
           32851.66498079694
          ],
          [
           1670.0,
           31698.31404133762
          ],
          [
           1636.0,
           31479.276703154872
          ],
          [
           1505.0,
           31599.091072081563
          ],
          [
           1655.0,
           31864.02036051824
          ],
          [
           1645.0,
           30913.70598626665
          ],
          [
           1720.0,
           29834.51978652943
          ],
          [
           1704.0,
           32229.2091642837
          ],
          [
           1726.0,
           32385.271828910285
          ],
          [
           1947.0,
           33543.856623853404
          ],
          [
           1904.0,
           34277.37278235001
          ],
          [
           2013.0,
           35253.231653563314
          ],
          [
           2198.0,
           37323.15988270768
          ],
          [
           1932.0,
           39179.9600747692
          ],
          [
           3194.0,
           40020.17262349076
          ],
          [
           3041.0,
           40017.90315891172
          ],
          [
           2491.0,
           41954.14950125198
          ],
          [
           2509.0,
           41766.48317733504
          ],
          [
           2663.0,
           40057.8451403385
          ],
          [
           2673.0,
           39226.61008497573
          ],
          [
           2615.0,
           38279.89724320784
          ],
          [
           2604.0,
           39802.49292744506
          ],
          [
           2613.0,
           40906.42576569922
          ],
          [
           2979.0,
           42810.89335606575
          ],
          [
           2726.0,
           44601.90457206461
          ],
          [
           2864.0,
           43840.68349519177
          ],
          [
           2573.0,
           46276.80615952736
          ],
          [
           2890.0,
           45576.79574083628
          ],
          [
           3118.0,
           45673.324772977285
          ],
          [
           2604.0,
           44486.78212102148
          ],
          [
           2665.0,
           47752.194366889766
          ],
          [
           2746.0,
           47083.678990501976
          ],
          [
           2912.0,
           47060.62792698211
          ],
          [
           3251.0,
           45928.31780785424
          ],
          [
           3048.0,
           44648.91171672386
          ],
          [
           2843.0,
           44947.33856144066
          ],
          [
           3033.0,
           46640.8273629973
          ],
          [
           3137.0,
           49202.38792968609
          ],
          [
           3472.0,
           48996.3401291108
          ],
          [
           3429.0,
           49272.74001689351
          ],
          [
           3688.0,
           49517.46934520307
          ],
          [
           3623.0,
           47792.3335056992
          ],
          [
           4081.0,
           48994.942705944195
          ],
          [
           3658.0,
           47229.062230536714
          ],
          [
           3850.0,
           49079.375937210694
          ],
          [
           4644.0,
           48909.58733942181
          ],
          [
           4224.0,
           48959.258507285376
          ],
          [
           4160.0,
           47170.55230965449
          ],
          [
           4072.0,
           47314.94687446401
          ],
          [
           4782.0,
           48757.10651809417
          ],
          [
           4791.0,
           49362.536759206996
          ],
          [
           5084.0,
           49995.962811072844
          ],
          [
           4495.0,
           50000.34113817646
          ],
          [
           4488.0,
           51692.826235303146
          ],
          [
           5116.0,
           52644.494526811104
          ],
          [
           4721.0,
           47001.718617725375
          ],
          [
           4665.0,
           46125.21029246971
          ],
          [
           4996.0,
           46445.900639364605
          ],
          [
           3556.0,
           44905.92238606397
          ],
          [
           3190.0,
           45134.5563690414
          ],
          [
           3516.0,
           46141.13293234579
          ],
          [
           3803.0,
           45098.41530792078
          ],
          [
           3765.0,
           47068.167043580004
          ],
          [
           3525.0,
           48156.644125972205
          ],
          [
           3572.0,
           47856.64045362161
          ],
          [
           3345.0,
           47247.12118851619
          ],
          [
           3202.0,
           48231.92721368995
          ],
          [
           3555.0,
           47255.381414656615
          ],
          [
           3280.0,
           42980.49222366563
          ],
          [
           3112.0,
           40604.203254240776
          ],
          [
           3031.0,
           43621.11613452515
          ],
          [
           3176.0,
           44862.74181824127
          ],
          [
           2799.0,
           42800.249790244074
          ],
          [
           2526.0,
           42781.87900720134
          ],
          [
           2521.0,
           43245.49345170929
          ],
          [
           2819.0,
           42402.94355043827
          ],
          [
           2766.0,
           41104.70197021025
          ],
          [
           2702.0,
           41579.64710382908
          ],
          [
           2668.0,
           43858.36952115033
          ],
          [
           2859.0,
           48122.14214547114
          ],
          [
           2828.0,
           47720.55921313828
          ],
          [
           2923.0,
           48228.98854443176
          ],
          [
           2963.0,
           49325.27679791929
          ],
          [
           3272.0,
           51600.50384582838
          ],
          [
           3280.0,
           55433.614088162954
          ],
          [
           3444.0,
           53834.87724266724
          ],
          [
           3136.0,
           53945.19276094483
          ],
          [
           3065.0,
           55135.719511192256
          ],
          [
           3170.0,
           54698.11644886753
          ],
          [
           3407.0,
           57426.40486350285
          ],
          [
           3574.0,
           56166.93481347069
          ],
          [
           3521.0,
           57433.303352743336
          ],
          [
           3498.0,
           57435.25414794888
          ],
          [
           3609.0,
           61501.823399982095
          ],
          [
           3793.0,
           60920.61618695643
          ],
          [
           3849.0,
           61598.33731652415
          ],
          [
           4348.0,
           61988.3850785271
          ],
          [
           3656.0,
           64323.177457249505
          ],
          [
           4178.0,
           66109.14783611718
          ],
          [
           4117.0,
           62388.79716708904
          ],
          [
           3614.0,
           60766.3220716331
          ],
          [
           3724.0,
           61397.15320749761
          ],
          [
           3792.0,
           61014.757495488644
          ],
          [
           4025.0,
           62894.183799532264
          ],
          [
           3997.0,
           63391.78499380582
          ],
          [
           4840.0,
           58640.08000687125
          ],
          [
           6522.0,
           60652.28642777454
          ],
          [
           4816.0,
           62293.00640885554
          ],
          [
           4257.0,
           61803.806346709964
          ],
          [
           3978.0,
           61410.27998344659
          ],
          [
           4338.0,
           61146.911603819535
          ],
          [
           4781.0,
           63218.099220508986
          ],
          [
           4482.0,
           63046.17134678934
          ],
          [
           3946.0,
           61448.72508072233
          ],
          [
           3668.0,
           61142.75523869974
          ],
          [
           3544.0,
           61519.476392912264
          ],
          [
           3996.0,
           63132.927873951856
          ],
          [
           4053.0,
           67589.768670975
          ],
          [
           4353.0,
           67089.1943079463
          ],
          [
           4304.0,
           64959.26948907586
          ],
          [
           4152.0,
           64910.76908010607
          ],
          [
           4166.0,
           64263.41949583748
          ],
          [
           4256.0,
           64590.21294797991
          ],
          [
           4349.0,
           65271.780803689486
          ],
          [
           4199.0,
           63843.130490156844
          ],
          [
           4082.0,
           60317.27454089602
          ],
          [
           4103.0,
           60439.49093383806
          ],
          [
           3633.0,
           56907.93447038178
          ],
          [
           3559.0,
           58086.38552171499
          ],
          [
           3390.0,
           59885.977300355225
          ],
          [
           3897.0,
           59046.656014807435
          ],
          [
           3678.0,
           56462.302500529186
          ],
          [
           3620.0,
           57716.603121517575
          ],
          [
           3647.0,
           57196.671437675446
          ],
          [
           3753.0,
           58595.085543137204
          ],
          [
           3393.0,
           53825.549605413704
          ],
          [
           3126.0,
           54565.80344936937
          ],
          [
           3185.0,
           57258.1618203596
          ],
          [
           3474.0,
           57889.9589472749
          ],
          [
           3501.0,
           57032.30608049997
          ],
          [
           3494.0,
           57217.66196801862
          ],
          [
           3348.0,
           56448.37934921597
          ],
          [
           2980.0,
           53821.9887529986
          ],
          [
           3482.0,
           49129.54014312205
          ],
          [
           3091.0,
           49302.11654744693
          ],
          [
           2803.0,
           50563.89175508875
          ],
          [
           2843.0,
           50615.03410747912
          ],
          [
           2692.0,
           50389.39189863553
          ],
          [
           2837.0,
           47920.49352578849
          ],
          [
           2813.0,
           47414.36082346409
          ],
          [
           2815.0,
           49264.08714380691
          ],
          [
           3055.0,
           50122.269654257514
          ],
          [
           3248.0,
           46834.7653309624
          ],
          [
           3102.0,
           48431.845280079535
          ],
          [
           2950.0,
           48838.751301137
          ],
          [
           2582.0,
           47704.03737347681
          ],
          [
           2316.0,
           46342.68017198114
          ],
          [
           2181.0,
           46981.36270639172
          ],
          [
           2257.0,
           46826.62241612617
          ],
          [
           2390.0,
           47059.10944555025
          ],
          [
           2449.0,
           49008.776518911705
          ],
          [
           2463.0,
           48695.212292146134
          ],
          [
           2318.0,
           50842.95016848419
          ],
          [
           2246.0,
           50868.22280031897
          ],
          [
           2130.0,
           50729.14684854268
          ],
          [
           2524.0,
           50867.2978082795
          ],
          [
           3052.0,
           50805.9263811211
          ],
          [
           2886.0,
           47754.479283839886
          ],
          [
           2625.0,
           46565.85162789929
          ],
          [
           2610.0,
           47171.74514270485
          ],
          [
           2826.0,
           46387.97532588094
          ],
          [
           2824.0,
           47669.42797923843
          ],
          [
           3402.0,
           47364.139512218884
          ],
          [
           3540.0,
           46525.34493477397
          ],
          [
           3283.0,
           45990.081780680004
          ],
          [
           3224.0,
           43611.45059190385
          ],
          [
           3022.0,
           43179.45485608877
          ],
          [
           3109.0,
           41577.92816543081
          ],
          [
           2984.0,
           41911.493067609226
          ],
          [
           3157.0,
           41963.416450187266
          ],
          [
           2854.0,
           41839.87939179286
          ],
          [
           2944.0,
           42775.00248770073
          ],
          [
           3138.0,
           43966.371029396316
          ],
          [
           2994.0,
           42602.760340663
          ],
          [
           2840.0,
           43142.41826472056
          ],
          [
           2974.0,
           43232.05195357042
          ],
          [
           3061.0,
           43174.44327914722
          ],
          [
           2945.0,
           42237.28351456364
          ],
          [
           2794.0,
           42433.127922702864
          ],
          [
           2670.0,
           41773.90776765591
          ],
          [
           2492.0,
           40845.84447222258
          ],
          [
           2429.0,
           36491.52955673535
          ],
          [
           2498.0,
           35059.82134982239
          ],
          [
           2546.0,
           36208.23782990361
          ],
          [
           2509.0,
           36749.52534637346
          ],
          [
           2446.0,
           36973.68150869578
          ],
          [
           2394.0,
           36879.158476703895
          ],
          [
           2234.0,
           37171.35829186761
          ],
          [
           2238.0,
           37844.62676493753
          ],
          [
           2439.0,
           38139.85264433887
          ],
          [
           2419.0,
           37992.849135449316
          ],
          [
           2309.0,
           38500.78586046281
          ],
          [
           2486.0,
           38816.06084731825
          ],
          [
           2468.0,
           36936.47037843512
          ],
          [
           2498.0,
           37075.35390575864
          ],
          [
           2329.0,
           41550.657805719486
          ],
          [
           2195.0,
           41534.54523420008
          ],
          [
           2386.0,
           42444.260879828995
          ],
          [
           2675.0,
           43966.88745406641
          ],
          [
           3586.0,
           44144.92248384796
          ],
          [
           3150.0,
           44390.90187669309
          ],
          [
           2910.0,
           43584.33936972616
          ],
          [
           2515.0,
           42434.585857423386
          ],
          [
           2285.0,
           42189.242245396184
          ],
          [
           2493.0,
           42283.11757433199
          ],
          [
           2319.0,
           42739.4221158064
          ],
          [
           2427.0,
           44670.69894354173
          ],
          [
           2274.0,
           44050.945657965676
          ],
          [
           2240.0,
           40601.83910590479
          ],
          [
           1934.0,
           40066.83915909625
          ],
          [
           1846.0,
           40157.63494831741
          ],
          [
           2020.0,
           38571.47280906281
          ],
          [
           2126.0,
           37098.32359764401
          ],
          [
           1870.0,
           38362.14254413115
          ],
          [
           1837.0,
           37365.42252670707
          ],
          [
           1725.0,
           38352.84797787424
          ],
          [
           1651.0,
           39281.7306913051
          ],
          [
           1762.0,
           39073.960941278965
          ],
          [
           1995.0,
           37764.724735238124
          ],
          [
           2124.0,
           43241.40712585582
          ],
          [
           2377.0,
           44410.78087297636
          ],
          [
           1935.0,
           43981.341405
          ],
          [
           2453.0,
           42528.8502374741
          ],
          [
           2472.0,
           39175.312366
          ],
          [
           1916.0,
           39449.314193
          ],
          [
           2084.0,
           null
          ]
         ],
         "name": "Normalized Registrations",
         "x": [
          "2021-01-01",
          "2021-01-02",
          "2021-01-03",
          "2021-01-04",
          "2021-01-05",
          "2021-01-06",
          "2021-01-07",
          "2021-01-08",
          "2021-01-09",
          "2021-01-10",
          "2021-01-11",
          "2021-01-12",
          "2021-01-13",
          "2021-01-14",
          "2021-01-15",
          "2021-01-16",
          "2021-01-17",
          "2021-01-18",
          "2021-01-19",
          "2021-01-20",
          "2021-01-21",
          "2021-01-22",
          "2021-01-23",
          "2021-01-24",
          "2021-01-25",
          "2021-01-26",
          "2021-01-27",
          "2021-01-28",
          "2021-01-29",
          "2021-01-30",
          "2021-01-31",
          "2021-02-01",
          "2021-02-02",
          "2021-02-03",
          "2021-02-04",
          "2021-02-05",
          "2021-02-06",
          "2021-02-07",
          "2021-02-08",
          "2021-02-09",
          "2021-02-10",
          "2021-02-11",
          "2021-02-12",
          "2021-02-13",
          "2021-02-14",
          "2021-02-15",
          "2021-02-16",
          "2021-02-17",
          "2021-02-18",
          "2021-02-19",
          "2021-02-20",
          "2021-02-21",
          "2021-02-22",
          "2021-02-23",
          "2021-02-24",
          "2021-02-25",
          "2021-02-26",
          "2021-02-27",
          "2021-02-28",
          "2021-03-01",
          "2021-03-02",
          "2021-03-03",
          "2021-03-04",
          "2021-03-05",
          "2021-03-06",
          "2021-03-07",
          "2021-03-08",
          "2021-03-09",
          "2021-03-10",
          "2021-03-11",
          "2021-03-12",
          "2021-03-13",
          "2021-03-14",
          "2021-03-15",
          "2021-03-16",
          "2021-03-17",
          "2021-03-18",
          "2021-03-19",
          "2021-03-20",
          "2021-03-21",
          "2021-03-22",
          "2021-03-23",
          "2021-03-24",
          "2021-03-25",
          "2021-03-26",
          "2021-03-27",
          "2021-03-28",
          "2021-03-29",
          "2021-03-30",
          "2021-03-31",
          "2021-04-01",
          "2021-04-02",
          "2021-04-03",
          "2021-04-04",
          "2021-04-05",
          "2021-04-06",
          "2021-04-07",
          "2021-04-08",
          "2021-04-09",
          "2021-04-10",
          "2021-04-11",
          "2021-04-12",
          "2021-04-13",
          "2021-04-14",
          "2021-04-15",
          "2021-04-16",
          "2021-04-17",
          "2021-04-18",
          "2021-04-19",
          "2021-04-20",
          "2021-04-21",
          "2021-04-22",
          "2021-04-23",
          "2021-04-24",
          "2021-04-25",
          "2021-04-26",
          "2021-04-27",
          "2021-04-28",
          "2021-04-29",
          "2021-04-30",
          "2021-05-01",
          "2021-05-02",
          "2021-05-03",
          "2021-05-04",
          "2021-05-05",
          "2021-05-06",
          "2021-05-07",
          "2021-05-08",
          "2021-05-09",
          "2021-05-10",
          "2021-05-11",
          "2021-05-12",
          "2021-05-13",
          "2021-05-14",
          "2021-05-15",
          "2021-05-16",
          "2021-05-17",
          "2021-05-18",
          "2021-05-19",
          "2021-05-20",
          "2021-05-21",
          "2021-05-22",
          "2021-05-23",
          "2021-05-24",
          "2021-05-25",
          "2021-05-26",
          "2021-05-27",
          "2021-05-28",
          "2021-05-29",
          "2021-05-30",
          "2021-05-31",
          "2021-06-01",
          "2021-06-02",
          "2021-06-03",
          "2021-06-04",
          "2021-06-05",
          "2021-06-06",
          "2021-06-07",
          "2021-06-08",
          "2021-06-09",
          "2021-06-10",
          "2021-06-11",
          "2021-06-12",
          "2021-06-13",
          "2021-06-14",
          "2021-06-15",
          "2021-06-16",
          "2021-06-17",
          "2021-06-18",
          "2021-06-19",
          "2021-06-20",
          "2021-06-21",
          "2021-06-22",
          "2021-06-23",
          "2021-06-24",
          "2021-06-25",
          "2021-06-26",
          "2021-06-27",
          "2021-06-28",
          "2021-06-29",
          "2021-06-30",
          "2021-07-01",
          "2021-07-02",
          "2021-07-03",
          "2021-07-04",
          "2021-07-05",
          "2021-07-06",
          "2021-07-07",
          "2021-07-08",
          "2021-07-09",
          "2021-07-10",
          "2021-07-11",
          "2021-07-12",
          "2021-07-13",
          "2021-07-14",
          "2021-07-15",
          "2021-07-16",
          "2021-07-17",
          "2021-07-18",
          "2021-07-19",
          "2021-07-20",
          "2021-07-21",
          "2021-07-22",
          "2021-07-23",
          "2021-07-24",
          "2021-07-25",
          "2021-07-26",
          "2021-07-27",
          "2021-07-28",
          "2021-07-29",
          "2021-07-30",
          "2021-07-31",
          "2021-08-01",
          "2021-08-02",
          "2021-08-03",
          "2021-08-04",
          "2021-08-05",
          "2021-08-06",
          "2021-08-07",
          "2021-08-08",
          "2021-08-09",
          "2021-08-10",
          "2021-08-11",
          "2021-08-12",
          "2021-08-13",
          "2021-08-14",
          "2021-08-15",
          "2021-08-16",
          "2021-08-17",
          "2021-08-18",
          "2021-08-19",
          "2021-08-20",
          "2021-08-21",
          "2021-08-22",
          "2021-08-23",
          "2021-08-24",
          "2021-08-25",
          "2021-08-26",
          "2021-08-27",
          "2021-08-28",
          "2021-08-29",
          "2021-08-30",
          "2021-08-31",
          "2021-09-01",
          "2021-09-02",
          "2021-09-03",
          "2021-09-04",
          "2021-09-05",
          "2021-09-06",
          "2021-09-07",
          "2021-09-08",
          "2021-09-09",
          "2021-09-10",
          "2021-09-11",
          "2021-09-12",
          "2021-09-13",
          "2021-09-14",
          "2021-09-15",
          "2021-09-16",
          "2021-09-17",
          "2021-09-18",
          "2021-09-19",
          "2021-09-20",
          "2021-09-21",
          "2021-09-22",
          "2021-09-23",
          "2021-09-24",
          "2021-09-25",
          "2021-09-26",
          "2021-09-27",
          "2021-09-28",
          "2021-09-29",
          "2021-09-30",
          "2021-10-01",
          "2021-10-02",
          "2021-10-03",
          "2021-10-04",
          "2021-10-05",
          "2021-10-06",
          "2021-10-07",
          "2021-10-08",
          "2021-10-09",
          "2021-10-10",
          "2021-10-11",
          "2021-10-12",
          "2021-10-13",
          "2021-10-14",
          "2021-10-15",
          "2021-10-16",
          "2021-10-17",
          "2021-10-18",
          "2021-10-19",
          "2021-10-20",
          "2021-10-21",
          "2021-10-22",
          "2021-10-23",
          "2021-10-24",
          "2021-10-25",
          "2021-10-26",
          "2021-10-27",
          "2021-10-28",
          "2021-10-29",
          "2021-10-30",
          "2021-10-31",
          "2021-11-01",
          "2021-11-02",
          "2021-11-03",
          "2021-11-04",
          "2021-11-05",
          "2021-11-06",
          "2021-11-07",
          "2021-11-08",
          "2021-11-09",
          "2021-11-10",
          "2021-11-11",
          "2021-11-12",
          "2021-11-13",
          "2021-11-14",
          "2021-11-15",
          "2021-11-16",
          "2021-11-17",
          "2021-11-18",
          "2021-11-19",
          "2021-11-20",
          "2021-11-21",
          "2021-11-22",
          "2021-11-23",
          "2021-11-24",
          "2021-11-25",
          "2021-11-26",
          "2021-11-27",
          "2021-11-28",
          "2021-11-29",
          "2021-11-30",
          "2021-12-01",
          "2021-12-02",
          "2021-12-03",
          "2021-12-04",
          "2021-12-05",
          "2021-12-06",
          "2021-12-07",
          "2021-12-08",
          "2021-12-09",
          "2021-12-10",
          "2021-12-11",
          "2021-12-12",
          "2021-12-13",
          "2021-12-14",
          "2021-12-15",
          "2021-12-16",
          "2021-12-17",
          "2021-12-18",
          "2021-12-19",
          "2021-12-20",
          "2021-12-21",
          "2021-12-22",
          "2021-12-23",
          "2021-12-24",
          "2021-12-25",
          "2021-12-26",
          "2021-12-27",
          "2021-12-28",
          "2021-12-29",
          "2021-12-30",
          "2021-12-31",
          "2022-01-01",
          "2022-01-02",
          "2022-01-03",
          "2022-01-04",
          "2022-01-05",
          "2022-01-06",
          "2022-01-07",
          "2022-01-08",
          "2022-01-09",
          "2022-01-10",
          "2022-01-11",
          "2022-01-12",
          "2022-01-13",
          "2022-01-14",
          "2022-01-15",
          "2022-01-16",
          "2022-01-17",
          "2022-01-18",
          "2022-01-19",
          "2022-01-20",
          "2022-01-21",
          "2022-01-22",
          "2022-01-23",
          "2022-01-24",
          "2022-01-25",
          "2022-01-26",
          "2022-01-27",
          "2022-01-28",
          "2022-01-29",
          "2022-01-30",
          "2022-01-31",
          "2022-02-01",
          "2022-02-02",
          "2022-02-03",
          "2022-02-04",
          "2022-02-05",
          "2022-02-06",
          "2022-02-07",
          "2022-02-08",
          "2022-02-09",
          "2022-02-10",
          "2022-02-11",
          "2022-02-12",
          "2022-02-13",
          "2022-02-14",
          "2022-02-15",
          "2022-02-16",
          "2022-02-17",
          "2022-02-18",
          "2022-02-19",
          "2022-02-20",
          "2022-02-21",
          "2022-02-22",
          "2022-02-23",
          "2022-02-24",
          "2022-02-25",
          "2022-02-26",
          "2022-02-27",
          "2022-02-28",
          "2022-03-01",
          "2022-03-02",
          "2022-03-03",
          "2022-03-04",
          "2022-03-05",
          "2022-03-06"
         ],
         "y": [
          0.0769134464737408,
          0.12228705554024669,
          0.1398268008683826,
          0.10238554407450984,
          0.09373864721057397,
          0.08266012686187674,
          0.08479830657311722,
          0.07848579484595308,
          0.07309854199343514,
          0.08687072741686454,
          0.07195656467974276,
          0.07119542043607624,
          0.056521211393551804,
          0.058457018652167604,
          0.05740235006426803,
          0.060199064350914246,
          0.06347277341851489,
          0.05436492923772733,
          0.06859209978916217,
          0.06034820925493254,
          0.061543391627695475,
          0.05556957127646819,
          0.05684007544531635,
          0.06309373309408742,
          0.06165045872789277,
          0.0520900651440294,
          0.052823626819392906,
          0.05207222235113721,
          0.07089530100182323,
          0.06931698007307066,
          0.07817586894836866,
          0.07083635397680169,
          0.06930235115020365,
          0.07791117842122053,
          0.07903692842313895,
          0.07329950704195297,
          0.07192734385150118,
          0.0734746209794299,
          0.08037277628297165,
          0.08890381256202232,
          0.09496193476041934,
          0.08749653526915055,
          0.08183329691464275,
          0.0791460022833876,
          0.07233752947226435,
          0.07745056476790192,
          0.07402342872044175,
          0.0748669547501155,
          0.07129782020157542,
          0.06726263897277261,
          0.08061762762455113,
          0.07215423606595198,
          0.06223651629089342,
          0.05030486312441692,
          0.053600549837111114,
          0.057641895974291285,
          0.05793374698994871,
          0.06048880935466601,
          0.05702488301866598,
          0.050702519291858615,
          0.047376543476938725,
          0.04107933042093416,
          0.04411974706438854,
          0.041157844157286134,
          0.04650158271762296,
          0.049696060705887855,
          0.053688596143158566,
          0.05773412102914998,
          0.05071671845649406,
          0.04772058145923587,
          0.047317066316227986,
          0.051290285966759656,
          0.049467181034855985,
          0.0485563626998948,
          0.04330424876376056,
          0.043026587119526664,
          0.04387144086110521,
          0.04138266938551855,
          0.03951291732941988,
          0.03924815003691976,
          0.041840307293600214,
          0.0400634498336357,
          0.051105605811008356,
          0.05106440017535552,
          0.041904529961414326,
          0.0412326205530533,
          0.04558603750612589,
          0.05888284776345533,
          0.05695906585694469,
          0.059683456081823266,
          0.051739703928686494,
          0.04893646789991898,
          0.05170908364556034,
          0.05333648664934115,
          0.06552459166286001,
          0.06292125179079408,
          0.06871931074053095,
          0.05478014466498182,
          0.04838329007863949,
          0.0483549161290851,
          0.048953717746974094,
          0.053085345837998864,
          0.060573974782502205,
          0.06299016115559662,
          0.06080521701269052,
          0.06174683636524329,
          0.05409654743244218,
          0.05389156468106997,
          0.0561575203238955,
          0.04989264275572267,
          0.056264468395126124,
          0.05817806894246165,
          0.04916537537226751,
          0.049259739363458836,
          0.0478961157303686,
          0.054569222065059465,
          0.0670332461534443,
          0.06191199830810792,
          0.057494710731532346,
          0.05318465148991993,
          0.0657543449878189,
          0.06490339381791527,
          0.07382126683114694,
          0.0631517982742891,
          0.0661967293682817,
          0.0725739085656295,
          0.0667200153893384,
          0.07044271158772927,
          0.07188146302453996,
          0.07793753529181063,
          0.0646512703919102,
          0.08136353567016943,
          0.07257637803389429,
          0.0715097637097373,
          0.07961706764478178,
          0.07209598806537991,
          0.06752126267095926,
          0.08341443201440406,
          0.08720026696818241,
          0.07410419045259431,
          0.08043165921313232,
          0.07119155625299008,
          0.0698865231067551,
          0.07179948912185195,
          0.08470606882492537,
          0.09159514623132757,
          0.07893169421524154,
          0.07407232720698691,
          0.06348125177433425,
          0.06078741742861659,
          0.07049154518586992,
          0.06645754878789432,
          0.06712994709360753,
          0.07174811547261531,
          0.07138933051939884,
          0.06744257378922858,
          0.06413745306611009,
          0.07787724695310637,
          0.05995562659108911,
          0.05227392281903119,
          0.053245513591340096,
          0.04797816088192842,
          0.04668641385180568,
          0.041171034590732285,
          0.045376111517027286,
          0.04727177132092009,
          0.047057933054707894,
          0.042119070542443446,
          0.04906981769812371,
          0.04023442220237129,
          0.043648498508871876,
          0.048681365367410016,
          0.04800617846273298,
          0.047725868949171926,
          0.044713918525931415,
          0.049908073544583896,
          0.05564787475822161,
          0.051404215619873184,
          0.05379492709088327,
          0.059608595951501794,
          0.05667991686467081,
          0.062359680027463976,
          0.06604452925576451,
          0.07574843536934618,
          0.06751284579164346,
          0.07063963355932495,
          0.06371921889929587,
          0.0622847669746689,
          0.05383378973911637,
          0.051929176382883316,
          0.048180307731600105,
          0.044142824707078344,
          0.05171720641924664,
          0.05114045648816281,
          0.05253919401068145,
          0.05268419001156216,
          0.051970698546451644,
          0.047627952227072064,
          0.051939459656216554,
          0.05321264298530845,
          0.057651338526876386,
          0.052871294213708696,
          0.053295831794105936,
          0.05804341527668786,
          0.05554684753962245,
          0.057101148053090064,
          0.05889104799560026,
          0.04931092314318498,
          0.07980975069870659,
          0.07599098803163527,
          0.059374341504066584,
          0.06007209152245626,
          0.06647886302097519,
          0.0681425184131267,
          0.06831261806649679,
          0.06542303781692178,
          0.0638774948211449,
          0.0695850931028963,
          0.061118466266289626,
          0.06532744865426447,
          0.05560020696178223,
          0.06340945985833299,
          0.06826741901313851,
          0.05853424041586329,
          0.05580895360586502,
          0.058321695731421944,
          0.061877627398388604,
          0.07078421669177798,
          0.06826594160543291,
          0.06325179845996372,
          0.0650288635832872,
          0.06375706814236351,
          0.0708624356605186,
          0.0695922329227955,
          0.07447876575213691,
          0.07580713755205026,
          0.08329431109845715,
          0.07745231065872955,
          0.07844435522011255,
          0.09495070910681905,
          0.08627581643973321,
          0.08819061461675029,
          0.0860615993251314,
          0.09807801039680973,
          0.09705741063046953,
          0.10168821069036443,
          0.08989938663774355,
          0.08682055764509469,
          0.09718015237841239,
          0.10044313567333275,
          0.10113775027626479,
          0.10756600542192321,
          0.07918777326136303,
          0.07067755300211787,
          0.07620098980134098,
          0.08432668806728708,
          0.07999036793835672,
          0.07319862220421772,
          0.07463958953536791,
          0.07079796431730596,
          0.0663875607917064,
          0.0752295271686748,
          0.07631369093986291,
          0.07664231164725482,
          0.06948469614240407,
          0.07079371146924936,
          0.06539681459144209,
          0.05904368995982636,
          0.05829509155249,
          0.0664812337060233,
          0.06729157170400114,
          0.06498371651045524,
          0.06083217477369694,
          0.059411320289054624,
          0.05926166932304942,
          0.06060670331717899,
          0.06007062083278547,
          0.06341023354686726,
          0.059169874704243695,
          0.06397339747754513,
          0.05813307617412755,
          0.0555900970763213,
          0.057954463623319734,
          0.05932810887427339,
          0.06363174369171444,
          0.061305893870926324,
          0.06090336069532166,
          0.05868118700365314,
          0.06226135317410184,
          0.062485452817043506,
          0.07014217251331743,
          0.05683798817976385,
          0.06319851543627746,
          0.06598941135175106,
          0.05947373276499625,
          0.060654278015372834,
          0.06214889898202702,
          0.06399637862905112,
          0.06305233399549418,
          0.08253740444134566,
          0.1075309833169517,
          0.07731204958050251,
          0.0688792527780389,
          0.06477742816141348,
          0.07094389375062121,
          0.07562707608976901,
          0.07109075625459449,
          0.0642161410967652,
          0.05999075418960468,
          0.057607772494115514,
          0.06329502107011764,
          0.05996469701989786,
          0.06488377219167789,
          0.06625690273077654,
          0.06396473279920681,
          0.06482692693111115,
          0.0658923357851092,
          0.06662909984147657,
          0.06577058436455259,
          0.06767547159698575,
          0.06788607806924572,
          0.06383995542644104,
          0.06127081187844792,
          0.056607575810237155,
          0.06599865704541726,
          0.06514080788620918,
          0.06272025386487813,
          0.06376245170095197,
          0.0640497400970099,
          0.06303697825425895,
          0.05728862771901745,
          0.05562525758323405,
          0.06001040704077981,
          0.06138626053553591,
          0.061065060679217284,
          0.05931082590144374,
          0.055367705078233,
          0.07087385694749815,
          0.06269507713782047,
          0.0554348152942145,
          0.05616908197597963,
          0.053423942988145,
          0.05920222834252038,
          0.05932801689499781,
          0.05714101616828354,
          0.06095095096597447,
          0.06935019268374025,
          0.06404876754253841,
          0.060402854729238786,
          0.05412539781036601,
          0.04997552993062014,
          0.04642266367687285,
          0.04819907743810994,
          0.05078719143134975,
          0.049970641463676815,
          0.050579921188622645,
          0.04559137485764642,
          0.04415330193108136,
          0.04198769607459286,
          0.04961930569838874,
          0.06007173212639399,
          0.06043412143280604,
          0.05637178121375251,
          0.05532973164558951,
          0.06092096023046964,
          0.05924132341654997,
          0.07182649225839646,
          0.07608756055356257,
          0.07138495677516184,
          0.07392553919310614,
          0.06998698825800172,
          0.07477525064812922,
          0.07119765442825865,
          0.0752321966860711,
          0.06821243372321548,
          0.06882524439002663,
          0.0713727316248572,
          0.07027713641226953,
          0.0658284842211173,
          0.06879155315583824,
          0.07089842433425028,
          0.06972512801360789,
          0.06584478064142744,
          0.0639154951662743,
          0.061009878292385335,
          0.06656339236817965,
          0.07124964999322948,
          0.07031549041299416,
          0.0682729906400708,
          0.06615516497659908,
          0.06491471332005203,
          0.06010003676644651,
          0.059136532483218276,
          0.06394885745218061,
          0.063669876175276,
          0.059972801811589926,
          0.06404565393120654,
          0.06681742935136839,
          0.06737629548593478,
          0.05605206085761201,
          0.05284757513590419,
          0.056214902805243834,
          0.06084124109978575,
          0.08123244527866302,
          0.07096048664994278,
          0.06676710125888237,
          0.059267692830800495,
          0.05416072625123638,
          0.05895970172060771,
          0.05425903966872682,
          0.05433091617991986,
          0.051622047291708835,
          0.05516991469665306,
          0.04826934294268955,
          0.04596884259682595,
          0.0523703103067762,
          0.05730717169481521,
          0.04874597392074189,
          0.04916309988698769,
          0.0449771031605046,
          0.04202971638328156,
          0.04509396942500824,
          0.05282707643142101,
          0.049119585628146056,
          0.05352303997533148,
          0.04399592959618145,
          0.05767849321820016,
          0.06310096463060835,
          0.04856865167861348,
          null
         ],
         "type": "scatter"
        },
        {
         "hovertemplate": " %{y}<br>Passed KYC: %{hovertext}<br>",
         "hovertext": [
          1651.0,
          2561.0,
          2969.0,
          2324.0,
          2297.0,
          2204.0,
          2452.0,
          2278.0,
          2109.0,
          2323.0,
          1755.0,
          1680.0,
          1462.0,
          1586.0,
          1406.0,
          1485.0,
          1518.0,
          1370.0,
          1757.0,
          1496.0,
          1308.0,
          1265.0,
          1279.0,
          1386.0,
          1379.0,
          1194.0,
          1107.0,
          1218.0,
          1635.0,
          1658.0,
          1806.0,
          1666.0,
          1694.0,
          1925.0,
          1953.0,
          1780.0,
          1834.0,
          1953.0,
          2347.0,
          3024.0,
          3153.0,
          3051.0,
          2875.0,
          2783.0,
          2607.0,
          2779.0,
          2708.0,
          2983.0,
          2803.0,
          2817.0,
          3318.0,
          3038.0,
          2522.0,
          1904.0,
          1995.0,
          2097.0,
          1940.0,
          2079.0,
          1849.0,
          1837.0,
          1798.0,
          1615.0,
          1621.0,
          1494.0,
          1675.0,
          1908.0,
          2079.0,
          2313.0,
          2135.0,
          2047.0,
          2072.0,
          2354.0,
          2139.0,
          2000.0,
          1800.0,
          1875.0,
          1878.0,
          1749.0,
          1678.0,
          1620.0,
          1692.0,
          1603.0,
          2045.0,
          1698.0,
          1555.0,
          1670.0,
          1700.0,
          2292.0,
          2221.0,
          2362.0,
          2118.0,
          2083.0,
          2056.0,
          2207.0,
          2728.0,
          2727.0,
          2729.0,
          2334.0,
          1981.0,
          2110.0,
          2175.0,
          2279.0,
          2871.0,
          2856.0,
          2703.0,
          2752.0,
          2402.0,
          2221.0,
          2258.0,
          1950.0,
          2146.0,
          2153.0,
          1822.0,
          1741.0,
          1660.0,
          2154.0,
          2778.0,
          2522.0,
          2303.0,
          2303.0,
          2823.0,
          2731.0,
          3105.0,
          2509.0,
          2816.0,
          3049.0,
          2774.0,
          3014.0,
          2974.0,
          3158.0,
          2707.0,
          3103.0,
          2648.0,
          2591.0,
          2681.0,
          2363.0,
          2133.0,
          2618.0,
          2364.0,
          2203.0,
          2137.0,
          1921.0,
          1718.0,
          1977.0,
          2277.0,
          2524.0,
          2149.0,
          1913.0,
          1568.0,
          1543.0,
          1867.0,
          1721.0,
          1867.0,
          2028.0,
          1931.0,
          1681.0,
          1627.0,
          1911.0,
          1458.0,
          1430.0,
          1401.0,
          1259.0,
          1134.0,
          1068.0,
          1210.0,
          1299.0,
          1193.0,
          1038.0,
          1257.0,
          968.0,
          1033.0,
          1050.0,
          1085.0,
          1113.0,
          1057.0,
          1077.0,
          1165.0,
          1185.0,
          1267.0,
          1513.0,
          1415.0,
          1445.0,
          1635.0,
          1899.0,
          1676.0,
          1679.0,
          1510.0,
          1480.0,
          1190.0,
          1201.0,
          1091.0,
          1024.0,
          1165.0,
          1129.0,
          1183.0,
          1109.0,
          1097.0,
          1013.0,
          1125.0,
          1140.0,
          1199.0,
          1165.0,
          1126.0,
          1326.0,
          1249.0,
          1363.0,
          1440.0,
          1217.0,
          1980.0,
          1975.0,
          1597.0,
          1654.0,
          1749.0,
          1674.0,
          1614.0,
          1649.0,
          1788.0,
          2033.0,
          1878.0,
          1924.0,
          1781.0,
          1928.0,
          2042.0,
          1681.0,
          1751.0,
          1814.0,
          1913.0,
          2116.0,
          1928.0,
          1816.0,
          1936.0,
          2073.0,
          2141.0,
          2188.0,
          2389.0,
          2301.0,
          2598.0,
          2334.0,
          2454.0,
          3122.0,
          2730.0,
          2678.0,
          2631.0,
          2997.0,
          2958.0,
          3220.0,
          2790.0,
          2754.0,
          3158.0,
          2969.0,
          2793.0,
          2952.0,
          2220.0,
          1998.0,
          2123.0,
          2360.0,
          2215.0,
          2148.0,
          2189.0,
          2000.0,
          1855.0,
          2047.0,
          1927.0,
          1841.0,
          1800.0,
          1873.0,
          1634.0,
          1429.0,
          1422.0,
          1639.0,
          1694.0,
          1658.0,
          1534.0,
          1656.0,
          1666.0,
          1731.0,
          1778.0,
          1982.0,
          1989.0,
          2066.0,
          1904.0,
          1790.0,
          1842.0,
          2063.0,
          2116.0,
          2103.0,
          2054.0,
          2122.0,
          2197.0,
          2222.0,
          2586.0,
          2111.0,
          2454.0,
          2413.0,
          2067.0,
          2168.0,
          2147.0,
          2340.0,
          2299.0,
          2861.0,
          4006.0,
          2865.0,
          2474.0,
          2332.0,
          2598.0,
          2802.0,
          2634.0,
          2377.0,
          2193.0,
          2169.0,
          2343.0,
          2442.0,
          2650.0,
          2648.0,
          2430.0,
          2511.0,
          2593.0,
          2585.0,
          2511.0,
          2520.0,
          2469.0,
          2204.0,
          2112.0,
          1945.0,
          2320.0,
          2138.0,
          2095.0,
          2170.0,
          2233.0,
          2015.0,
          1838.0,
          1840.0,
          1956.0,
          2066.0,
          2041.0,
          1985.0,
          1707.0,
          1919.0,
          1765.0,
          1556.0,
          1625.0,
          1548.0,
          1527.0,
          1444.0,
          1426.0,
          1460.0,
          1588.0,
          1547.0,
          1472.0,
          1237.0,
          1171.0,
          1118.0,
          1233.0,
          1269.0,
          1271.0,
          1309.0,
          1222.0,
          1211.0,
          1141.0,
          1353.0,
          1637.0,
          1574.0,
          1402.0,
          1409.0,
          1511.0,
          1527.0,
          1804.0,
          1819.0,
          1762.0,
          1700.0,
          1669.0,
          1648.0,
          1484.0,
          1600.0,
          1460.0,
          1510.0,
          1603.0,
          1519.0,
          1392.0,
          1453.0,
          1547.0,
          1484.0,
          1374.0,
          1332.0,
          1209.0,
          1225.0,
          1274.0,
          1268.0,
          1244.0,
          1179.0,
          1263.0,
          1094.0,
          1131.0,
          1205.0,
          1202.0,
          1150.0,
          1239.0,
          1253.0,
          1279.0,
          1123.0,
          1054.0,
          1211.0,
          1349.0,
          1712.0,
          1543.0,
          1420.0,
          1200.0,
          1102.0,
          1209.0,
          1170.0,
          1287.0,
          1182.0,
          1153.0,
          1018.0,
          940.0,
          1055.0,
          1103.0,
          1009.0,
          946.0,
          863.0,
          774.0,
          842.0,
          945.0,
          961.0,
          1098.0,
          926.0,
          1163.0,
          1034.0,
          831.0,
          723.0
         ],
         "name": "Normalized KYC-Passed",
         "visible": "legendonly",
         "x": [
          "2021-01-01",
          "2021-01-02",
          "2021-01-03",
          "2021-01-04",
          "2021-01-05",
          "2021-01-06",
          "2021-01-07",
          "2021-01-08",
          "2021-01-09",
          "2021-01-10",
          "2021-01-11",
          "2021-01-12",
          "2021-01-13",
          "2021-01-14",
          "2021-01-15",
          "2021-01-16",
          "2021-01-17",
          "2021-01-18",
          "2021-01-19",
          "2021-01-20",
          "2021-01-21",
          "2021-01-22",
          "2021-01-23",
          "2021-01-24",
          "2021-01-25",
          "2021-01-26",
          "2021-01-27",
          "2021-01-28",
          "2021-01-29",
          "2021-01-30",
          "2021-01-31",
          "2021-02-01",
          "2021-02-02",
          "2021-02-03",
          "2021-02-04",
          "2021-02-05",
          "2021-02-06",
          "2021-02-07",
          "2021-02-08",
          "2021-02-09",
          "2021-02-10",
          "2021-02-11",
          "2021-02-12",
          "2021-02-13",
          "2021-02-14",
          "2021-02-15",
          "2021-02-16",
          "2021-02-17",
          "2021-02-18",
          "2021-02-19",
          "2021-02-20",
          "2021-02-21",
          "2021-02-22",
          "2021-02-23",
          "2021-02-24",
          "2021-02-25",
          "2021-02-26",
          "2021-02-27",
          "2021-02-28",
          "2021-03-01",
          "2021-03-02",
          "2021-03-03",
          "2021-03-04",
          "2021-03-05",
          "2021-03-06",
          "2021-03-07",
          "2021-03-08",
          "2021-03-09",
          "2021-03-10",
          "2021-03-11",
          "2021-03-12",
          "2021-03-13",
          "2021-03-14",
          "2021-03-15",
          "2021-03-16",
          "2021-03-17",
          "2021-03-18",
          "2021-03-19",
          "2021-03-20",
          "2021-03-21",
          "2021-03-22",
          "2021-03-23",
          "2021-03-24",
          "2021-03-25",
          "2021-03-26",
          "2021-03-27",
          "2021-03-28",
          "2021-03-29",
          "2021-03-30",
          "2021-03-31",
          "2021-04-01",
          "2021-04-02",
          "2021-04-03",
          "2021-04-04",
          "2021-04-05",
          "2021-04-06",
          "2021-04-07",
          "2021-04-08",
          "2021-04-09",
          "2021-04-10",
          "2021-04-11",
          "2021-04-12",
          "2021-04-13",
          "2021-04-14",
          "2021-04-15",
          "2021-04-16",
          "2021-04-17",
          "2021-04-18",
          "2021-04-19",
          "2021-04-20",
          "2021-04-21",
          "2021-04-22",
          "2021-04-23",
          "2021-04-24",
          "2021-04-25",
          "2021-04-26",
          "2021-04-27",
          "2021-04-28",
          "2021-04-29",
          "2021-04-30",
          "2021-05-01",
          "2021-05-02",
          "2021-05-03",
          "2021-05-04",
          "2021-05-05",
          "2021-05-06",
          "2021-05-07",
          "2021-05-08",
          "2021-05-09",
          "2021-05-10",
          "2021-05-11",
          "2021-05-12",
          "2021-05-13",
          "2021-05-14",
          "2021-05-15",
          "2021-05-16",
          "2021-05-17",
          "2021-05-18",
          "2021-05-19",
          "2021-05-20",
          "2021-05-21",
          "2021-05-22",
          "2021-05-23",
          "2021-05-24",
          "2021-05-25",
          "2021-05-26",
          "2021-05-27",
          "2021-05-28",
          "2021-05-29",
          "2021-05-30",
          "2021-05-31",
          "2021-06-01",
          "2021-06-02",
          "2021-06-03",
          "2021-06-04",
          "2021-06-05",
          "2021-06-06",
          "2021-06-07",
          "2021-06-08",
          "2021-06-09",
          "2021-06-10",
          "2021-06-11",
          "2021-06-12",
          "2021-06-13",
          "2021-06-14",
          "2021-06-15",
          "2021-06-16",
          "2021-06-17",
          "2021-06-18",
          "2021-06-19",
          "2021-06-20",
          "2021-06-21",
          "2021-06-22",
          "2021-06-23",
          "2021-06-24",
          "2021-06-25",
          "2021-06-26",
          "2021-06-27",
          "2021-06-28",
          "2021-06-29",
          "2021-06-30",
          "2021-07-01",
          "2021-07-02",
          "2021-07-03",
          "2021-07-04",
          "2021-07-05",
          "2021-07-06",
          "2021-07-07",
          "2021-07-08",
          "2021-07-09",
          "2021-07-10",
          "2021-07-11",
          "2021-07-12",
          "2021-07-13",
          "2021-07-14",
          "2021-07-15",
          "2021-07-16",
          "2021-07-17",
          "2021-07-18",
          "2021-07-19",
          "2021-07-20",
          "2021-07-21",
          "2021-07-22",
          "2021-07-23",
          "2021-07-24",
          "2021-07-25",
          "2021-07-26",
          "2021-07-27",
          "2021-07-28",
          "2021-07-29",
          "2021-07-30",
          "2021-07-31",
          "2021-08-01",
          "2021-08-02",
          "2021-08-03",
          "2021-08-04",
          "2021-08-05",
          "2021-08-06",
          "2021-08-07",
          "2021-08-08",
          "2021-08-09",
          "2021-08-10",
          "2021-08-11",
          "2021-08-12",
          "2021-08-13",
          "2021-08-14",
          "2021-08-15",
          "2021-08-16",
          "2021-08-17",
          "2021-08-18",
          "2021-08-19",
          "2021-08-20",
          "2021-08-21",
          "2021-08-22",
          "2021-08-23",
          "2021-08-24",
          "2021-08-25",
          "2021-08-26",
          "2021-08-27",
          "2021-08-28",
          "2021-08-29",
          "2021-08-30",
          "2021-08-31",
          "2021-09-01",
          "2021-09-02",
          "2021-09-03",
          "2021-09-04",
          "2021-09-05",
          "2021-09-06",
          "2021-09-07",
          "2021-09-08",
          "2021-09-09",
          "2021-09-10",
          "2021-09-11",
          "2021-09-12",
          "2021-09-13",
          "2021-09-14",
          "2021-09-15",
          "2021-09-16",
          "2021-09-17",
          "2021-09-18",
          "2021-09-19",
          "2021-09-20",
          "2021-09-21",
          "2021-09-22",
          "2021-09-23",
          "2021-09-24",
          "2021-09-25",
          "2021-09-26",
          "2021-09-27",
          "2021-09-28",
          "2021-09-29",
          "2021-09-30",
          "2021-10-01",
          "2021-10-02",
          "2021-10-03",
          "2021-10-04",
          "2021-10-05",
          "2021-10-06",
          "2021-10-07",
          "2021-10-08",
          "2021-10-09",
          "2021-10-10",
          "2021-10-11",
          "2021-10-12",
          "2021-10-13",
          "2021-10-14",
          "2021-10-15",
          "2021-10-16",
          "2021-10-17",
          "2021-10-18",
          "2021-10-19",
          "2021-10-20",
          "2021-10-21",
          "2021-10-22",
          "2021-10-23",
          "2021-10-24",
          "2021-10-25",
          "2021-10-26",
          "2021-10-27",
          "2021-10-28",
          "2021-10-29",
          "2021-10-30",
          "2021-10-31",
          "2021-11-01",
          "2021-11-02",
          "2021-11-03",
          "2021-11-04",
          "2021-11-05",
          "2021-11-06",
          "2021-11-07",
          "2021-11-08",
          "2021-11-09",
          "2021-11-10",
          "2021-11-11",
          "2021-11-12",
          "2021-11-13",
          "2021-11-14",
          "2021-11-15",
          "2021-11-16",
          "2021-11-17",
          "2021-11-18",
          "2021-11-19",
          "2021-11-20",
          "2021-11-21",
          "2021-11-22",
          "2021-11-23",
          "2021-11-24",
          "2021-11-25",
          "2021-11-26",
          "2021-11-27",
          "2021-11-28",
          "2021-11-29",
          "2021-11-30",
          "2021-12-01",
          "2021-12-02",
          "2021-12-03",
          "2021-12-04",
          "2021-12-05",
          "2021-12-06",
          "2021-12-07",
          "2021-12-08",
          "2021-12-09",
          "2021-12-10",
          "2021-12-11",
          "2021-12-12",
          "2021-12-13",
          "2021-12-14",
          "2021-12-15",
          "2021-12-16",
          "2021-12-17",
          "2021-12-18",
          "2021-12-19",
          "2021-12-20",
          "2021-12-21",
          "2021-12-22",
          "2021-12-23",
          "2021-12-24",
          "2021-12-25",
          "2021-12-26",
          "2021-12-27",
          "2021-12-28",
          "2021-12-29",
          "2021-12-30",
          "2021-12-31",
          "2022-01-01",
          "2022-01-02",
          "2022-01-03",
          "2022-01-04",
          "2022-01-05",
          "2022-01-06",
          "2022-01-07",
          "2022-01-08",
          "2022-01-09",
          "2022-01-10",
          "2022-01-11",
          "2022-01-12",
          "2022-01-13",
          "2022-01-14",
          "2022-01-15",
          "2022-01-16",
          "2022-01-17",
          "2022-01-18",
          "2022-01-19",
          "2022-01-20",
          "2022-01-21",
          "2022-01-22",
          "2022-01-23",
          "2022-01-24",
          "2022-01-25",
          "2022-01-26",
          "2022-01-27",
          "2022-01-28",
          "2022-01-29",
          "2022-01-30",
          "2022-01-31",
          "2022-02-01",
          "2022-02-02",
          "2022-02-03",
          "2022-02-04",
          "2022-02-05",
          "2022-02-06",
          "2022-02-07",
          "2022-02-08",
          "2022-02-09",
          "2022-02-10",
          "2022-02-11",
          "2022-02-12",
          "2022-02-13",
          "2022-02-14",
          "2022-02-15",
          "2022-02-16",
          "2022-02-17",
          "2022-02-18",
          "2022-02-19",
          "2022-02-20",
          "2022-02-21",
          "2022-02-22",
          "2022-02-23",
          "2022-02-24",
          "2022-02-25",
          "2022-02-26",
          "2022-02-27",
          "2022-02-28",
          "2022-03-01",
          "2022-03-02",
          "2022-03-03",
          "2022-03-04",
          "2022-03-05",
          "2022-03-06"
         ],
         "y": [
          0.056262339445346074,
          0.07985138940300146,
          0.08983894650037393,
          0.07243348688863345,
          0.06734991324450686,
          0.05971252691038228,
          0.06206729782605476,
          0.05581974419577931,
          0.052206171711532245,
          0.06032905823299741,
          0.04929108938834838,
          0.04940450488748785,
          0.03916303841581646,
          0.040521342474797994,
          0.03830455822988175,
          0.04100716080784755,
          0.0423523824392552,
          0.03733330980234909,
          0.048556131881369036,
          0.04201066591222852,
          0.042278758534152146,
          0.03841284571843293,
          0.039922271551103575,
          0.04297194794516224,
          0.04261452761191185,
          0.0366718972771056,
          0.03647894877671114,
          0.036724937361716926,
          0.047858718884385205,
          0.048472185981084416,
          0.05463839756995116,
          0.04987885280023314,
          0.04783952031313977,
          0.05155689874900293,
          0.05298974294898399,
          0.04691590166655026,
          0.04684472607374047,
          0.05033179052010754,
          0.050968631703900154,
          0.06517457677274073,
          0.07031821989187462,
          0.06397122672086708,
          0.06063678572927782,
          0.05929026227581903,
          0.05360544040198782,
          0.05796798262590881,
          0.05503993546813736,
          0.057263622056306286,
          0.05426222916780231,
          0.050420131449255036,
          0.05915287228179139,
          0.05284584599044409,
          0.046506813062409835,
          0.03920608243507565,
          0.040155124643273254,
          0.04432528634326689,
          0.04242788567780313,
          0.044928987012629734,
          0.041026851634830115,
          0.03700458003144389,
          0.03719782758582351,
          0.03191107197200994,
          0.03337289313643202,
          0.030531191246765385,
          0.03428263690669826,
          0.037213533684000794,
          0.03986378263629523,
          0.04228594741622036,
          0.038086596519386146,
          0.0354569982747934,
          0.03612415674547693,
          0.03843913822532704,
          0.03594099872063755,
          0.03583495402206258,
          0.03185437179189579,
          0.03192514873332509,
          0.03251403549216874,
          0.030032484960693752,
          0.028777202811964653,
          0.028221039973284515,
          0.031036299842512743,
          0.02928486551906887,
          0.03873645807394815,
          0.03294352260552951,
          0.028306491785403683,
          0.029847627361768103,
          0.030498332845499413,
          0.03971732992167146,
          0.037774286434241314,
          0.040185953040269826,
          0.03602389642372058,
          0.03528371846158921,
          0.03596545195374562,
          0.03794765507256477,
          0.04504815676821626,
          0.045561936705654664,
          0.048621985743040955,
          0.04019391941152706,
          0.034036682402622455,
          0.03526749845571018,
          0.03621576057811859,
          0.037996703255276196,
          0.045135707656518,
          0.0454292677425212,
          0.042601477860368706,
          0.043660661273676654,
          0.03883440135467009,
          0.03924366070710046,
          0.03961377097511904,
          0.034463568322231394,
          0.03969215949241968,
          0.041434794056606,
          0.03563218533344129,
          0.03463699767034808,
          0.03383300089889867,
          0.039844781128182405,
          0.05046567962446295,
          0.045897136899779006,
          0.04289287943463524,
          0.0398193278222645,
          0.0487331362301425,
          0.0481660784012844,
          0.054123974854949526,
          0.046657203141988034,
          0.04886238267394005,
          0.053682156044785136,
          0.04823594544957642,
          0.05122179317862872,
          0.05081423128951316,
          0.056386423012952575,
          0.047531501616214264,
          0.06048659587554762,
          0.05322133731203325,
          0.051653693273467895,
          0.05718011206955798,
          0.05090015530280631,
          0.04895406297659963,
          0.060711421466141176,
          0.06338912395842043,
          0.05430856006888399,
          0.057408969852526304,
          0.05099141668978148,
          0.049146560252724215,
          0.0510235765614311,
          0.05952954281307255,
          0.06420054126294662,
          0.05568752819059556,
          0.05353243745635284,
          0.04530660117531002,
          0.043263369507544,
          0.049964963880796937,
          0.04691281438226667,
          0.04944047780030188,
          0.051725978733901126,
          0.05215769853687445,
          0.04733652047586357,
          0.0454295324939317,
          0.05684622571710705,
          0.04353351771404777,
          0.038197092300058556,
          0.037982161171826616,
          0.033745533268350766,
          0.03183547402762937,
          0.027378994360462067,
          0.029888456687862282,
          0.03226801415968219,
          0.03115433636751749,
          0.02723962319193539,
          0.03522601990093747,
          0.027159637860457053,
          0.028940243234701315,
          0.03310585080037599,
          0.03338891258465723,
          0.03299310070834059,
          0.030511692628734346,
          0.03386956219755315,
          0.03646219015372788,
          0.034221345791881866,
          0.03674295020169763,
          0.04212415024503607,
          0.04028231158388207,
          0.04297078571277322,
          0.04827125853069958,
          0.05475686287262596,
          0.04740323818466462,
          0.049542165725190726,
          0.04423725082203989,
          0.04356401470818052,
          0.03621379863739315,
          0.03541563931620832,
          0.03244735539208377,
          0.02987591044286069,
          0.03507016616904676,
          0.03461485334240756,
          0.036010351398978076,
          0.03498608785797751,
          0.034848322925096244,
          0.03205788412360398,
          0.0353062792225037,
          0.036876846810487314,
          0.04018834586844464,
          0.036147334365593094,
          0.03476889142535532,
          0.03953033829321423,
          0.036438031815645186,
          0.038663122104501624,
          0.03858194227191281,
          0.031061797859863415,
          0.04947504896162775,
          0.04935291067493577,
          0.038065364665593876,
          0.03960113167721907,
          0.04366185934047526,
          0.042675112541554094,
          0.042163122584828225,
          0.041429565806491556,
          0.043709514251897084,
          0.04748791348713937,
          0.04210582525608655,
          0.043886177098744705,
          0.03848580202057293,
          0.042302227891649134,
          0.04470881001437744,
          0.03778650466169976,
          0.036668471956423886,
          0.03852715078543314,
          0.04064969135065845,
          0.04607179406945623,
          0.04318134364018197,
          0.04040283714502079,
          0.041508697625204094,
          0.04213210145333744,
          0.04369714134480712,
          0.044405892573658956,
          0.04824559961547047,
          0.048145797269463886,
          0.05302588096882913,
          0.049418724187390586,
          0.05000063576887174,
          0.06383206585518714,
          0.05576064840920258,
          0.056772708159533,
          0.05560610702957287,
          0.06146796260126281,
          0.059923986776232285,
          0.0644052003192316,
          0.05579961929239255,
          0.0532762512822172,
          0.059987279361029384,
          0.0631679029472834,
          0.06055256945800805,
          0.06355781585378649,
          0.04943668634427051,
          0.044267633510417397,
          0.046011007209399005,
          0.05232999837990993,
          0.04705940637010893,
          0.044604437019761606,
          0.04574077869342675,
          0.04233062141542958,
          0.03846000164541392,
          0.04331781775366451,
          0.044834293427169464,
          0.04534013359337922,
          0.04126441869228879,
          0.0417495659892645,
          0.038177347282035146,
          0.03340199245945838,
          0.032882038947894,
          0.03865297695784753,
          0.04121183024822051,
          0.03987527830286262,
          0.03497622042835499,
          0.03441243315798337,
          0.034911577472489505,
          0.0358912772637827,
          0.03604642721589354,
          0.03841047765583463,
          0.035880756337420945,
          0.03837660835906163,
          0.035295081962863156,
          0.03246534217507835,
          0.03367574826314036,
          0.03592424085929733,
          0.03767341064680128,
          0.03661638591609147,
          0.03576200768101506,
          0.03450304206754003,
          0.03606332531597726,
          0.036072402223816746,
          0.041717492667764235,
          0.03281865236528487,
          0.03712043008152822,
          0.03867681554330224,
          0.03401555219292951,
          0.03531108344181748,
          0.03518820836350528,
          0.03720534807254152,
          0.03626652886055569,
          0.04878915580716734,
          0.06604862299412888,
          0.045992321853849605,
          0.04002989696332352,
          0.03797409815797291,
          0.042487836782875495,
          0.04432274988570022,
          0.04177890494747922,
          0.038682657726054455,
          0.035866882207688945,
          0.03525712712746517,
          0.03711217076258399,
          0.03612972862634852,
          0.03949965456189901,
          0.040764005211685946,
          0.037436006912830576,
          0.03907355101392705,
          0.0401454010081739,
          0.03960363832840122,
          0.0393307781232178,
          0.04177907604713476,
          0.04085077425127168,
          0.038729221513866235,
          0.03635963885565665,
          0.03247838789112427,
          0.039290963393730574,
          0.037865972610308656,
          0.03629804747152478,
          0.03793927068578716,
          0.038108998038002426,
          0.037435753369387495,
          0.03368410036709983,
          0.032135156657190155,
          0.03378824299705392,
          0.036225082623940925,
          0.03567080390563322,
          0.03516487139019289,
          0.03171566193575293,
          0.03906000329760165,
          0.03579968008678522,
          0.03077294776946049,
          0.03210508554729754,
          0.0307207517628709,
          0.03186528116990787,
          0.030454908068388496,
          0.028946035188622498,
          0.029128768710416607,
          0.03390643657074492,
          0.03194179348430268,
          0.030140000732691352,
          0.025930719245322524,
          0.025268283915697833,
          0.023796670330464856,
          0.026331175224275388,
          0.026966086161666458,
          0.025934130379882906,
          0.026881492828220478,
          0.024034797271804974,
          0.023806611148058557,
          0.02249200057329129,
          0.026598621477781283,
          0.03222065055403242,
          0.0329602588826184,
          0.030107899909211817,
          0.02986957543625886,
          0.03257309657050234,
          0.03203310936865149,
          0.038087887135257854,
          0.0390969696742741,
          0.03831260854030922,
          0.03898058828420609,
          0.03865264176128553,
          0.039636414624675764,
          0.035407948784026755,
          0.038128449381600815,
          0.034894938064433986,
          0.03530099151798241,
          0.03645968412831297,
          0.035654966670085976,
          0.032265228885843406,
          0.033609323044866496,
          0.03583138270012584,
          0.035134835304649954,
          0.03238036098830398,
          0.03188593242002898,
          0.029599094243777636,
          0.03356943419144506,
          0.036337891950109835,
          0.03501965508392639,
          0.03385077734406061,
          0.03188754681414976,
          0.0342469853480475,
          0.029431262409352055,
          0.029885352206666608,
          0.0315942489667395,
          0.03163753251867787,
          0.029869520174676662,
          0.03191977683860213,
          0.033923111417044,
          0.03449731061909951,
          0.027027249610604674,
          0.0253764666028442,
          0.028531537006349656,
          0.030682181025648965,
          0.03878135703208898,
          0.03475937488916245,
          0.0325805098926505,
          0.028278819640938604,
          0.026120402769742885,
          0.02859297207389279,
          0.027375194658219224,
          0.028810831942133026,
          0.026832568117326226,
          0.02839772841305401,
          0.02540754452722749,
          0.023407753001634016,
          0.0273518204820044,
          0.029731801683622376,
          0.026301972024614206,
          0.02531752449270025,
          0.022501588421748098,
          0.0197038161603028,
          0.021548877557240036,
          0.025023351993831006,
          0.022224068638723334,
          0.02472372650101555,
          0.021054382845511123,
          0.027346142524568604,
          0.026394173716848317,
          0.021065004981695095,
          null
         ],
         "type": "scatter"
        },
        {
         "hovertemplate": " %{y}<br>Made a Deposit: %{hovertext}<br>",
         "hovertext": [
          1049.0,
          1474.0,
          1619.0,
          1362.0,
          1354.0,
          1318.0,
          1359.0,
          1249.0,
          1218.0,
          1295.0,
          954.0,
          939.0,
          826.0,
          931.0,
          818.0,
          898.0,
          942.0,
          801.0,
          1092.0,
          899.0,
          755.0,
          752.0,
          793.0,
          848.0,
          825.0,
          679.0,
          662.0,
          669.0,
          746.0,
          888.0,
          972.0,
          901.0,
          1017.0,
          1196.0,
          1189.0,
          1055.0,
          1071.0,
          1137.0,
          1344.0,
          1658.0,
          1626.0,
          1672.0,
          1633.0,
          1625.0,
          1430.0,
          1641.0,
          1584.0,
          1684.0,
          1604.0,
          1577.0,
          1788.0,
          1729.0,
          1439.0,
          1073.0,
          1079.0,
          1243.0,
          1095.0,
          1173.0,
          1004.0,
          1041.0,
          1069.0,
          941.0,
          968.0,
          881.0,
          997.0,
          1122.0,
          1187.0,
          1263.0,
          1235.0,
          1111.0,
          1135.0,
          1322.0,
          1181.0,
          1137.0,
          1011.0,
          1057.0,
          1003.0,
          913.0,
          977.0,
          949.0,
          958.0,
          985.0,
          1225.0,
          987.0,
          916.0,
          979.0,
          919.0,
          1127.0,
          1095.0,
          1099.0,
          1078.0,
          1091.0,
          1088.0,
          1206.0,
          1560.0,
          1478.0,
          1377.0,
          1223.0,
          1048.0,
          1158.0,
          1181.0,
          1163.0,
          1546.0,
          1350.0,
          1251.0,
          1205.0,
          1162.0,
          1139.0,
          1022.0,
          869.0,
          1033.0,
          996.0,
          856.0,
          864.0,
          866.0,
          1149.0,
          1656.0,
          1398.0,
          1324.0,
          1267.0,
          1525.0,
          1470.0,
          1668.0,
          1226.0,
          1409.0,
          1531.0,
          1369.0,
          1448.0,
          1434.0,
          1507.0,
          1327.0,
          1502.0,
          1313.0,
          1316.0,
          1370.0,
          1192.0,
          1127.0,
          1289.0,
          1137.0,
          1089.0,
          1169.0,
          1066.0,
          904.0,
          1100.0,
          1258.0,
          1372.0,
          1209.0,
          1090.0,
          923.0,
          931.0,
          1120.0,
          1055.0,
          1141.0,
          1218.0,
          1167.0,
          1004.0,
          1013.0,
          1185.0,
          873.0,
          880.0,
          834.0,
          773.0,
          714.0,
          623.0,
          666.0,
          708.0,
          633.0,
          558.0,
          802.0,
          590.0,
          597.0,
          603.0,
          630.0,
          648.0,
          603.0,
          630.0,
          683.0,
          658.0,
          707.0,
          903.0,
          853.0,
          917.0,
          891.0,
          1267.0,
          1068.0,
          1060.0,
          971.0,
          988.0,
          743.0,
          739.0,
          681.0,
          645.0,
          732.0,
          722.0,
          694.0,
          654.0,
          650.0,
          631.0,
          722.0,
          719.0,
          737.0,
          671.0,
          685.0,
          727.0,
          738.0,
          819.0,
          871.0,
          707.0,
          1215.0,
          1276.0,
          1000.0,
          1021.0,
          1100.0,
          1061.0,
          981.0,
          1010.0,
          1072.0,
          1284.0,
          1161.0,
          1121.0,
          1077.0,
          1136.0,
          1214.0,
          959.0,
          967.0,
          1032.0,
          1031.0,
          1187.0,
          1064.0,
          971.0,
          1069.0,
          1172.0,
          1206.0,
          1211.0,
          1289.0,
          1203.0,
          1288.0,
          1078.0,
          1332.0,
          1930.0,
          1594.0,
          1605.0,
          1515.0,
          1638.0,
          1611.0,
          1779.0,
          1469.0,
          1386.0,
          1596.0,
          1491.0,
          1352.0,
          1460.0,
          1197.0,
          1101.0,
          1119.0,
          1180.0,
          1111.0,
          1053.0,
          1103.0,
          1049.0,
          1007.0,
          989.0,
          954.0,
          877.0,
          848.0,
          979.0,
          786.0,
          749.0,
          753.0,
          828.0,
          854.0,
          857.0,
          803.0,
          900.0,
          921.0,
          933.0,
          945.0,
          991.0,
          1009.0,
          939.0,
          947.0,
          917.0,
          956.0,
          1033.0,
          1019.0,
          968.0,
          958.0,
          1150.0,
          1144.0,
          1148.0,
          1247.0,
          1044.0,
          1251.0,
          1213.0,
          960.0,
          1057.0,
          1041.0,
          1135.0,
          1140.0,
          1401.0,
          2172.0,
          1407.0,
          1193.0,
          1159.0,
          1263.0,
          1327.0,
          1254.0,
          1146.0,
          1107.0,
          1054.0,
          1166.0,
          1220.0,
          1320.0,
          1262.0,
          1127.0,
          1164.0,
          1261.0,
          1259.0,
          1213.0,
          1219.0,
          1182.0,
          1032.0,
          1005.0,
          919.0,
          1054.0,
          974.0,
          962.0,
          1003.0,
          1054.0,
          915.0,
          855.0,
          855.0,
          906.0,
          965.0,
          966.0,
          918.0,
          827.0,
          856.0,
          826.0,
          692.0,
          761.0,
          688.0,
          692.0,
          650.0,
          700.0,
          662.0,
          682.0,
          679.0,
          664.0,
          527.0,
          544.0,
          551.0,
          580.0,
          594.0,
          619.0,
          644.0,
          595.0,
          626.0,
          590.0,
          682.0,
          804.0,
          750.0,
          708.0,
          675.0,
          697.0,
          728.0,
          827.0,
          892.0,
          808.0,
          802.0,
          827.0,
          812.0,
          692.0,
          775.0,
          679.0,
          706.0,
          716.0,
          692.0,
          668.0,
          679.0,
          709.0,
          673.0,
          628.0,
          597.0,
          535.0,
          556.0,
          587.0,
          581.0,
          581.0,
          534.0,
          610.0,
          489.0,
          515.0,
          558.0,
          574.0,
          549.0,
          564.0,
          621.0,
          637.0,
          556.0,
          518.0,
          587.0,
          555.0,
          684.0,
          683.0,
          647.0,
          530.0,
          514.0,
          581.0,
          556.0,
          601.0,
          533.0,
          485.0,
          452.0,
          424.0,
          488.0,
          476.0,
          425.0,
          387.0,
          332.0,
          323.0,
          352.0,
          370.0,
          352.0,
          365.0,
          302.0,
          282.0,
          207.0,
          226.0,
          161.0
         ],
         "name": "Normalized Deposited",
         "visible": "legendonly",
         "x": [
          "2021-01-01",
          "2021-01-02",
          "2021-01-03",
          "2021-01-04",
          "2021-01-05",
          "2021-01-06",
          "2021-01-07",
          "2021-01-08",
          "2021-01-09",
          "2021-01-10",
          "2021-01-11",
          "2021-01-12",
          "2021-01-13",
          "2021-01-14",
          "2021-01-15",
          "2021-01-16",
          "2021-01-17",
          "2021-01-18",
          "2021-01-19",
          "2021-01-20",
          "2021-01-21",
          "2021-01-22",
          "2021-01-23",
          "2021-01-24",
          "2021-01-25",
          "2021-01-26",
          "2021-01-27",
          "2021-01-28",
          "2021-01-29",
          "2021-01-30",
          "2021-01-31",
          "2021-02-01",
          "2021-02-02",
          "2021-02-03",
          "2021-02-04",
          "2021-02-05",
          "2021-02-06",
          "2021-02-07",
          "2021-02-08",
          "2021-02-09",
          "2021-02-10",
          "2021-02-11",
          "2021-02-12",
          "2021-02-13",
          "2021-02-14",
          "2021-02-15",
          "2021-02-16",
          "2021-02-17",
          "2021-02-18",
          "2021-02-19",
          "2021-02-20",
          "2021-02-21",
          "2021-02-22",
          "2021-02-23",
          "2021-02-24",
          "2021-02-25",
          "2021-02-26",
          "2021-02-27",
          "2021-02-28",
          "2021-03-01",
          "2021-03-02",
          "2021-03-03",
          "2021-03-04",
          "2021-03-05",
          "2021-03-06",
          "2021-03-07",
          "2021-03-08",
          "2021-03-09",
          "2021-03-10",
          "2021-03-11",
          "2021-03-12",
          "2021-03-13",
          "2021-03-14",
          "2021-03-15",
          "2021-03-16",
          "2021-03-17",
          "2021-03-18",
          "2021-03-19",
          "2021-03-20",
          "2021-03-21",
          "2021-03-22",
          "2021-03-23",
          "2021-03-24",
          "2021-03-25",
          "2021-03-26",
          "2021-03-27",
          "2021-03-28",
          "2021-03-29",
          "2021-03-30",
          "2021-03-31",
          "2021-04-01",
          "2021-04-02",
          "2021-04-03",
          "2021-04-04",
          "2021-04-05",
          "2021-04-06",
          "2021-04-07",
          "2021-04-08",
          "2021-04-09",
          "2021-04-10",
          "2021-04-11",
          "2021-04-12",
          "2021-04-13",
          "2021-04-14",
          "2021-04-15",
          "2021-04-16",
          "2021-04-17",
          "2021-04-18",
          "2021-04-19",
          "2021-04-20",
          "2021-04-21",
          "2021-04-22",
          "2021-04-23",
          "2021-04-24",
          "2021-04-25",
          "2021-04-26",
          "2021-04-27",
          "2021-04-28",
          "2021-04-29",
          "2021-04-30",
          "2021-05-01",
          "2021-05-02",
          "2021-05-03",
          "2021-05-04",
          "2021-05-05",
          "2021-05-06",
          "2021-05-07",
          "2021-05-08",
          "2021-05-09",
          "2021-05-10",
          "2021-05-11",
          "2021-05-12",
          "2021-05-13",
          "2021-05-14",
          "2021-05-15",
          "2021-05-16",
          "2021-05-17",
          "2021-05-18",
          "2021-05-19",
          "2021-05-20",
          "2021-05-21",
          "2021-05-22",
          "2021-05-23",
          "2021-05-24",
          "2021-05-25",
          "2021-05-26",
          "2021-05-27",
          "2021-05-28",
          "2021-05-29",
          "2021-05-30",
          "2021-05-31",
          "2021-06-01",
          "2021-06-02",
          "2021-06-03",
          "2021-06-04",
          "2021-06-05",
          "2021-06-06",
          "2021-06-07",
          "2021-06-08",
          "2021-06-09",
          "2021-06-10",
          "2021-06-11",
          "2021-06-12",
          "2021-06-13",
          "2021-06-14",
          "2021-06-15",
          "2021-06-16",
          "2021-06-17",
          "2021-06-18",
          "2021-06-19",
          "2021-06-20",
          "2021-06-21",
          "2021-06-22",
          "2021-06-23",
          "2021-06-24",
          "2021-06-25",
          "2021-06-26",
          "2021-06-27",
          "2021-06-28",
          "2021-06-29",
          "2021-06-30",
          "2021-07-01",
          "2021-07-02",
          "2021-07-03",
          "2021-07-04",
          "2021-07-05",
          "2021-07-06",
          "2021-07-07",
          "2021-07-08",
          "2021-07-09",
          "2021-07-10",
          "2021-07-11",
          "2021-07-12",
          "2021-07-13",
          "2021-07-14",
          "2021-07-15",
          "2021-07-16",
          "2021-07-17",
          "2021-07-18",
          "2021-07-19",
          "2021-07-20",
          "2021-07-21",
          "2021-07-22",
          "2021-07-23",
          "2021-07-24",
          "2021-07-25",
          "2021-07-26",
          "2021-07-27",
          "2021-07-28",
          "2021-07-29",
          "2021-07-30",
          "2021-07-31",
          "2021-08-01",
          "2021-08-02",
          "2021-08-03",
          "2021-08-04",
          "2021-08-05",
          "2021-08-06",
          "2021-08-07",
          "2021-08-08",
          "2021-08-09",
          "2021-08-10",
          "2021-08-11",
          "2021-08-12",
          "2021-08-13",
          "2021-08-14",
          "2021-08-15",
          "2021-08-16",
          "2021-08-17",
          "2021-08-18",
          "2021-08-19",
          "2021-08-20",
          "2021-08-21",
          "2021-08-22",
          "2021-08-23",
          "2021-08-24",
          "2021-08-25",
          "2021-08-26",
          "2021-08-27",
          "2021-08-28",
          "2021-08-29",
          "2021-08-30",
          "2021-08-31",
          "2021-09-01",
          "2021-09-02",
          "2021-09-03",
          "2021-09-04",
          "2021-09-05",
          "2021-09-06",
          "2021-09-07",
          "2021-09-08",
          "2021-09-09",
          "2021-09-10",
          "2021-09-11",
          "2021-09-12",
          "2021-09-13",
          "2021-09-14",
          "2021-09-15",
          "2021-09-16",
          "2021-09-17",
          "2021-09-18",
          "2021-09-19",
          "2021-09-20",
          "2021-09-21",
          "2021-09-22",
          "2021-09-23",
          "2021-09-24",
          "2021-09-25",
          "2021-09-26",
          "2021-09-27",
          "2021-09-28",
          "2021-09-29",
          "2021-09-30",
          "2021-10-01",
          "2021-10-02",
          "2021-10-03",
          "2021-10-04",
          "2021-10-05",
          "2021-10-06",
          "2021-10-07",
          "2021-10-08",
          "2021-10-09",
          "2021-10-10",
          "2021-10-11",
          "2021-10-12",
          "2021-10-13",
          "2021-10-14",
          "2021-10-15",
          "2021-10-16",
          "2021-10-17",
          "2021-10-18",
          "2021-10-19",
          "2021-10-20",
          "2021-10-21",
          "2021-10-22",
          "2021-10-23",
          "2021-10-24",
          "2021-10-25",
          "2021-10-26",
          "2021-10-27",
          "2021-10-28",
          "2021-10-29",
          "2021-10-30",
          "2021-10-31",
          "2021-11-01",
          "2021-11-02",
          "2021-11-03",
          "2021-11-04",
          "2021-11-05",
          "2021-11-06",
          "2021-11-07",
          "2021-11-08",
          "2021-11-09",
          "2021-11-10",
          "2021-11-11",
          "2021-11-12",
          "2021-11-13",
          "2021-11-14",
          "2021-11-15",
          "2021-11-16",
          "2021-11-17",
          "2021-11-18",
          "2021-11-19",
          "2021-11-20",
          "2021-11-21",
          "2021-11-22",
          "2021-11-23",
          "2021-11-24",
          "2021-11-25",
          "2021-11-26",
          "2021-11-27",
          "2021-11-28",
          "2021-11-29",
          "2021-11-30",
          "2021-12-01",
          "2021-12-02",
          "2021-12-03",
          "2021-12-04",
          "2021-12-05",
          "2021-12-06",
          "2021-12-07",
          "2021-12-08",
          "2021-12-09",
          "2021-12-10",
          "2021-12-11",
          "2021-12-12",
          "2021-12-13",
          "2021-12-14",
          "2021-12-15",
          "2021-12-16",
          "2021-12-17",
          "2021-12-18",
          "2021-12-19",
          "2021-12-20",
          "2021-12-21",
          "2021-12-22",
          "2021-12-23",
          "2021-12-24",
          "2021-12-25",
          "2021-12-26",
          "2021-12-27",
          "2021-12-28",
          "2021-12-29",
          "2021-12-30",
          "2021-12-31",
          "2022-01-01",
          "2022-01-02",
          "2022-01-03",
          "2022-01-04",
          "2022-01-05",
          "2022-01-06",
          "2022-01-07",
          "2022-01-08",
          "2022-01-09",
          "2022-01-10",
          "2022-01-11",
          "2022-01-12",
          "2022-01-13",
          "2022-01-14",
          "2022-01-15",
          "2022-01-16",
          "2022-01-17",
          "2022-01-18",
          "2022-01-19",
          "2022-01-20",
          "2022-01-21",
          "2022-01-22",
          "2022-01-23",
          "2022-01-24",
          "2022-01-25",
          "2022-01-26",
          "2022-01-27",
          "2022-01-28",
          "2022-01-29",
          "2022-01-30",
          "2022-01-31",
          "2022-02-01",
          "2022-02-02",
          "2022-02-03",
          "2022-02-04",
          "2022-02-05",
          "2022-02-06",
          "2022-02-07",
          "2022-02-08",
          "2022-02-09",
          "2022-02-10",
          "2022-02-11",
          "2022-02-12",
          "2022-02-13",
          "2022-02-14",
          "2022-02-15",
          "2022-02-16",
          "2022-02-17",
          "2022-02-18",
          "2022-02-19",
          "2022-02-20",
          "2022-02-21",
          "2022-02-22",
          "2022-02-23",
          "2022-02-24",
          "2022-02-25",
          "2022-02-26",
          "2022-02-27",
          "2022-02-28",
          "2022-03-01",
          "2022-03-02",
          "2022-03-03",
          "2022-03-04",
          "2022-03-05",
          "2022-03-06"
         ],
         "y": [
          0.03574754335443248,
          0.04595898007810393,
          0.04898930764031842,
          0.04245026210943148,
          0.039700384211172085,
          0.035708307834793035,
          0.03440026824861681,
          0.03060529433736978,
          0.030150363748054184,
          0.03363156711654397,
          0.026794130641871427,
          0.02761358933889946,
          0.02212631308581696,
          0.023786487921839176,
          0.022285297746830208,
          0.02479759623262431,
          0.026281913213292755,
          0.021827723468380748,
          0.03017831304180705,
          0.025245714341639997,
          0.02440402346581412,
          0.02283514622945578,
          0.024752432634890645,
          0.02629163914682365,
          0.025494550601760167,
          0.02085445414669573,
          0.021814872710192206,
          0.020171578895721364,
          0.02183645522186628,
          0.02596097777515257,
          0.029406712313395644,
          0.02697529794298323,
          0.028720656528018383,
          0.03203223423574416,
          0.03226052450913567,
          0.02780689677427558,
          0.027355889653749205,
          0.02930222520295047,
          0.029186979552638177,
          0.03573394454008073,
          0.03626305916403049,
          0.03505732254254007,
          0.0344416942942298,
          0.034619718360835765,
          0.029403828068600913,
          0.03423010417024698,
          0.03219470375979674,
          0.03232716712799859,
          0.031051236384286442,
          0.028225966381070357,
          0.03187623135619138,
          0.03007586165815597,
          0.026535806501509815,
          0.022094604229430763,
          0.02171798470681295,
          0.02627388217676717,
          0.023947698359378572,
          0.025349543898900758,
          0.022277425117019706,
          0.02096993348542901,
          0.022115949771549126,
          0.018593386207839846,
          0.019929031805099442,
          0.018004002334939963,
          0.020405844176703384,
          0.021883430185245748,
          0.02276012986497472,
          0.023089992039207228,
          0.02203135676882524,
          0.019244125590276242,
          0.01978808779252718,
          0.021587315519916033,
          0.019844001631170147,
          0.02037217136154258,
          0.017891538823114804,
          0.017997270512599795,
          0.017365057294273293,
          0.015677334916588563,
          0.01675526051685904,
          0.01653195489793025,
          0.01757256220397589,
          0.017994755169234457,
          0.023203990777792897,
          0.01914915006575832,
          0.016674435032430723,
          0.01749750130968322,
          0.016487039932361152,
          0.019529420079286097,
          0.018623522577890246,
          0.018697867227458316,
          0.01833510875579357,
          0.018480334537491035,
          0.01903230142299379,
          0.020736235621890853,
          0.025760676157777624,
          0.024694001632181002,
          0.024533702590021033,
          0.021061338234917563,
          0.01800628125085731,
          0.019355338015029568,
          0.0196647417208083,
          0.01939015615879167,
          0.024305051911172697,
          0.021473918575771574,
          0.01971677721173557,
          0.01911740437310333,
          0.018786667099969463,
          0.020125407269422524,
          0.017929705020625183,
          0.015358379934368758,
          0.019106244527339018,
          0.019168162972772677,
          0.016740477851496016,
          0.01718918207190163,
          0.017650228179786898,
          0.021254249543306212,
          0.0300832129078872,
          0.02544179119186798,
          0.024659215098331334,
          0.021906681871823326,
          0.026325906040016757,
          0.025926083943569416,
          0.02907529470468786,
          0.02279861739819742,
          0.024448543035362758,
          0.026955520139247634,
          0.023804978125620085,
          0.024608213842951022,
          0.024501549317135798,
          0.026907643914034052,
          0.023300444272152318,
          0.029278397359030782,
          0.026389583040294432,
          0.026235530817400134,
          0.029219229218684983,
          0.025676252696125737,
          0.025865555074837215,
          0.029891910721870123,
          0.030487916218580383,
          0.026846128876538658,
          0.03140434523051158,
          0.028296121911143706,
          0.02586058816557782,
          0.028389445734736573,
          0.032888961290665465,
          0.03489823399871742,
          0.031329093337566324,
          0.030502016114701824,
          0.026669638319394864,
          0.026103821783229727,
          0.029973625895282578,
          0.028758291210512106,
          0.03021509650248765,
          0.0310661943283489,
          0.031521509162367935,
          0.02827237748826117,
          0.028285259014353296,
          0.03525001437716999,
          0.026066365544831074,
          0.02350590295388219,
          0.02261036575110878,
          0.0207190605372797,
          0.020044557721099972,
          0.01597108004360287,
          0.01645100178026139,
          0.017587185546616618,
          0.01653033941377919,
          0.01464326564653174,
          0.022475153508792242,
          0.016553911505857086,
          0.016725387426056813,
          0.01901221717393021,
          0.01938711053302678,
          0.01920892116712013,
          0.01740638661790616,
          0.01981227872280268,
          0.021376545815447335,
          0.019002232515660984,
          0.02050297221199702,
          0.025140851071558206,
          0.02428325920922361,
          0.027269349826029788,
          0.02630562162131702,
          0.03653340982602269,
          0.03020683674297244,
          0.031277364900954244,
          0.028446603012053467,
          0.029081923332217804,
          0.022610800325700096,
          0.021791971236201458,
          0.020253573805691157,
          0.018818322495747213,
          0.02203550354999333,
          0.022136336681327067,
          0.021125261091201,
          0.020632012136264463,
          0.020648504923712452,
          0.01996892880749666,
          0.022658785421020153,
          0.023258291979596824,
          0.024702928194365058,
          0.02081962348438881,
          0.02115159025432362,
          0.021673119109477182,
          0.021530238174496515,
          0.023231912695221443,
          0.023336716471413933,
          0.018044939266165516,
          0.030359689135544304,
          0.031885728618338244,
          0.023835544562050014,
          0.0244454385988154,
          0.027460288893380667,
          0.02704796559533387,
          0.025627028039477376,
          0.025375295005795315,
          0.026206151721495343,
          0.029992366412930127,
          0.026030278552884173,
          0.025569856823125164,
          0.023272997628386888,
          0.02492496415192605,
          0.026580066286706273,
          0.021556964884336748,
          0.02025037828775665,
          0.02191842315907773,
          0.021907909975184974,
          0.02584462172043693,
          0.023830368066988388,
          0.021603058847915853,
          0.022919833554412797,
          0.023819982104829465,
          0.02461408335443129,
          0.02457748441805347,
          0.026031217205668245,
          0.025171401179993506,
          0.026288427516494198,
          0.02282492916624124,
          0.02713970939043894,
          0.0394605660155385,
          0.032557682624274324,
          0.03402546549516448,
          0.03201948010254766,
          0.03359510268297247,
          0.03263608610429689,
          0.03558287309562516,
          0.029379799548575145,
          0.026812231037455714,
          0.03031656043704968,
          0.031722244289120766,
          0.02931151947985209,
          0.03143442112009766,
          0.02665572682616748,
          0.024393725973458236,
          0.02425168020128002,
          0.026164999189954966,
          0.023604063420853735,
          0.021866141611642912,
          0.02304800315159877,
          0.022202410932392815,
          0.020878286607510413,
          0.02092883329671431,
          0.022196116206289397,
          0.02159874913709591,
          0.019440126139478275,
          0.021822116979973275,
          0.01836437880274151,
          0.0175074124227672,
          0.017412218936543027,
          0.019526946260584353,
          0.02077621194331778,
          0.02061104554014069,
          0.01830893416164867,
          0.01870240932499096,
          0.019299857654359445,
          0.019345211835418406,
          0.019158534150179637,
          0.019205238827917314,
          0.018201952309933503,
          0.0174422242251495,
          0.017554854316613133,
          0.016631686466227286,
          0.01747774991290021,
          0.017988240818058235,
          0.018142346620553168,
          0.016854332651819563,
          0.016679651099519195,
          0.018698632600221976,
          0.018778536259207095,
          0.018636866675491283,
          0.020116671831671307,
          0.016230541482405214,
          0.0189232510317815,
          0.019442593142986166,
          0.015798224530823576,
          0.017215781917897174,
          0.017061446160414065,
          0.018046183787322492,
          0.01798340274077142,
          0.02389150901287712,
          0.03581068625642734,
          0.02258680518267588,
          0.01930301822039004,
          0.018873061648838167,
          0.020655172385208524,
          0.020990824089337685,
          0.0198901848155425,
          0.018649695310920658,
          0.018105170362020823,
          0.01713278561196325,
          0.01846896760954884,
          0.018050069174506633,
          0.019675299630832716,
          0.019427558375055762,
          0.017362296210189324,
          0.018112948379215885,
          0.019523081631819244,
          0.019288580524354792,
          0.01899969488787861,
          0.02020979908787987,
          0.019556749763063236,
          0.018134553812300343,
          0.017301816785007067,
          0.015345829548556917,
          0.0178502911280138,
          0.017250447765407215,
          0.016667647574036677,
          0.017535985482877662,
          0.017987856664601235,
          0.016999361951855863,
          0.01566915441451053,
          0.01493236899016173,
          0.015650382492500434,
          0.016920234623476766,
          0.016882898859795048,
          0.016262645811686186,
          0.015365467147549897,
          0.017423326119201152,
          0.01675384461851818,
          0.01368565543474721,
          0.015035058523995956,
          0.013653667450164844,
          0.014440585834693022,
          0.013708926762086234,
          0.014209133683054523,
          0.013207701976914926,
          0.01456183233076073,
          0.014019701212567239,
          0.013595761200072729,
          0.011047282976786556,
          0.011738639154687978,
          0.01172805487664234,
          0.012386116488304726,
          0.012622423309716215,
          0.012630390798699856,
          0.01322511946629029,
          0.01170270407260553,
          0.012306307662002193,
          0.011630394687328537,
          0.013407435216442599,
          0.015824925501186356,
          0.01570533301268348,
          0.015204274704509248,
          0.014309413356617978,
          0.01502544560532107,
          0.015271842580470388,
          0.0174604671069059,
          0.0191723457666039,
          0.01756900550543124,
          0.01838966576701958,
          0.01915262716392039,
          0.019529592642740727,
          0.016510984203872314,
          0.018468467669212892,
          0.016228536264212792,
          0.016504966895162638,
          0.016285173946270794,
          0.01624307895701086,
          0.015483601218206463,
          0.0157059396747862,
          0.01642175199378747,
          0.015933789865248932,
          0.014799757424057421,
          0.014291217458526502,
          0.013098027643028151,
          0.015236412579953843,
          0.016742812068064734,
          0.016046072242713906,
          0.015809728003938275,
          0.014442705681726863,
          0.01654050757110766,
          0.01315529005317473,
          0.013608272667049783,
          0.014630365911568995,
          0.015108106211082443,
          0.014259449196432598,
          0.01453006790716029,
          0.016812651388654686,
          0.017181225069872078,
          0.013381256263131075,
          0.01247154620519288,
          0.013829902743787984,
          0.012623136003880783,
          0.015494420683381346,
          0.015386035676797118,
          0.014844781620102025,
          0.012489812008081217,
          0.012183200565923633,
          0.013740708664128793,
          0.013009066863222127,
          0.013454009321850776,
          0.012099626739877224,
          0.011945271708873544,
          0.011281149436450713,
          0.010558390715630663,
          0.012651837341439001,
          0.012830768450955803,
          0.011078630436532247,
          0.010357169110650103,
          0.008656462753210161,
          0.008222651963537216,
          0.009008556888537403,
          0.009797502897055527,
          0.008140345640822699,
          0.008218725111904076,
          0.006866548185037105,
          0.006630792942328758,
          0.0052839399994077385,
          0.0057288701875608805,
          null
         ],
         "type": "scatter"
        },
        {
         "hoveron": "points",
         "hovertemplate": "%{hovertext}<br>Date: %{x}",
         "hovertext": [
          "BTC Rate: From 6.39% to 6.2 up to 2 BTC and 4.5% for the rest",
          "BTC rate to 4.7% from 4.5% for more than 2 BTC",
          "Started Sending Welcome email again",
          "Elon Musk BTC pump +10K in 1 day",
          "BTC rate to 4% from 4.7% for more than 2 BTC",
          "BTC rate to 3.5% from 4% for more than 2 BTC",
          "Started sending Drip campagin to KYC not passed",
          "BTC crash",
          "CEL ATH",
          "MA v4.8.0@9",
          "UK Block",
          "CEL down more than 50% from ATH",
          "New York and Washington from 70% to 20% CR",
          "BTC rate to 6.2% up to 1 BTC from 2 BTC + ETH rate to 5.35% up to 100 ETH and 5.05% for the rest",
          "BTC bottom",
          "Started sending Drip campagins to KYC passed - No Deposit",
          "ToU / PP / Cookies Policy / $50+$50 / Appsflyer link",
          "Website announcing California Loans",
          "WS 1.0.7 ADA release",
          "Adding the webapp sign up flow to the website",
          "BTC ATH",
          "Kentucky Block",
          "adding ETH promotional rates",
          "ETH rate to 3.5% for more than 100 ETH from 5.05%",
          "CTR to signup page start down trend from 12% to 6%",
          "New stablecoins promotion and rate updates",
          "BTC rate to 6.2% up to 0.25 BTC  and 3.05% for the rest",
          "Update BTC rewards rates | Customer Care main page update",
          "Transition to Next.js",
          "BTC Crash"
         ],
         "marker": {
          "line": {
           "color": "rgba(50, 56, 68, 0.5)",
           "width": 2
          },
          "size": 100000,
          "symbol": "line-ns"
         },
         "mode": "markers",
         "name": "Event",
         "x": [
          "2021-01-01",
          "2021-01-15",
          "2021-02-06",
          "2021-02-09",
          "2021-03-06",
          "2021-04-03",
          "2021-04-20",
          "2021-05-12",
          "2021-05-18",
          "2021-05-20",
          "2021-05-31",
          "2021-06-21",
          "2021-06-28",
          "2021-07-03",
          "2021-07-20",
          "2021-08-01",
          "2021-08-04",
          "2021-08-12",
          "2021-08-27",
          "2021-09-02",
          "2021-09-08",
          "2021-09-13",
          "2021-09-20",
          "2021-10-02",
          "2021-10-31",
          "2021-11-12",
          "2021-11-13",
          "2021-11-18",
          "2021-12-02",
          "2021-12-03"
         ],
         "y": [
          0.05,
          0.05,
          0.05,
          0.05,
          0.05,
          0.05,
          0.05,
          0.05,
          0.05,
          0.05,
          0.05,
          0.05,
          0.05,
          0.05,
          0.05,
          0.05,
          0.05,
          0.05,
          0.05,
          0.05,
          0.05,
          0.05,
          0.05,
          0.05,
          0.05,
          0.05,
          0.05,
          0.05,
          0.05,
          0.05
         ],
         "type": "scatter"
        }
       ],
       "layout": {
        "template": {
         "data": {
          "bar": [
           {
            "error_x": {
             "color": "#2a3f5f"
            },
            "error_y": {
             "color": "#2a3f5f"
            },
            "marker": {
             "line": {
              "color": "#E5ECF6",
              "width": 0.5
             },
             "pattern": {
              "fillmode": "overlay",
              "size": 10,
              "solidity": 0.2
             }
            },
            "type": "bar"
           }
          ],
          "barpolar": [
           {
            "marker": {
             "line": {
              "color": "#E5ECF6",
              "width": 0.5
             },
             "pattern": {
              "fillmode": "overlay",
              "size": 10,
              "solidity": 0.2
             }
            },
            "type": "barpolar"
           }
          ],
          "carpet": [
           {
            "aaxis": {
             "endlinecolor": "#2a3f5f",
             "gridcolor": "white",
             "linecolor": "white",
             "minorgridcolor": "white",
             "startlinecolor": "#2a3f5f"
            },
            "baxis": {
             "endlinecolor": "#2a3f5f",
             "gridcolor": "white",
             "linecolor": "white",
             "minorgridcolor": "white",
             "startlinecolor": "#2a3f5f"
            },
            "type": "carpet"
           }
          ],
          "choropleth": [
           {
            "colorbar": {
             "outlinewidth": 0,
             "ticks": ""
            },
            "type": "choropleth"
           }
          ],
          "contour": [
           {
            "colorbar": {
             "outlinewidth": 0,
             "ticks": ""
            },
            "colorscale": [
             [
              0.0,
              "#0d0887"
             ],
             [
              0.1111111111111111,
              "#46039f"
             ],
             [
              0.2222222222222222,
              "#7201a8"
             ],
             [
              0.3333333333333333,
              "#9c179e"
             ],
             [
              0.4444444444444444,
              "#bd3786"
             ],
             [
              0.5555555555555556,
              "#d8576b"
             ],
             [
              0.6666666666666666,
              "#ed7953"
             ],
             [
              0.7777777777777778,
              "#fb9f3a"
             ],
             [
              0.8888888888888888,
              "#fdca26"
             ],
             [
              1.0,
              "#f0f921"
             ]
            ],
            "type": "contour"
           }
          ],
          "contourcarpet": [
           {
            "colorbar": {
             "outlinewidth": 0,
             "ticks": ""
            },
            "type": "contourcarpet"
           }
          ],
          "heatmap": [
           {
            "colorbar": {
             "outlinewidth": 0,
             "ticks": ""
            },
            "colorscale": [
             [
              0.0,
              "#0d0887"
             ],
             [
              0.1111111111111111,
              "#46039f"
             ],
             [
              0.2222222222222222,
              "#7201a8"
             ],
             [
              0.3333333333333333,
              "#9c179e"
             ],
             [
              0.4444444444444444,
              "#bd3786"
             ],
             [
              0.5555555555555556,
              "#d8576b"
             ],
             [
              0.6666666666666666,
              "#ed7953"
             ],
             [
              0.7777777777777778,
              "#fb9f3a"
             ],
             [
              0.8888888888888888,
              "#fdca26"
             ],
             [
              1.0,
              "#f0f921"
             ]
            ],
            "type": "heatmap"
           }
          ],
          "heatmapgl": [
           {
            "colorbar": {
             "outlinewidth": 0,
             "ticks": ""
            },
            "colorscale": [
             [
              0.0,
              "#0d0887"
             ],
             [
              0.1111111111111111,
              "#46039f"
             ],
             [
              0.2222222222222222,
              "#7201a8"
             ],
             [
              0.3333333333333333,
              "#9c179e"
             ],
             [
              0.4444444444444444,
              "#bd3786"
             ],
             [
              0.5555555555555556,
              "#d8576b"
             ],
             [
              0.6666666666666666,
              "#ed7953"
             ],
             [
              0.7777777777777778,
              "#fb9f3a"
             ],
             [
              0.8888888888888888,
              "#fdca26"
             ],
             [
              1.0,
              "#f0f921"
             ]
            ],
            "type": "heatmapgl"
           }
          ],
          "histogram": [
           {
            "marker": {
             "pattern": {
              "fillmode": "overlay",
              "size": 10,
              "solidity": 0.2
             }
            },
            "type": "histogram"
           }
          ],
          "histogram2d": [
           {
            "colorbar": {
             "outlinewidth": 0,
             "ticks": ""
            },
            "colorscale": [
             [
              0.0,
              "#0d0887"
             ],
             [
              0.1111111111111111,
              "#46039f"
             ],
             [
              0.2222222222222222,
              "#7201a8"
             ],
             [
              0.3333333333333333,
              "#9c179e"
             ],
             [
              0.4444444444444444,
              "#bd3786"
             ],
             [
              0.5555555555555556,
              "#d8576b"
             ],
             [
              0.6666666666666666,
              "#ed7953"
             ],
             [
              0.7777777777777778,
              "#fb9f3a"
             ],
             [
              0.8888888888888888,
              "#fdca26"
             ],
             [
              1.0,
              "#f0f921"
             ]
            ],
            "type": "histogram2d"
           }
          ],
          "histogram2dcontour": [
           {
            "colorbar": {
             "outlinewidth": 0,
             "ticks": ""
            },
            "colorscale": [
             [
              0.0,
              "#0d0887"
             ],
             [
              0.1111111111111111,
              "#46039f"
             ],
             [
              0.2222222222222222,
              "#7201a8"
             ],
             [
              0.3333333333333333,
              "#9c179e"
             ],
             [
              0.4444444444444444,
              "#bd3786"
             ],
             [
              0.5555555555555556,
              "#d8576b"
             ],
             [
              0.6666666666666666,
              "#ed7953"
             ],
             [
              0.7777777777777778,
              "#fb9f3a"
             ],
             [
              0.8888888888888888,
              "#fdca26"
             ],
             [
              1.0,
              "#f0f921"
             ]
            ],
            "type": "histogram2dcontour"
           }
          ],
          "mesh3d": [
           {
            "colorbar": {
             "outlinewidth": 0,
             "ticks": ""
            },
            "type": "mesh3d"
           }
          ],
          "parcoords": [
           {
            "line": {
             "colorbar": {
              "outlinewidth": 0,
              "ticks": ""
             }
            },
            "type": "parcoords"
           }
          ],
          "pie": [
           {
            "automargin": true,
            "type": "pie"
           }
          ],
          "scatter": [
           {
            "marker": {
             "colorbar": {
              "outlinewidth": 0,
              "ticks": ""
             }
            },
            "type": "scatter"
           }
          ],
          "scatter3d": [
           {
            "line": {
             "colorbar": {
              "outlinewidth": 0,
              "ticks": ""
             }
            },
            "marker": {
             "colorbar": {
              "outlinewidth": 0,
              "ticks": ""
             }
            },
            "type": "scatter3d"
           }
          ],
          "scattercarpet": [
           {
            "marker": {
             "colorbar": {
              "outlinewidth": 0,
              "ticks": ""
             }
            },
            "type": "scattercarpet"
           }
          ],
          "scattergeo": [
           {
            "marker": {
             "colorbar": {
              "outlinewidth": 0,
              "ticks": ""
             }
            },
            "type": "scattergeo"
           }
          ],
          "scattergl": [
           {
            "marker": {
             "colorbar": {
              "outlinewidth": 0,
              "ticks": ""
             }
            },
            "type": "scattergl"
           }
          ],
          "scattermapbox": [
           {
            "marker": {
             "colorbar": {
              "outlinewidth": 0,
              "ticks": ""
             }
            },
            "type": "scattermapbox"
           }
          ],
          "scatterpolar": [
           {
            "marker": {
             "colorbar": {
              "outlinewidth": 0,
              "ticks": ""
             }
            },
            "type": "scatterpolar"
           }
          ],
          "scatterpolargl": [
           {
            "marker": {
             "colorbar": {
              "outlinewidth": 0,
              "ticks": ""
             }
            },
            "type": "scatterpolargl"
           }
          ],
          "scatterternary": [
           {
            "marker": {
             "colorbar": {
              "outlinewidth": 0,
              "ticks": ""
             }
            },
            "type": "scatterternary"
           }
          ],
          "surface": [
           {
            "colorbar": {
             "outlinewidth": 0,
             "ticks": ""
            },
            "colorscale": [
             [
              0.0,
              "#0d0887"
             ],
             [
              0.1111111111111111,
              "#46039f"
             ],
             [
              0.2222222222222222,
              "#7201a8"
             ],
             [
              0.3333333333333333,
              "#9c179e"
             ],
             [
              0.4444444444444444,
              "#bd3786"
             ],
             [
              0.5555555555555556,
              "#d8576b"
             ],
             [
              0.6666666666666666,
              "#ed7953"
             ],
             [
              0.7777777777777778,
              "#fb9f3a"
             ],
             [
              0.8888888888888888,
              "#fdca26"
             ],
             [
              1.0,
              "#f0f921"
             ]
            ],
            "type": "surface"
           }
          ],
          "table": [
           {
            "cells": {
             "fill": {
              "color": "#EBF0F8"
             },
             "line": {
              "color": "white"
             }
            },
            "header": {
             "fill": {
              "color": "#C8D4E3"
             },
             "line": {
              "color": "white"
             }
            },
            "type": "table"
           }
          ]
         },
         "layout": {
          "annotationdefaults": {
           "arrowcolor": "#2a3f5f",
           "arrowhead": 0,
           "arrowwidth": 1
          },
          "autotypenumbers": "strict",
          "coloraxis": {
           "colorbar": {
            "outlinewidth": 0,
            "ticks": ""
           }
          },
          "colorscale": {
           "diverging": [
            [
             0,
             "#8e0152"
            ],
            [
             0.1,
             "#c51b7d"
            ],
            [
             0.2,
             "#de77ae"
            ],
            [
             0.3,
             "#f1b6da"
            ],
            [
             0.4,
             "#fde0ef"
            ],
            [
             0.5,
             "#f7f7f7"
            ],
            [
             0.6,
             "#e6f5d0"
            ],
            [
             0.7,
             "#b8e186"
            ],
            [
             0.8,
             "#7fbc41"
            ],
            [
             0.9,
             "#4d9221"
            ],
            [
             1,
             "#276419"
            ]
           ],
           "sequential": [
            [
             0.0,
             "#0d0887"
            ],
            [
             0.1111111111111111,
             "#46039f"
            ],
            [
             0.2222222222222222,
             "#7201a8"
            ],
            [
             0.3333333333333333,
             "#9c179e"
            ],
            [
             0.4444444444444444,
             "#bd3786"
            ],
            [
             0.5555555555555556,
             "#d8576b"
            ],
            [
             0.6666666666666666,
             "#ed7953"
            ],
            [
             0.7777777777777778,
             "#fb9f3a"
            ],
            [
             0.8888888888888888,
             "#fdca26"
            ],
            [
             1.0,
             "#f0f921"
            ]
           ],
           "sequentialminus": [
            [
             0.0,
             "#0d0887"
            ],
            [
             0.1111111111111111,
             "#46039f"
            ],
            [
             0.2222222222222222,
             "#7201a8"
            ],
            [
             0.3333333333333333,
             "#9c179e"
            ],
            [
             0.4444444444444444,
             "#bd3786"
            ],
            [
             0.5555555555555556,
             "#d8576b"
            ],
            [
             0.6666666666666666,
             "#ed7953"
            ],
            [
             0.7777777777777778,
             "#fb9f3a"
            ],
            [
             0.8888888888888888,
             "#fdca26"
            ],
            [
             1.0,
             "#f0f921"
            ]
           ]
          },
          "colorway": [
           "#636efa",
           "#EF553B",
           "#00cc96",
           "#ab63fa",
           "#FFA15A",
           "#19d3f3",
           "#FF6692",
           "#B6E880",
           "#FF97FF",
           "#FECB52"
          ],
          "font": {
           "color": "#2a3f5f"
          },
          "geo": {
           "bgcolor": "white",
           "lakecolor": "white",
           "landcolor": "#E5ECF6",
           "showlakes": true,
           "showland": true,
           "subunitcolor": "white"
          },
          "hoverlabel": {
           "align": "left"
          },
          "hovermode": "closest",
          "mapbox": {
           "style": "light"
          },
          "paper_bgcolor": "white",
          "plot_bgcolor": "#E5ECF6",
          "polar": {
           "angularaxis": {
            "gridcolor": "white",
            "linecolor": "white",
            "ticks": ""
           },
           "bgcolor": "#E5ECF6",
           "radialaxis": {
            "gridcolor": "white",
            "linecolor": "white",
            "ticks": ""
           }
          },
          "scene": {
           "xaxis": {
            "backgroundcolor": "#E5ECF6",
            "gridcolor": "white",
            "gridwidth": 2,
            "linecolor": "white",
            "showbackground": true,
            "ticks": "",
            "zerolinecolor": "white"
           },
           "yaxis": {
            "backgroundcolor": "#E5ECF6",
            "gridcolor": "white",
            "gridwidth": 2,
            "linecolor": "white",
            "showbackground": true,
            "ticks": "",
            "zerolinecolor": "white"
           },
           "zaxis": {
            "backgroundcolor": "#E5ECF6",
            "gridcolor": "white",
            "gridwidth": 2,
            "linecolor": "white",
            "showbackground": true,
            "ticks": "",
            "zerolinecolor": "white"
           }
          },
          "shapedefaults": {
           "line": {
            "color": "#2a3f5f"
           }
          },
          "ternary": {
           "aaxis": {
            "gridcolor": "white",
            "linecolor": "white",
            "ticks": ""
           },
           "baxis": {
            "gridcolor": "white",
            "linecolor": "white",
            "ticks": ""
           },
           "bgcolor": "#E5ECF6",
           "caxis": {
            "gridcolor": "white",
            "linecolor": "white",
            "ticks": ""
           }
          },
          "title": {
           "x": 0.05
          },
          "xaxis": {
           "automargin": true,
           "gridcolor": "white",
           "linecolor": "white",
           "ticks": "",
           "title": {
            "standoff": 15
           },
           "zerolinecolor": "white",
           "zerolinewidth": 2
          },
          "yaxis": {
           "automargin": true,
           "gridcolor": "white",
           "linecolor": "white",
           "ticks": "",
           "title": {
            "standoff": 15
           },
           "zerolinecolor": "white",
           "zerolinewidth": 2
          }
         }
        },
        "font": {
         "size": 18
        },
        "xaxis": {
         "title": {
          "text": "Date"
         },
         "range": [
          "2021-01-01",
          "2022-03-06"
         ]
        },
        "title": {
         "text": "BTC Normalized Registrations"
        },
        "yaxis": {
         "title": {
          "text": "Registrations/BTC"
         }
        },
        "legend": {
         "title": {
          "text": "Legend Title"
         }
        },
        "hovermode": "x unified"
       },
       "config": {
        "plotlyServerURL": "https://plot.ly"
       }
      }
     },
     "metadata": {},
     "output_type": "display_data"
    }
   ],
   "source": [
    "import plotly.graph_objects as go\n",
    "from plotly.validators.scatter.marker import SymbolValidator\n",
    "import plotly.io as pio\n",
    "\n",
    "fig = go.Figure()\n",
    "\n",
    "fig.add_trace(go.Scatter(x=df[\"Registration Date\"], y=df[\"Registrations\"]/df[\"BTC Price\"],\n",
    "    name=\"Normalized Registrations\",  hovertext=df[[\"Registrations\", \"BTC Price\"]], hovertemplate=\" %{y}<br>Regs: %{hovertext[0]}<br>BTC Price: %{hovertext[1]:$,.0f}<br>\"\n",
    "))\n",
    "\n",
    "fig.add_trace(go.Scatter(x=df[\"Registration Date\"], y=df[\"Passed KYC\"]/df[\"BTC Price\"],\n",
    "                         name=\"Normalized KYC-Passed\", visible='legendonly',\n",
    "                         hovertext=df[\"Passed KYC\"], hovertemplate=\" %{y}<br>Passed KYC: %{hovertext}<br>\"\n",
    "                         ))\n",
    "\n",
    "fig.add_trace(go.Scatter(x=df[\"Registration Date\"], y=df[\"Made a Deposit\"]/df[\"BTC Price\"],\n",
    "                         name=\"Normalized Deposited\", visible='legendonly',\n",
    "                         hovertext=df[\"Made a Deposit\"], hovertemplate=\" %{y}<br>Made a Deposit: %{hovertext}<br>\"\n",
    "                         ))\n",
    "\n",
    "# ----- circle version on regs --------\n",
    "# fig.add_trace(go.Scatter(x=df_events[\"Registration Date\"], y=df_events[\"Registrations\"]/df_events[\"BTC Price\"],\n",
    "#                          name=\"Event\", mode='markers', marker=dict(size=12, line=dict(width=2, color='DarkSlateGrey')),\n",
    "#                          hovertext=df_events[\"Event\"]\n",
    "#                          ))\n",
    "fig.add_trace(go.Scatter(x=df_events[\"Registration Date\"], y=[.05 for _ in range(df_events[\"Registration Date\"].shape[0])],\n",
    "    name=\"Event\", mode='markers', marker_symbol=\"line-ns\", marker=dict(size=100000, line=dict(width=2, color='rgba(50, 56, 68, 0.5)')),\n",
    "    hovertext=df_events[\"Event\"], hovertemplate=\"%{hovertext}<br>Date: %{x}\", hoveron='points',\n",
    "))\n",
    "# hovertemplate=\"%{x}%{hover.text}\",\n",
    "# df_events[\"Registrations\"]/df_events[\"BTC Price\"]\n",
    "\n",
    "fig.update_layout(\n",
    "    title=\"BTC Normalized Registrations\",\n",
    "    xaxis_title=\"Date\",\n",
    "    yaxis_title=\"Registrations/BTC\",\n",
    "    legend_title=\"Legend Title\",\n",
    "    font=dict(size=18),\n",
    "    hovermode=\"x unified\",\n",
    "    xaxis_range=['2021-01-01', df[\"Registration Date\"][df[\"Registration Date\"].shape[0]-1]],\n",
    "    #template='plotly_dark'\n",
    ")\n",
    "\n",
    "fig.show()"
   ],
   "metadata": {
    "collapsed": false,
    "pycharm": {
     "name": "#%%\n"
    }
   }
  },
  {
   "cell_type": "code",
   "execution_count": null,
   "outputs": [],
   "source": [
    "\"<b>%{text}</b><br><br>\" +\n",
    "\"GDP per Capita: %{x:$,.0f}<br>\" +\n",
    "\"Life Expectation: %{y:.0%}<br>\" +\n",
    "\"Population: %{marker.size:,}\" +\n",
    "\"<extra></extra>\""
   ],
   "metadata": {
    "collapsed": false,
    "pycharm": {
     "name": "#%%\n"
    }
   }
  },
  {
   "cell_type": "code",
   "execution_count": 278,
   "outputs": [],
   "source": [
    "# write the file\n",
    "fig.write_html(\"index.html\")"
   ],
   "metadata": {
    "collapsed": false,
    "pycharm": {
     "name": "#%%\n"
    }
   }
  },
  {
   "cell_type": "code",
   "execution_count": null,
   "outputs": [],
   "source": [],
   "metadata": {
    "collapsed": false,
    "pycharm": {
     "name": "#%%\n"
    }
   }
  }
 ],
 "metadata": {
  "kernelspec": {
   "name": "python3910jvsc74a57bd01652b92314cb6b422721557bd99062dd50832c7da4d0d4007071b8155fa2b3f4",
   "language": "python",
   "display_name": "Python 3.9.10 ('base')"
  },
  "language_info": {
   "codemirror_mode": {
    "name": "ipython",
    "version": 2
   },
   "file_extension": ".py",
   "mimetype": "text/x-python",
   "name": "python",
   "nbconvert_exporter": "python",
   "pygments_lexer": "ipython2",
   "version": "2.7.6"
  }
 },
 "nbformat": 4,
 "nbformat_minor": 0
}